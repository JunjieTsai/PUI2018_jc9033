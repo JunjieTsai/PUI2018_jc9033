{
 "cells": [
  {
   "cell_type": "markdown",
   "metadata": {},
   "source": [
    "# IDEA\n",
    "### A (fictitious) implementation of an alternative bus route for (fictitious) bus line X8 improves circulation. \n",
    "# Significance threshold\n",
    "### Significance level  α=0.05, which means I want the probability of getting a result at least as significant as mine to be less then 5%.\n",
    "# Null hypothesis\n",
    "### The circulation time of the new bus route is the same or longer than the circulation time of the original bus route.\n",
    "### H0: ${Time{\\mathrm{new}}} >= {Time{\\mathrm{old}}}$\n",
    "\n",
    "# Alternate hypothesis\n",
    "### The circulation time of the new bus route is shorter than the circulation time of the original bus route.\n",
    "### H0: ${Time{\\mathrm{new}}} < {Time{\\mathrm{old}}}$"
   ]
  },
  {
   "cell_type": "code",
   "execution_count": 1,
   "metadata": {},
   "outputs": [
    {
     "name": "stdout",
     "output_type": "stream",
     "text": [
      "Populating the interactive namespace from numpy and matplotlib\n"
     ]
    }
   ],
   "source": [
    "import os\n",
    "import numpy as np\n",
    "import pylab as pl\n",
    "import pandas as pd\n",
    "%pylab inline"
   ]
  },
  {
   "cell_type": "markdown",
   "metadata": {},
   "source": [
    "# Original bus route"
   ]
  },
  {
   "cell_type": "code",
   "execution_count": 2,
   "metadata": {},
   "outputs": [],
   "source": [
    "np.random.seed(1994)\n",
    "Mean_o = 36\n",
    "std_o = 6\n",
    "T_o = np.random.normal(Mean_o,std_o,100)"
   ]
  },
  {
   "cell_type": "code",
   "execution_count": 3,
   "metadata": {},
   "outputs": [
    {
     "data": {
      "text/plain": [
       "<matplotlib.text.Text at 0x7f77c6879910>"
      ]
     },
     "execution_count": 3,
     "metadata": {},
     "output_type": "execute_result"
    },
    {
     "data": {
      "image/png": "[encoded data removed]",
      "text/plain": [
       "<matplotlib.figure.Figure at 0x7f77c88bf510>"
      ]
     },
     "metadata": {},
     "output_type": "display_data"
    }
   ],
   "source": [
    "pl.figure(figsize(5,5))\n",
    "pl.hist(T_o)\n",
    "pl.title(\"Circulation time histogram of Original Bus Route\", fontsize = 14)\n",
    "pl.xlabel('Circulation time', fontsize = 14)\n",
    "pl.ylabel('Bus Numbers', fontsize = 14)"
   ]
  },
  {
   "cell_type": "markdown",
   "metadata": {},
   "source": [
    "** Figure 1: Circulation time statistics of Original Bus Route, which has a mean of 36 and standard deviation of 6. **"
   ]
  },
  {
   "cell_type": "markdown",
   "metadata": {},
   "source": [
    "# New bus route"
   ]
  },
  {
   "cell_type": "code",
   "execution_count": 4,
   "metadata": {},
   "outputs": [
    {
     "name": "stdout",
     "output_type": "stream",
     "text": [
      "  % Total    % Received % Xferd  Average Speed   Time    Time     Time  Current\n",
      "                                 Dload  Upload   Total   Spent    Left  Speed\n",
      "100  1179  100  1179    0     0   8167      0 --:--:-- --:--:-- --:--:--  8187\n"
     ]
    }
   ],
   "source": [
    "!curl \"https://raw.githubusercontent.com/fedhere/PUI2018_fb55/master/Lab4_fb55/times.txt\" > times.csv\n",
    "#!mv times.csv $PUIDATA\n",
    "#!ls $PUIDATA"
   ]
  },
  {
   "cell_type": "code",
   "execution_count": 5,
   "metadata": {},
   "outputs": [
    {
     "name": "stdout",
     "output_type": "stream",
     "text": [
      "           0\n",
      "0  31.622239\n",
      "1  32.821376\n",
      "2  30.229101\n",
      "            0\n",
      "97  33.731470\n",
      "98  37.238591\n",
      "99  36.339841\n"
     ]
    },
    {
     "data": {
      "text/plain": [
       "pandas.core.frame.DataFrame"
      ]
     },
     "execution_count": 5,
     "metadata": {},
     "output_type": "execute_result"
    }
   ],
   "source": [
    "T_n = pd.read_csv(\"times.csv\",header=None)\n",
    "print(T_n.head(3))\n",
    "print(T_n.tail(3))\n",
    "type(T_n)"
   ]
  },
  {
   "cell_type": "code",
   "execution_count": 6,
   "metadata": {},
   "outputs": [
    {
     "data": {
      "text/plain": [
       "<matplotlib.text.Text at 0x7f77c67a46d0>"
      ]
     },
     "execution_count": 6,
     "metadata": {},
     "output_type": "execute_result"
    },
    {
     "data": {
      "image/png": "[encoded data removed]",
      "text/plain": [
       "<matplotlib.figure.Figure at 0x7f77c67dadd0>"
      ]
     },
     "metadata": {},
     "output_type": "display_data"
    }
   ],
   "source": [
    "pl.figure(figsize(5,5))\n",
    "pl.hist(T_n)\n",
    "pl.title(\"Circulation time histogram of New Bus Route\", fontsize = 14)\n",
    "pl.xlabel('Circulation time', fontsize = 14)\n",
    "pl.ylabel('Bus Numbers', fontsize = 14)"
   ]
  },
  {
   "cell_type": "markdown",
   "metadata": {},
   "source": [
    "** Figure 2: Circulation time statistics of New Bus Route. **"
   ]
  },
  {
   "cell_type": "code",
   "execution_count": 7,
   "metadata": {},
   "outputs": [
    {
     "name": "stdout",
     "output_type": "stream",
     "text": [
      "The Z statistics value is 2.556397\n"
     ]
    }
   ],
   "source": [
    "Mean_n = T_n.mean()\n",
    "Num_n = T_n.count()\n",
    "\n",
    "z = (Mean_o - Mean_n) / (std_o / Num_n ** 0.5)\n",
    "\n",
    "print(\"The Z statistics value is %f\" %z[0])"
   ]
  },
  {
   "cell_type": "markdown",
   "metadata": {},
   "source": [
    "# Analysis and Conclusion\n",
    "### Z statistics value = 2.56, while the Significance level α=0.05. Z > α.\n",
    "### Therefore, the null hypothesis is rejected. In other words, the circulation time of the new bus route is shorter than the circulation time of the original bus route.\n",
    "### In conclusion, the (fictitious) implementation of the alternative bus route for (fictitious) bus line X8 improves circulation. "
   ]
  }
 ],
 "metadata": {
  "kernelspec": {
   "display_name": "PUI2016_Python2",
   "language": "python",
   "name": "pui2016_python2"
  },
  "language_info": {
   "codemirror_mode": {
    "name": "ipython",
    "version": 2
   },
   "file_extension": ".py",
   "mimetype": "text/x-python",
   "name": "python",
   "nbconvert_exporter": "python",
   "pygments_lexer": "ipython2",
   "version": "2.7.12"
  }
 },
 "nbformat": 4,
 "nbformat_minor": 2
}
