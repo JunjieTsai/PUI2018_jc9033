{
 "cells": [
  {
   "cell_type": "markdown",
   "metadata": {},
   "source": [
    "# The Relationship between the Traffic Layout Mode and the Public Service Layout Mode of Manhattan <Junjie Cai, JunjieTsai, jc9033>\n",
    "### PUI2018 Extra Credit Project"
   ]
  },
  {
   "cell_type": "markdown",
   "metadata": {},
   "source": [
    "### This analysis is designed explore how the traffic layout mode relate to public service layout mode in Manhattan.\n",
    "\n",
    "### Idea: \n",
    "The functional space of a city can be interpreted hierarchically as layers, with complex connections among them. These layers form a integrated urban space together. For example, the public service facilities make up a layer and the transportation facilities make up another layer, and this article is devoted to studying the connections between them. \n",
    "\n",
    "### Objective: \n",
    "study the mechanism of urban structure generation by relating the traffic layout mode to the public service layout mode.\n",
    "\t\n",
    "### Quantitative indicators: \n",
    "the distribution of POI is used to indicate the public service layout mode; <br>\n",
    "the distributions of bus stations and subway stations are used to indicate the traffic layout mode.\n",
    "\t\n",
    "### Hypothesis: \n",
    "the public service layout mode is correlated with the traffic layout mode in Manhattan, NYC.\n",
    "\n"
   ]
  },
  {
   "cell_type": "code",
   "execution_count": 1,
   "metadata": {},
   "outputs": [
    {
     "name": "stdout",
     "output_type": "stream",
     "text": [
      "Populating the interactive namespace from numpy and matplotlib\n"
     ]
    },
    {
     "name": "stderr",
     "output_type": "stream",
     "text": [
      "/usr/local/Anaconda3-5.0.0-Linux-x86_64/envs/PUI2016_Python3/lib/python3.5/site-packages/IPython/core/magics/pylab.py:161: UserWarning: pylab import has clobbered these variables: ['plt']\n",
      "`%matplotlib` prevents importing * from pylab and numpy\n",
      "  \"\\n`%matplotlib` prevents importing * from pylab and numpy\"\n"
     ]
    }
   ],
   "source": [
    "from __future__ import print_function, division\n",
    "import pandas as pd\n",
    "import numpy as np\n",
    "\n",
    "import io\n",
    "import os\n",
    "import requests\n",
    "import shapely\n",
    "import json\n",
    "import urllib\n",
    "\n",
    "import geopandas as gpd\n",
    "from fiona.crs import from_epsg\n",
    "\n",
    "import scipy as sp\n",
    "from scipy import stats\n",
    "from scipy import ndimage\n",
    "\n",
    "import pylab as pl\n",
    "import matplotlib.pylab as plt\n",
    "\n",
    "%pylab inline\n",
    "%matplotlib inline"
   ]
  },
  {
   "cell_type": "markdown",
   "metadata": {},
   "source": [
    "# 1. process datasets"
   ]
  },
  {
   "cell_type": "markdown",
   "metadata": {},
   "source": [
    "## 1.1 zipcode shpfie"
   ]
  },
  {
   "cell_type": "code",
   "execution_count": 2,
   "metadata": {
    "scrolled": true
   },
   "outputs": [
    {
     "name": "stdout",
     "output_type": "stream",
     "text": [
      "mkdir: cannot create directory ‘/nfshome/jc9033/PUIdata/zipcode’: File exists\n",
      "Archive:  zipcode_file.gz\n",
      "  inflating: /nfshome/jc9033/PUIdata/zipcode/ZIP_CODE_040114.shx  \n",
      "  inflating: /nfshome/jc9033/PUIdata/zipcode/ZIP_CODE_040114.dbf  \n",
      "  inflating: /nfshome/jc9033/PUIdata/zipcode/ZIP_CODE_040114.prj  \n",
      "  inflating: /nfshome/jc9033/PUIdata/zipcode/ZIP_CODE_040114.sbn  \n",
      "  inflating: /nfshome/jc9033/PUIdata/zipcode/ZIP_CODE_040114.sbx  \n",
      "  inflating: /nfshome/jc9033/PUIdata/zipcode/ZIP_CODE_040114.shp  \n",
      "  inflating: /nfshome/jc9033/PUIdata/zipcode/ZIP_CODE_040114.shp.xml  \n"
     ]
    }
   ],
   "source": [
    "url = \"https://data.cityofnewyork.us/api/views/i8iw-xf4u/files/YObIR0MbpUVA0EpQzZSq5x55FzKGM2ejSeahdvjqR20?filename=ZIP_CODE_040114.zip\"\n",
    "urllib.request.urlretrieve(url, \"zipcode_file.gz\")\n",
    "!mkdir $PUIDATA/zipcode\n",
    "!unzip -o zipcode_file.gz -d $PUIDATA/zipcode"
   ]
  },
  {
   "cell_type": "code",
   "execution_count": 3,
   "metadata": {},
   "outputs": [
    {
     "name": "stdout",
     "output_type": "stream",
     "text": [
      "(112, 4)\n"
     ]
    },
    {
     "data": {
      "text/html": [
       "<div>\n",
       "<table border=\"1\" class=\"dataframe\">\n",
       "  <thead>\n",
       "    <tr style=\"text-align: right;\">\n",
       "      <th></th>\n",
       "      <th>ZIPCODE</th>\n",
       "      <th>POPULATION</th>\n",
       "      <th>AREA</th>\n",
       "      <th>geometry</th>\n",
       "    </tr>\n",
       "  </thead>\n",
       "  <tbody>\n",
       "    <tr>\n",
       "      <th>19</th>\n",
       "      <td>10463</td>\n",
       "      <td>70641.0</td>\n",
       "      <td>3.119702e+06</td>\n",
       "      <td>POLYGON ((1007634.817063555 258290.334846884, ...</td>\n",
       "    </tr>\n",
       "    <tr>\n",
       "      <th>21</th>\n",
       "      <td>10034</td>\n",
       "      <td>39149.0</td>\n",
       "      <td>2.450389e+07</td>\n",
       "      <td>POLYGON ((1006203.169008225 257345.6566181332,...</td>\n",
       "    </tr>\n",
       "    <tr>\n",
       "      <th>22</th>\n",
       "      <td>10033</td>\n",
       "      <td>54284.0</td>\n",
       "      <td>1.615605e+07</td>\n",
       "      <td>POLYGON ((1003020.86467731 256049.1618358046, ...</td>\n",
       "    </tr>\n",
       "  </tbody>\n",
       "</table>\n",
       "</div>"
      ],
      "text/plain": [
       "   ZIPCODE  POPULATION          AREA  \\\n",
       "19   10463     70641.0  3.119702e+06   \n",
       "21   10034     39149.0  2.450389e+07   \n",
       "22   10033     54284.0  1.615605e+07   \n",
       "\n",
       "                                             geometry  \n",
       "19  POLYGON ((1007634.817063555 258290.334846884, ...  \n",
       "21  POLYGON ((1006203.169008225 257345.6566181332,...  \n",
       "22  POLYGON ((1003020.86467731 256049.1618358046, ...  "
      ]
     },
     "execution_count": 3,
     "metadata": {},
     "output_type": "execute_result"
    }
   ],
   "source": [
    "zipcode = gpd.GeoDataFrame.from_file(os.getenv(\"PUIDATA\") + \"/zipcode/ZIP_CODE_040114.shp\")\n",
    "zipcode = zipcode[zipcode['COUNTY'] == 'New York']\n",
    "zipcode = zipcode[['ZIPCODE', 'POPULATION', 'AREA', 'geometry']]\n",
    "zipcode.crs = from_epsg(2263)\n",
    "#zipcode.crs = from_epsg(4326)\n",
    "#zipcode.crs = zipcode.to_crs(epsg=2263) \n",
    "print(zipcode.shape)\n",
    "zipcode.head(3)"
   ]
  },
  {
   "cell_type": "code",
   "execution_count": 4,
   "metadata": {},
   "outputs": [
    {
     "data": {
      "text/plain": [
       "<matplotlib.axes._subplots.AxesSubplot at 0x7faf29b173c8>"
      ]
     },
     "execution_count": 4,
     "metadata": {},
     "output_type": "execute_result"
    },
    {
     "data": {
      "image/png": "[encoded data removed]",
      "text/plain": [
       "<matplotlib.figure.Figure at 0x7faf5c49eac8>"
      ]
     },
     "metadata": {},
     "output_type": "display_data"
    }
   ],
   "source": [
    "zipcode.plot()"
   ]
  },
  {
   "cell_type": "markdown",
   "metadata": {},
   "source": [
    "## 1.2 POI shpfile"
   ]
  },
  {
   "cell_type": "code",
   "execution_count": 5,
   "metadata": {},
   "outputs": [
    {
     "name": "stdout",
     "output_type": "stream",
     "text": [
      "mkdir: cannot create directory ‘/nfshome/jc9033/PUIdata/POI’: File exists\n",
      "Archive:  POI_file.gz\n",
      "  inflating: /nfshome/jc9033/PUIdata/POI/geo_export_5abc45d9-039a-4e1e-a73f-1186d1df4556.dbf  \n",
      "  inflating: /nfshome/jc9033/PUIdata/POI/geo_export_5abc45d9-039a-4e1e-a73f-1186d1df4556.shp  \n",
      "  inflating: /nfshome/jc9033/PUIdata/POI/geo_export_5abc45d9-039a-4e1e-a73f-1186d1df4556.shx  \n",
      "  inflating: /nfshome/jc9033/PUIdata/POI/geo_export_5abc45d9-039a-4e1e-a73f-1186d1df4556.prj  \n"
     ]
    }
   ],
   "source": [
    "url = \"https://data.cityofnewyork.us/api/geospatial/rxuy-2muj?method=export&format=Shapefile\"\n",
    "urllib.request.urlretrieve(url, \"POI_file.gz\")\n",
    "!mkdir $PUIDATA/POI\n",
    "!unzip -d $PUIDATA/POI POI_file.gz"
   ]
  },
  {
   "cell_type": "code",
   "execution_count": 6,
   "metadata": {},
   "outputs": [
    {
     "name": "stdout",
     "output_type": "stream",
     "text": [
      "(5777, 2)\n"
     ]
    },
    {
     "data": {
      "text/html": [
       "<div>\n",
       "<table border=\"1\" class=\"dataframe\">\n",
       "  <thead>\n",
       "    <tr style=\"text-align: right;\">\n",
       "      <th></th>\n",
       "      <th>POI_borough</th>\n",
       "      <th>geometry</th>\n",
       "    </tr>\n",
       "  </thead>\n",
       "  <tbody>\n",
       "    <tr>\n",
       "      <th>22</th>\n",
       "      <td>1</td>\n",
       "      <td>POINT (989104.3522338871 226715.9110106869)</td>\n",
       "    </tr>\n",
       "    <tr>\n",
       "      <th>24</th>\n",
       "      <td>1</td>\n",
       "      <td>POINT (1002439.031799316 240947.530395451)</td>\n",
       "    </tr>\n",
       "    <tr>\n",
       "      <th>25</th>\n",
       "      <td>1</td>\n",
       "      <td>POINT (991170.0405883786 201159.453613225)</td>\n",
       "    </tr>\n",
       "  </tbody>\n",
       "</table>\n",
       "</div>"
      ],
      "text/plain": [
       "    POI_borough                                     geometry\n",
       "22            1  POINT (989104.3522338871 226715.9110106869)\n",
       "24            1   POINT (1002439.031799316 240947.530395451)\n",
       "25            1   POINT (991170.0405883786 201159.453613225)"
      ]
     },
     "execution_count": 6,
     "metadata": {},
     "output_type": "execute_result"
    }
   ],
   "source": [
    "POI = gpd.GeoDataFrame.from_file(os.getenv(\"PUIDATA\") + \"/POI/geo_export_87f05754-f29b-4dc2-a82d-5c9479f324f2.shp\")\n",
    "POI.crs = from_epsg(4326)\n",
    "POI = POI.to_crs(epsg=2263)\n",
    "POI = POI[['borough','geometry']]\n",
    "POI.dropna(inplace=True)\n",
    "POI['borough'] = POI['borough'].astype(int)\n",
    "POI = POI[POI['borough'] == 1]\n",
    "POI.columns = ['POI_borough','geometry']\n",
    "print(POI.shape)\n",
    "POI.head(3)"
   ]
  },
  {
   "cell_type": "code",
   "execution_count": 7,
   "metadata": {},
   "outputs": [
    {
     "data": {
      "text/plain": [
       "<matplotlib.axes._subplots.AxesSubplot at 0x7faf29b5a9e8>"
      ]
     },
     "execution_count": 7,
     "metadata": {},
     "output_type": "execute_result"
    },
    {
     "data": {
      "image/png": "[encoded data removed]",
      "text/plain": [
       "<matplotlib.figure.Figure at 0x7faf29b359b0>"
      ]
     },
     "metadata": {},
     "output_type": "display_data"
    }
   ],
   "source": [
    "POI.plot()"
   ]
  },
  {
   "cell_type": "markdown",
   "metadata": {},
   "source": [
    "## 1.3 Subway station shpfile"
   ]
  },
  {
   "cell_type": "code",
   "execution_count": 8,
   "metadata": {},
   "outputs": [
    {
     "name": "stdout",
     "output_type": "stream",
     "text": [
      "mkdir: cannot create directory ‘/nfshome/jc9033/PUIdata/subway’: File exists\n",
      "Archive:  subway_file.gz\n",
      "  inflating: /nfshome/jc9033/PUIdata/subway/geo_export_1bfae396-31df-476c-afd9-5a89e8c6c4ea.dbf  \n",
      "  inflating: /nfshome/jc9033/PUIdata/subway/geo_export_1bfae396-31df-476c-afd9-5a89e8c6c4ea.shp  \n",
      "  inflating: /nfshome/jc9033/PUIdata/subway/geo_export_1bfae396-31df-476c-afd9-5a89e8c6c4ea.shx  \n",
      "  inflating: /nfshome/jc9033/PUIdata/subway/geo_export_1bfae396-31df-476c-afd9-5a89e8c6c4ea.prj  \n"
     ]
    }
   ],
   "source": [
    "url = \"https://data.cityofnewyork.us/api/geospatial/arq3-7z49?method=export&format=Shapefile\"\n",
    "urllib.request.urlretrieve(url, \"subway_file.gz\")\n",
    "!mkdir $PUIDATA/subway\n",
    "!unzip -d $PUIDATA/subway subway_file.gz"
   ]
  },
  {
   "cell_type": "code",
   "execution_count": 9,
   "metadata": {},
   "outputs": [
    {
     "name": "stdout",
     "output_type": "stream",
     "text": [
      "(473, 2)\n"
     ]
    },
    {
     "data": {
      "text/html": [
       "<div>\n",
       "<table border=\"1\" class=\"dataframe\">\n",
       "  <thead>\n",
       "    <tr style=\"text-align: right;\">\n",
       "      <th></th>\n",
       "      <th>geometry</th>\n",
       "      <th>subway_id</th>\n",
       "    </tr>\n",
       "  </thead>\n",
       "  <tbody>\n",
       "    <tr>\n",
       "      <th>0</th>\n",
       "      <td>POINT (986725.0019278985 205255.0527942391)</td>\n",
       "      <td>1.0</td>\n",
       "    </tr>\n",
       "    <tr>\n",
       "      <th>1</th>\n",
       "      <td>POINT (984196.5000951464 201155.8398640769)</td>\n",
       "      <td>2.0</td>\n",
       "    </tr>\n",
       "    <tr>\n",
       "      <th>2</th>\n",
       "      <td>POINT (988724.2161053148 216795.1908031626)</td>\n",
       "      <td>3.0</td>\n",
       "    </tr>\n",
       "  </tbody>\n",
       "</table>\n",
       "</div>"
      ],
      "text/plain": [
       "                                      geometry  subway_id\n",
       "0  POINT (986725.0019278985 205255.0527942391)        1.0\n",
       "1  POINT (984196.5000951464 201155.8398640769)        2.0\n",
       "2  POINT (988724.2161053148 216795.1908031626)        3.0"
      ]
     },
     "execution_count": 9,
     "metadata": {},
     "output_type": "execute_result"
    }
   ],
   "source": [
    "subway = gpd.GeoDataFrame.from_file(os.getenv(\"PUIDATA\") + \"/subway/geo_export_539576af-15f9-411d-9278-96f70d266f16.shp\")\n",
    "subway = subway[['geometry','objectid']]\n",
    "subway.columns = ['geometry','subway_id']\n",
    "subway.crs = from_epsg(4326)\n",
    "subway = subway.to_crs(epsg=2263)\n",
    "print(subway.shape)\n",
    "subway.head(3)"
   ]
  },
  {
   "cell_type": "code",
   "execution_count": 10,
   "metadata": {},
   "outputs": [
    {
     "data": {
      "text/plain": [
       "<matplotlib.axes._subplots.AxesSubplot at 0x7faf26cd52b0>"
      ]
     },
     "execution_count": 10,
     "metadata": {},
     "output_type": "execute_result"
    },
    {
     "data": {
      "image/png": "[encoded data removed]",
      "text/plain": [
       "<matplotlib.figure.Figure at 0x7faf26c8ff28>"
      ]
     },
     "metadata": {},
     "output_type": "display_data"
    }
   ],
   "source": [
    "subway.plot()"
   ]
  },
  {
   "cell_type": "code",
   "execution_count": 11,
   "metadata": {},
   "outputs": [
    {
     "name": "stdout",
     "output_type": "stream",
     "text": [
      "(152, 2)\n"
     ]
    },
    {
     "data": {
      "text/html": [
       "<div>\n",
       "<table border=\"1\" class=\"dataframe\">\n",
       "  <thead>\n",
       "    <tr style=\"text-align: right;\">\n",
       "      <th></th>\n",
       "      <th>geometry</th>\n",
       "      <th>subway_id</th>\n",
       "    </tr>\n",
       "  </thead>\n",
       "  <tbody>\n",
       "    <tr>\n",
       "      <th>0</th>\n",
       "      <td>POINT (986725.0019278985 205255.0527942391)</td>\n",
       "      <td>1.0</td>\n",
       "    </tr>\n",
       "    <tr>\n",
       "      <th>104</th>\n",
       "      <td>POINT (987034.9461898913 206937.932958669)</td>\n",
       "      <td>105.0</td>\n",
       "    </tr>\n",
       "    <tr>\n",
       "      <th>370</th>\n",
       "      <td>POINT (987039.020328727 202831.4349380784)</td>\n",
       "      <td>371.0</td>\n",
       "    </tr>\n",
       "  </tbody>\n",
       "</table>\n",
       "</div>"
      ],
      "text/plain": [
       "                                        geometry  subway_id\n",
       "0    POINT (986725.0019278985 205255.0527942391)        1.0\n",
       "104   POINT (987034.9461898913 206937.932958669)      105.0\n",
       "370   POINT (987039.020328727 202831.4349380784)      371.0"
      ]
     },
     "execution_count": 11,
     "metadata": {},
     "output_type": "execute_result"
    }
   ],
   "source": [
    "subway = gpd.sjoin(subway, zipcode, how=\"inner\")[['geometry', 'subway_id']]\n",
    "print(subway.shape)\n",
    "subway.head(3)"
   ]
  },
  {
   "cell_type": "code",
   "execution_count": 12,
   "metadata": {},
   "outputs": [
    {
     "data": {
      "text/plain": [
       "<matplotlib.axes._subplots.AxesSubplot at 0x7faf26d1e6d8>"
      ]
     },
     "execution_count": 12,
     "metadata": {},
     "output_type": "execute_result"
    },
    {
     "data": {
      "image/png": "[encoded data removed]",
      "text/plain": [
       "<matplotlib.figure.Figure at 0x7faf26d32748>"
      ]
     },
     "metadata": {},
     "output_type": "display_data"
    }
   ],
   "source": [
    "subway.plot()"
   ]
  },
  {
   "cell_type": "markdown",
   "metadata": {},
   "source": [
    "## 1.4 Bus station shpfile"
   ]
  },
  {
   "cell_type": "code",
   "execution_count": 13,
   "metadata": {},
   "outputs": [
    {
     "name": "stdout",
     "output_type": "stream",
     "text": [
      "mkdir: cannot create directory ‘/nfshome/jc9033/PUIdata/bus’: File exists\n",
      "Archive:  bus_file.gz\n",
      "  inflating: /nfshome/jc9033/PUIdata/bus/geo_export_7b6eea8c-16ac-476c-bb74-b7432e992f47.dbf  \n",
      "  inflating: /nfshome/jc9033/PUIdata/bus/geo_export_7b6eea8c-16ac-476c-bb74-b7432e992f47.shp  \n",
      "  inflating: /nfshome/jc9033/PUIdata/bus/geo_export_7b6eea8c-16ac-476c-bb74-b7432e992f47.shx  \n",
      "  inflating: /nfshome/jc9033/PUIdata/bus/geo_export_7b6eea8c-16ac-476c-bb74-b7432e992f47.prj  \n"
     ]
    }
   ],
   "source": [
    "url = \"https://data.cityofnewyork.us/api/geospatial/qafz-7myz?method=export&format=Shapefile\"\n",
    "urllib.request.urlretrieve(url, \"bus_file.gz\")\n",
    "!mkdir $PUIDATA/bus\n",
    "!unzip -d $PUIDATA/bus bus_file.gz"
   ]
  },
  {
   "cell_type": "code",
   "execution_count": 14,
   "metadata": {},
   "outputs": [
    {
     "name": "stdout",
     "output_type": "stream",
     "text": [
      "(3428, 2)\n"
     ]
    },
    {
     "data": {
      "text/html": [
       "<div>\n",
       "<table border=\"1\" class=\"dataframe\">\n",
       "  <thead>\n",
       "    <tr style=\"text-align: right;\">\n",
       "      <th></th>\n",
       "      <th>bus_id</th>\n",
       "      <th>geometry</th>\n",
       "    </tr>\n",
       "  </thead>\n",
       "  <tbody>\n",
       "    <tr>\n",
       "      <th>0</th>\n",
       "      <td>1.0</td>\n",
       "      <td>POINT (998713.9845957432 196791.4612668745)</td>\n",
       "    </tr>\n",
       "    <tr>\n",
       "      <th>1</th>\n",
       "      <td>2.0</td>\n",
       "      <td>POINT (999451.1694101784 201267.7107736471)</td>\n",
       "    </tr>\n",
       "    <tr>\n",
       "      <th>2</th>\n",
       "      <td>3.0</td>\n",
       "      <td>POINT (999282.6626072562 195394.2365739072)</td>\n",
       "    </tr>\n",
       "  </tbody>\n",
       "</table>\n",
       "</div>"
      ],
      "text/plain": [
       "   bus_id                                     geometry\n",
       "0     1.0  POINT (998713.9845957432 196791.4612668745)\n",
       "1     2.0  POINT (999451.1694101784 201267.7107736471)\n",
       "2     3.0  POINT (999282.6626072562 195394.2365739072)"
      ]
     },
     "execution_count": 14,
     "metadata": {},
     "output_type": "execute_result"
    }
   ],
   "source": [
    "bus = gpd.GeoDataFrame.from_file(os.getenv(\"PUIDATA\") + \"/bus/geo_export_85792e91-7386-4102-9317-caa2249ff1eb.shp\")\n",
    "bus = bus[['asset_id', 'geometry']]\n",
    "bus.columns = ['bus_id', 'geometry']\n",
    "bus.crs = from_epsg(4326)\n",
    "bus = bus.to_crs(epsg=2263)\n",
    "print(bus.shape)\n",
    "bus.head(3)"
   ]
  },
  {
   "cell_type": "code",
   "execution_count": 15,
   "metadata": {},
   "outputs": [
    {
     "data": {
      "text/plain": [
       "<matplotlib.axes._subplots.AxesSubplot at 0x7faf26cce0b8>"
      ]
     },
     "execution_count": 15,
     "metadata": {},
     "output_type": "execute_result"
    },
    {
     "data": {
      "image/png": "[encoded data removed]",
      "text/plain": [
       "<matplotlib.figure.Figure at 0x7faf26d0d860>"
      ]
     },
     "metadata": {},
     "output_type": "display_data"
    }
   ],
   "source": [
    "bus.plot()"
   ]
  },
  {
   "cell_type": "code",
   "execution_count": 16,
   "metadata": {},
   "outputs": [
    {
     "name": "stdout",
     "output_type": "stream",
     "text": [
      "(755, 2)\n"
     ]
    },
    {
     "data": {
      "text/html": [
       "<div>\n",
       "<table border=\"1\" class=\"dataframe\">\n",
       "  <thead>\n",
       "    <tr style=\"text-align: right;\">\n",
       "      <th></th>\n",
       "      <th>geometry</th>\n",
       "      <th>bus_id</th>\n",
       "    </tr>\n",
       "  </thead>\n",
       "  <tbody>\n",
       "    <tr>\n",
       "      <th>903</th>\n",
       "      <td>POINT (987048.9820783393 207785.7335819595)</td>\n",
       "      <td>904.0</td>\n",
       "    </tr>\n",
       "    <tr>\n",
       "      <th>1563</th>\n",
       "      <td>POINT (986159.9966711717 207305.0940948088)</td>\n",
       "      <td>1564.0</td>\n",
       "    </tr>\n",
       "    <tr>\n",
       "      <th>1564</th>\n",
       "      <td>POINT (987714.2675982895 206518.31025707)</td>\n",
       "      <td>1565.0</td>\n",
       "    </tr>\n",
       "  </tbody>\n",
       "</table>\n",
       "</div>"
      ],
      "text/plain": [
       "                                         geometry  bus_id\n",
       "903   POINT (987048.9820783393 207785.7335819595)   904.0\n",
       "1563  POINT (986159.9966711717 207305.0940948088)  1564.0\n",
       "1564    POINT (987714.2675982895 206518.31025707)  1565.0"
      ]
     },
     "execution_count": 16,
     "metadata": {},
     "output_type": "execute_result"
    }
   ],
   "source": [
    "bus = gpd.sjoin(bus, zipcode, how=\"inner\")[['geometry', 'bus_id']]\n",
    "print(bus.shape)\n",
    "bus.head(3)"
   ]
  },
  {
   "cell_type": "code",
   "execution_count": 17,
   "metadata": {},
   "outputs": [
    {
     "data": {
      "text/plain": [
       "<matplotlib.axes._subplots.AxesSubplot at 0x7faf26ead128>"
      ]
     },
     "execution_count": 17,
     "metadata": {},
     "output_type": "execute_result"
    },
    {
     "data": {
      "image/png": "[encoded data removed]",
      "text/plain": [
       "<matplotlib.figure.Figure at 0x7faf26d7d978>"
      ]
     },
     "metadata": {},
     "output_type": "display_data"
    }
   ],
   "source": [
    "bus.plot()"
   ]
  },
  {
   "cell_type": "markdown",
   "metadata": {},
   "source": [
    "## 1.5 Generate all traffic station points"
   ]
  },
  {
   "cell_type": "code",
   "execution_count": 18,
   "metadata": {},
   "outputs": [
    {
     "name": "stdout",
     "output_type": "stream",
     "text": [
      "(907, 2)\n"
     ]
    },
    {
     "data": {
      "text/html": [
       "<div>\n",
       "<table border=\"1\" class=\"dataframe\">\n",
       "  <thead>\n",
       "    <tr style=\"text-align: right;\">\n",
       "      <th></th>\n",
       "      <th>TrafficStation</th>\n",
       "      <th>geometry</th>\n",
       "    </tr>\n",
       "  </thead>\n",
       "  <tbody>\n",
       "    <tr>\n",
       "      <th>0</th>\n",
       "      <td>903</td>\n",
       "      <td>POINT (987048.9820783393 207785.7335819595)</td>\n",
       "    </tr>\n",
       "    <tr>\n",
       "      <th>1</th>\n",
       "      <td>1563</td>\n",
       "      <td>POINT (986159.9966711717 207305.0940948088)</td>\n",
       "    </tr>\n",
       "    <tr>\n",
       "      <th>2</th>\n",
       "      <td>1564</td>\n",
       "      <td>POINT (987714.2675982895 206518.31025707)</td>\n",
       "    </tr>\n",
       "    <tr>\n",
       "      <th>3</th>\n",
       "      <td>1664</td>\n",
       "      <td>POINT (986602.7137353685 203035.5358111775)</td>\n",
       "    </tr>\n",
       "    <tr>\n",
       "      <th>4</th>\n",
       "      <td>1748</td>\n",
       "      <td>POINT (987327.1198019211 204183.6237035487)</td>\n",
       "    </tr>\n",
       "  </tbody>\n",
       "</table>\n",
       "</div>"
      ],
      "text/plain": [
       "   TrafficStation                                     geometry\n",
       "0             903  POINT (987048.9820783393 207785.7335819595)\n",
       "1            1563  POINT (986159.9966711717 207305.0940948088)\n",
       "2            1564    POINT (987714.2675982895 206518.31025707)\n",
       "3            1664  POINT (986602.7137353685 203035.5358111775)\n",
       "4            1748  POINT (987327.1198019211 204183.6237035487)"
      ]
     },
     "execution_count": 18,
     "metadata": {},
     "output_type": "execute_result"
    }
   ],
   "source": [
    "TrafficStation = bus.drop('bus_id',axis=1).append(subway.drop('subway_id',axis=1)).reset_index().rename(columns={'index':'TrafficStation'})\n",
    "print(TrafficStation.shape)\n",
    "TrafficStation.head()"
   ]
  },
  {
   "cell_type": "code",
   "execution_count": 19,
   "metadata": {},
   "outputs": [
    {
     "data": {
      "text/plain": [
       "<matplotlib.axes._subplots.AxesSubplot at 0x7faf26d077f0>"
      ]
     },
     "execution_count": 19,
     "metadata": {},
     "output_type": "execute_result"
    },
    {
     "data": {
      "image/png": "[encoded data removed]",
      "text/plain": [
       "<matplotlib.figure.Figure at 0x7faf26e389b0>"
      ]
     },
     "metadata": {},
     "output_type": "display_data"
    }
   ],
   "source": [
    "TrafficStation.plot()"
   ]
  },
  {
   "cell_type": "code",
   "execution_count": 20,
   "metadata": {},
   "outputs": [],
   "source": [
    "!mv *.gz $PUIDATA"
   ]
  },
  {
   "cell_type": "markdown",
   "metadata": {},
   "source": [
    "# 2. Sjoin"
   ]
  },
  {
   "cell_type": "code",
   "execution_count": 21,
   "metadata": {},
   "outputs": [
    {
     "name": "stdout",
     "output_type": "stream",
     "text": [
      "(5777, 2)\n",
      "(152, 2)\n",
      "(755, 2)\n",
      "(112, 4)\n"
     ]
    }
   ],
   "source": [
    "print(POI.shape)\n",
    "print(subway.shape)\n",
    "print(bus.shape)\n",
    "print(zipcode.shape)"
   ]
  },
  {
   "cell_type": "code",
   "execution_count": 22,
   "metadata": {},
   "outputs": [
    {
     "name": "stdout",
     "output_type": "stream",
     "text": [
      "5645\n",
      "(106, 2)\n"
     ]
    },
    {
     "data": {
      "text/html": [
       "<div>\n",
       "<table border=\"1\" class=\"dataframe\">\n",
       "  <thead>\n",
       "    <tr style=\"text-align: right;\">\n",
       "      <th></th>\n",
       "      <th>ZIPCODE</th>\n",
       "      <th>POI_borough</th>\n",
       "    </tr>\n",
       "  </thead>\n",
       "  <tbody>\n",
       "    <tr>\n",
       "      <th>0</th>\n",
       "      <td>00083</td>\n",
       "      <td>213</td>\n",
       "    </tr>\n",
       "    <tr>\n",
       "      <th>1</th>\n",
       "      <td>10001</td>\n",
       "      <td>118</td>\n",
       "    </tr>\n",
       "    <tr>\n",
       "      <th>2</th>\n",
       "      <td>10002</td>\n",
       "      <td>297</td>\n",
       "    </tr>\n",
       "    <tr>\n",
       "      <th>3</th>\n",
       "      <td>10003</td>\n",
       "      <td>205</td>\n",
       "    </tr>\n",
       "    <tr>\n",
       "      <th>4</th>\n",
       "      <td>10004</td>\n",
       "      <td>70</td>\n",
       "    </tr>\n",
       "  </tbody>\n",
       "</table>\n",
       "</div>"
      ],
      "text/plain": [
       "  ZIPCODE  POI_borough\n",
       "0   00083          213\n",
       "1   10001          118\n",
       "2   10002          297\n",
       "3   10003          205\n",
       "4   10004           70"
      ]
     },
     "execution_count": 22,
     "metadata": {},
     "output_type": "execute_result"
    }
   ],
   "source": [
    "sjoin_POI = gpd.sjoin(zipcode, POI, how=\"left\")[['ZIPCODE','POI_borough']].groupby(\"ZIPCODE\").count()\n",
    "sjoin_POI = sjoin_POI.reset_index()\n",
    "print(sjoin_POI.POI_borough.sum())\n",
    "print(sjoin_POI.shape)\n",
    "sjoin_POI.head()"
   ]
  },
  {
   "cell_type": "code",
   "execution_count": 23,
   "metadata": {},
   "outputs": [
    {
     "name": "stdout",
     "output_type": "stream",
     "text": [
      "152\n",
      "(106, 2)\n"
     ]
    },
    {
     "data": {
      "text/html": [
       "<div>\n",
       "<table border=\"1\" class=\"dataframe\">\n",
       "  <thead>\n",
       "    <tr style=\"text-align: right;\">\n",
       "      <th></th>\n",
       "      <th>ZIPCODE</th>\n",
       "      <th>subway_id</th>\n",
       "    </tr>\n",
       "  </thead>\n",
       "  <tbody>\n",
       "    <tr>\n",
       "      <th>0</th>\n",
       "      <td>00083</td>\n",
       "      <td>6</td>\n",
       "    </tr>\n",
       "    <tr>\n",
       "      <th>1</th>\n",
       "      <td>10001</td>\n",
       "      <td>7</td>\n",
       "    </tr>\n",
       "    <tr>\n",
       "      <th>2</th>\n",
       "      <td>10002</td>\n",
       "      <td>5</td>\n",
       "    </tr>\n",
       "    <tr>\n",
       "      <th>3</th>\n",
       "      <td>10003</td>\n",
       "      <td>7</td>\n",
       "    </tr>\n",
       "    <tr>\n",
       "      <th>4</th>\n",
       "      <td>10004</td>\n",
       "      <td>3</td>\n",
       "    </tr>\n",
       "  </tbody>\n",
       "</table>\n",
       "</div>"
      ],
      "text/plain": [
       "  ZIPCODE  subway_id\n",
       "0   00083          6\n",
       "1   10001          7\n",
       "2   10002          5\n",
       "3   10003          7\n",
       "4   10004          3"
      ]
     },
     "execution_count": 23,
     "metadata": {},
     "output_type": "execute_result"
    }
   ],
   "source": [
    "sjoin_subway = gpd.sjoin(zipcode, subway, how=\"left\")[['ZIPCODE','subway_id']].groupby(\"ZIPCODE\").count()\n",
    "sjoin_subway = sjoin_subway.reset_index()\n",
    "print(sjoin_subway.subway_id.sum())\n",
    "print(sjoin_subway.shape)\n",
    "sjoin_subway.head()"
   ]
  },
  {
   "cell_type": "code",
   "execution_count": 24,
   "metadata": {},
   "outputs": [
    {
     "name": "stdout",
     "output_type": "stream",
     "text": [
      "759\n",
      "(106, 2)\n"
     ]
    },
    {
     "data": {
      "text/html": [
       "<div>\n",
       "<table border=\"1\" class=\"dataframe\">\n",
       "  <thead>\n",
       "    <tr style=\"text-align: right;\">\n",
       "      <th></th>\n",
       "      <th>ZIPCODE</th>\n",
       "      <th>bus_id</th>\n",
       "    </tr>\n",
       "  </thead>\n",
       "  <tbody>\n",
       "    <tr>\n",
       "      <th>0</th>\n",
       "      <td>00083</td>\n",
       "      <td>0</td>\n",
       "    </tr>\n",
       "    <tr>\n",
       "      <th>1</th>\n",
       "      <td>10001</td>\n",
       "      <td>19</td>\n",
       "    </tr>\n",
       "    <tr>\n",
       "      <th>2</th>\n",
       "      <td>10002</td>\n",
       "      <td>33</td>\n",
       "    </tr>\n",
       "    <tr>\n",
       "      <th>3</th>\n",
       "      <td>10003</td>\n",
       "      <td>15</td>\n",
       "    </tr>\n",
       "    <tr>\n",
       "      <th>4</th>\n",
       "      <td>10004</td>\n",
       "      <td>3</td>\n",
       "    </tr>\n",
       "  </tbody>\n",
       "</table>\n",
       "</div>"
      ],
      "text/plain": [
       "  ZIPCODE  bus_id\n",
       "0   00083       0\n",
       "1   10001      19\n",
       "2   10002      33\n",
       "3   10003      15\n",
       "4   10004       3"
      ]
     },
     "execution_count": 24,
     "metadata": {},
     "output_type": "execute_result"
    }
   ],
   "source": [
    "sjoin_bus = gpd.sjoin(zipcode, bus, how=\"left\")[['ZIPCODE','bus_id']].groupby(\"ZIPCODE\").count()\n",
    "sjoin_bus = sjoin_bus.reset_index()\n",
    "print(sjoin_bus.bus_id.sum())\n",
    "print(sjoin_bus.shape)\n",
    "sjoin_bus.head()"
   ]
  },
  {
   "cell_type": "code",
   "execution_count": 25,
   "metadata": {
    "scrolled": true
   },
   "outputs": [
    {
     "data": {
      "text/html": [
       "<div>\n",
       "<table border=\"1\" class=\"dataframe\">\n",
       "  <thead>\n",
       "    <tr style=\"text-align: right;\">\n",
       "      <th></th>\n",
       "      <th>ZIPCODE</th>\n",
       "      <th>POPULATION</th>\n",
       "      <th>AREA</th>\n",
       "      <th>geometry</th>\n",
       "      <th>POI</th>\n",
       "      <th>subway</th>\n",
       "      <th>bus</th>\n",
       "      <th>TrafficStation</th>\n",
       "    </tr>\n",
       "  </thead>\n",
       "  <tbody>\n",
       "    <tr>\n",
       "      <th>0</th>\n",
       "      <td>10463</td>\n",
       "      <td>70641.0</td>\n",
       "      <td>3.119702e+06</td>\n",
       "      <td>POLYGON ((1007634.817063555 258290.334846884, ...</td>\n",
       "      <td>15</td>\n",
       "      <td>1</td>\n",
       "      <td>3</td>\n",
       "      <td>4</td>\n",
       "    </tr>\n",
       "    <tr>\n",
       "      <th>1</th>\n",
       "      <td>10034</td>\n",
       "      <td>39149.0</td>\n",
       "      <td>2.450389e+07</td>\n",
       "      <td>POLYGON ((1006203.169008225 257345.6566181332,...</td>\n",
       "      <td>117</td>\n",
       "      <td>3</td>\n",
       "      <td>15</td>\n",
       "      <td>18</td>\n",
       "    </tr>\n",
       "    <tr>\n",
       "      <th>2</th>\n",
       "      <td>10033</td>\n",
       "      <td>54284.0</td>\n",
       "      <td>1.615605e+07</td>\n",
       "      <td>POLYGON ((1003020.86467731 256049.1618358046, ...</td>\n",
       "      <td>88</td>\n",
       "      <td>3</td>\n",
       "      <td>15</td>\n",
       "      <td>18</td>\n",
       "    </tr>\n",
       "    <tr>\n",
       "      <th>3</th>\n",
       "      <td>10040</td>\n",
       "      <td>41033.0</td>\n",
       "      <td>1.634074e+07</td>\n",
       "      <td>POLYGON ((1002564.135275811 253724.7731118798,...</td>\n",
       "      <td>100</td>\n",
       "      <td>4</td>\n",
       "      <td>16</td>\n",
       "      <td>20</td>\n",
       "    </tr>\n",
       "    <tr>\n",
       "      <th>4</th>\n",
       "      <td>10032</td>\n",
       "      <td>57606.0</td>\n",
       "      <td>2.315957e+07</td>\n",
       "      <td>POLYGON ((998935.8528342247 249154.259943217, ...</td>\n",
       "      <td>149</td>\n",
       "      <td>5</td>\n",
       "      <td>35</td>\n",
       "      <td>40</td>\n",
       "    </tr>\n",
       "  </tbody>\n",
       "</table>\n",
       "</div>"
      ],
      "text/plain": [
       "  ZIPCODE  POPULATION          AREA  \\\n",
       "0   10463     70641.0  3.119702e+06   \n",
       "1   10034     39149.0  2.450389e+07   \n",
       "2   10033     54284.0  1.615605e+07   \n",
       "3   10040     41033.0  1.634074e+07   \n",
       "4   10032     57606.0  2.315957e+07   \n",
       "\n",
       "                                            geometry  POI  subway  bus  \\\n",
       "0  POLYGON ((1007634.817063555 258290.334846884, ...   15       1    3   \n",
       "1  POLYGON ((1006203.169008225 257345.6566181332,...  117       3   15   \n",
       "2  POLYGON ((1003020.86467731 256049.1618358046, ...   88       3   15   \n",
       "3  POLYGON ((1002564.135275811 253724.7731118798,...  100       4   16   \n",
       "4  POLYGON ((998935.8528342247 249154.259943217, ...  149       5   35   \n",
       "\n",
       "   TrafficStation  \n",
       "0               4  \n",
       "1              18  \n",
       "2              18  \n",
       "3              20  \n",
       "4              40  "
      ]
     },
     "execution_count": 25,
     "metadata": {},
     "output_type": "execute_result"
    }
   ],
   "source": [
    "zipcode = pd.merge(zipcode, sjoin_POI, on='ZIPCODE')\n",
    "zipcode = pd.merge(zipcode, sjoin_subway, on='ZIPCODE')\n",
    "zipcode = pd.merge(zipcode, sjoin_bus, on='ZIPCODE')\n",
    "\n",
    "zipcode.rename(columns={'POI_borough':'POI', 'subway_id': 'subway', 'bus_id':'bus'}, inplace=True)\n",
    "\n",
    "zipcode['TrafficStation'] = zipcode['subway'] + zipcode['bus']\n",
    "zipcode.head()"
   ]
  },
  {
   "cell_type": "markdown",
   "metadata": {},
   "source": [
    "# 3. Choropleth maps"
   ]
  },
  {
   "cell_type": "code",
   "execution_count": 26,
   "metadata": {},
   "outputs": [
    {
     "data": {
      "text/plain": [
       "(969193.1559385045, 1011861.583035858, 184889.21821436362, 263166.540957316)"
      ]
     },
     "execution_count": 26,
     "metadata": {},
     "output_type": "execute_result"
    },
    {
     "data": {
      "image/png": "[encoded data removed]",
      "text/plain": [
       "<matplotlib.figure.Figure at 0x7faf26e57908>"
      ]
     },
     "metadata": {},
     "output_type": "display_data"
    }
   ],
   "source": [
    "fig = pl.figure(figsize=(20,5))\n",
    "\n",
    "ax1 = fig.add_subplot(141)\n",
    "zipcode.plot(column='POI', ax=ax1, label=True)\n",
    "ax1.set_title(\"POI points number\")\n",
    "ax1.axis('off')\n",
    "\n",
    "ax2 = fig.add_subplot(142)\n",
    "zipcode.plot(column='subway', ax=ax2, label=True)\n",
    "ax2.set_title(\"subway station number\")\n",
    "ax2.axis('off')\n",
    "\n",
    "ax3 = fig.add_subplot(143)\n",
    "zipcode.plot(column='bus', ax=ax3, label=True)\n",
    "ax3.set_title(\"bus station number\")\n",
    "ax3.axis('off')\n",
    "\n",
    "ax4 = fig.add_subplot(144)\n",
    "zipcode.plot(column='TrafficStation', ax=ax4, label=True)\n",
    "ax4.set_title(\"all traffic station number\")\n",
    "ax4.axis('off')"
   ]
  },
  {
   "cell_type": "markdown",
   "metadata": {},
   "source": [
    "**Figure 1** distribution of POI points number, subway station number, bus station number, and all traffic station number by zipcode area.<br>\n",
    "**The choropleth maps cannot show the aggregation density of the points clearly. Thus I will plot heatmap of the points.**"
   ]
  },
  {
   "cell_type": "markdown",
   "metadata": {},
   "source": [
    "# 4. Heatmaps"
   ]
  },
  {
   "cell_type": "code",
   "execution_count": 27,
   "metadata": {},
   "outputs": [],
   "source": [
    "# refer to http://nbviewer.jupyter.org/gist/perrygeo/c426355e40037c452434\n",
    "\n",
    "def heatmap(d, bins=(100,100), smoothing=1.3, cmap='jet'):\n",
    "    def getx(pt):\n",
    "        return pt.coords[0][0]\n",
    "\n",
    "    def gety(pt):\n",
    "        return pt.coords[0][1]\n",
    "\n",
    "    x = list(d.geometry.apply(getx))\n",
    "    y = list(d.geometry.apply(gety))\n",
    "    heatmap, xedges, yedges = np.histogram2d(y, x, bins=bins)\n",
    "    extent = [yedges[0], yedges[-1], xedges[-1], xedges[0]]\n",
    "\n",
    "    logheatmap = np.log(heatmap)\n",
    "    logheatmap[np.isneginf(logheatmap)] = 0\n",
    "    logheatmap = ndimage.filters.gaussian_filter(logheatmap, smoothing, mode='nearest')\n",
    "        \n",
    "    plt.imshow(logheatmap, cmap=cmap, extent=extent)\n",
    "    plt.colorbar()\n",
    "    plt.gca().invert_yaxis()\n",
    "    plt.show()"
   ]
  },
  {
   "cell_type": "code",
   "execution_count": 28,
   "metadata": {},
   "outputs": [
    {
     "data": {
      "image/png": "[encoded data removed]",
      "text/plain": [
       "<matplotlib.figure.Figure at 0x7faf26eb7358>"
      ]
     },
     "metadata": {},
     "output_type": "display_data"
    }
   ],
   "source": [
    "fig = pl.figure(figsize=(20,5))\n",
    "ax1 = fig.add_subplot(111)\n",
    "ax1.set_title(\"POI points number\")\n",
    "heatmap(POI, bins=50, smoothing=1)"
   ]
  },
  {
   "cell_type": "markdown",
   "metadata": {},
   "source": [
    "**Figure 2-1** Headmap of POI points"
   ]
  },
  {
   "cell_type": "code",
   "execution_count": 29,
   "metadata": {},
   "outputs": [
    {
     "data": {
      "image/png": "[encoded data removed]",
      "text/plain": [
       "<matplotlib.figure.Figure at 0x7faf26f384e0>"
      ]
     },
     "metadata": {},
     "output_type": "display_data"
    }
   ],
   "source": [
    "fig = pl.figure(figsize=(20,5))\n",
    "ax1 = fig.add_subplot(111)\n",
    "ax1.set_title(\"subway station number\")\n",
    "heatmap(subway, bins=50, smoothing=1)"
   ]
  },
  {
   "cell_type": "markdown",
   "metadata": {},
   "source": [
    "**Figure 2-2** Headmap of subway station points"
   ]
  },
  {
   "cell_type": "code",
   "execution_count": 30,
   "metadata": {},
   "outputs": [
    {
     "data": {
      "image/png": "[encoded data removed]",
      "text/plain": [
       "<matplotlib.figure.Figure at 0x7faf26ff1d68>"
      ]
     },
     "metadata": {},
     "output_type": "display_data"
    }
   ],
   "source": [
    "fig = pl.figure(figsize=(20,5))\n",
    "ax1 = fig.add_subplot(111)\n",
    "ax1.set_title(\"bus station number\")\n",
    "heatmap(bus, bins=50, smoothing=1)"
   ]
  },
  {
   "cell_type": "markdown",
   "metadata": {},
   "source": [
    "**Figure 2-1** Headmap of bus station points"
   ]
  },
  {
   "cell_type": "code",
   "execution_count": 31,
   "metadata": {},
   "outputs": [
    {
     "data": {
      "image/png": "[encoded data removed]",
      "text/plain": [
       "<matplotlib.figure.Figure at 0x7faf299bdc88>"
      ]
     },
     "metadata": {},
     "output_type": "display_data"
    }
   ],
   "source": [
    "fig = pl.figure(figsize=(20,5))\n",
    "ax1 = fig.add_subplot(111)\n",
    "ax1.set_title(\"all traffic station number\")\n",
    "heatmap(TrafficStation, bins=50, smoothing=1)"
   ]
  },
  {
   "cell_type": "markdown",
   "metadata": {},
   "source": [
    "**Figure 2-1** Headmap of all traffic station points"
   ]
  },
  {
   "cell_type": "markdown",
   "metadata": {},
   "source": [
    "# 5. Assess if any of these distributions are consistent with a Gaussian."
   ]
  },
  {
   "cell_type": "markdown",
   "metadata": {},
   "source": [
    "## 5.1 Significance threshold : alpha = 0.05"
   ]
  },
  {
   "cell_type": "code",
   "execution_count": 32,
   "metadata": {},
   "outputs": [],
   "source": [
    "alpha = 0.05"
   ]
  },
  {
   "cell_type": "markdown",
   "metadata": {},
   "source": [
    "## 5.2 declaring the null hypothesis\n",
    "Null Hypothesis: the vairiable sample for all 4 features (POI points number, subway station number, bus station number, and all traffic station number) is drawn from a Gaussian distribution, p-value 0.05"
   ]
  },
  {
   "cell_type": "markdown",
   "metadata": {},
   "source": [
    "## 5.3 testing"
   ]
  },
  {
   "cell_type": "markdown",
   "metadata": {},
   "source": [
    "### KS test (the data has to be standardized)"
   ]
  },
  {
   "cell_type": "code",
   "execution_count": 33,
   "metadata": {},
   "outputs": [],
   "source": [
    "def kstestprint(testdata, alpha):\n",
    "    p = sp.stats.kstest((testdata - testdata.mean())/testdata.std(), \"norm\")[1]\n",
    "    if p > alpha:\n",
    "        print(\"p=%d,\"%p, \" the Null hypothesis that the samples are drawn from a Gaussian distribution cannot be rejected by KS test\")\n",
    "    else: \n",
    "        print(\"p=%d,\"%p, \" we reject the Null hypothesis that the samples are drawn from a Gaussian distribution at a p-value of\", alpha, \"by KS test\")\n",
    "    print()"
   ]
  },
  {
   "cell_type": "code",
   "execution_count": 34,
   "metadata": {},
   "outputs": [
    {
     "name": "stdout",
     "output_type": "stream",
     "text": [
      "POI points number:\n",
      "p=0,  we reject the Null hypothesis that the samples are drawn from a Gaussian distribution at a p-value of 0.05 by KS test\n",
      "\n",
      "subway station number:\n",
      "p=0,  we reject the Null hypothesis that the samples are drawn from a Gaussian distribution at a p-value of 0.05 by KS test\n",
      "\n",
      "bus station number:\n",
      "p=0,  we reject the Null hypothesis that the samples are drawn from a Gaussian distribution at a p-value of 0.05 by KS test\n",
      "\n",
      "all traffic station number:\n",
      "p=0,  we reject the Null hypothesis that the samples are drawn from a Gaussian distribution at a p-value of 0.05 by KS test\n",
      "\n"
     ]
    }
   ],
   "source": [
    "print (\"POI points number:\")\n",
    "kstestprint(zipcode.POI ,alpha)\n",
    "\n",
    "print (\"subway station number:\")\n",
    "kstestprint(zipcode.subway ,alpha)\n",
    "\n",
    "print (\"bus station number:\")\n",
    "kstestprint(zipcode.bus ,alpha)\n",
    "\n",
    "print (\"all traffic station number:\")\n",
    "kstestprint(zipcode.TrafficStation ,alpha)"
   ]
  },
  {
   "cell_type": "markdown",
   "metadata": {},
   "source": [
    "**Conclusion:** We can see statistical significant differences between the distribution and Gaussian distributions based on a KS test."
   ]
  },
  {
   "cell_type": "markdown",
   "metadata": {},
   "source": [
    "### AD test"
   ]
  },
  {
   "cell_type": "code",
   "execution_count": 35,
   "metadata": {},
   "outputs": [],
   "source": [
    "def adtestprint(testdata, alpha):\n",
    "    ad = sp.stats.anderson(testdata, \"norm\")\n",
    "    if ad[0] < ad[1][ad[2] == int(alpha * 100)]:\n",
    "        print(\"the Null hypothesis that the samples are drawn from a Gaussian distribution cannot be rejected by AD test\")\n",
    "    else: \n",
    "        print(\"we reject the Null hypothesis that the samples are drawn from a Gaussian distribution at a p-value of\", alpha, \"by AD test\")\n",
    "    print()"
   ]
  },
  {
   "cell_type": "code",
   "execution_count": 36,
   "metadata": {},
   "outputs": [
    {
     "name": "stdout",
     "output_type": "stream",
     "text": [
      "POI points number\n",
      "we reject the Null hypothesis that the samples are drawn from a Gaussian distribution at a p-value of 0.05 by AD test\n",
      "\n",
      "subway station number\n",
      "we reject the Null hypothesis that the samples are drawn from a Gaussian distribution at a p-value of 0.05 by AD test\n",
      "\n",
      "bus station number\n",
      "we reject the Null hypothesis that the samples are drawn from a Gaussian distribution at a p-value of 0.05 by AD test\n",
      "\n",
      "all traffic station number\n",
      "we reject the Null hypothesis that the samples are drawn from a Gaussian distribution at a p-value of 0.05 by AD test\n",
      "\n"
     ]
    }
   ],
   "source": [
    "print (\"POI points number\")\n",
    "adtestprint(zipcode.POI, alpha)\n",
    "\n",
    "print (\"subway station number\")\n",
    "adtestprint(zipcode.subway, alpha)\n",
    "\n",
    "print (\"bus station number\")\n",
    "adtestprint(zipcode.bus, alpha)\n",
    "\n",
    "print (\"all traffic station number\")\n",
    "adtestprint(zipcode.TrafficStation, alpha)"
   ]
  },
  {
   "cell_type": "markdown",
   "metadata": {},
   "source": [
    "**Conclusion** We can see statistical significant differences between the distribution and Gaussian distributions based on a AD test. "
   ]
  },
  {
   "cell_type": "markdown",
   "metadata": {},
   "source": [
    "# 5.4 Plot the distributions of each feature"
   ]
  },
  {
   "cell_type": "code",
   "execution_count": 37,
   "metadata": {},
   "outputs": [
    {
     "data": {
      "text/plain": [
       "Text(0,0.5,'Number of zipcode areas')"
      ]
     },
     "execution_count": 37,
     "metadata": {},
     "output_type": "execute_result"
    },
    {
     "data": {
      "image/png": "[encoded data removed]",
      "text/plain": [
       "<matplotlib.figure.Figure at 0x7faf26fcefd0>"
      ]
     },
     "metadata": {},
     "output_type": "display_data"
    }
   ],
   "source": [
    "fig = pl.figure(figsize=(20,5))\n",
    "ax = fig.add_subplot(141)\n",
    "zipcode.POI.hist(ax=ax)\n",
    "ax.set_xlabel(\"Number of POI points per zipcode area\")\n",
    "ax.set_ylabel(\"Number of zipcode areas\")\n",
    "\n",
    "ax = fig.add_subplot(142)\n",
    "zipcode.subway.hist(ax=ax)\n",
    "ax.set_xlabel(\"Number of subway stations per zipcode area\")\n",
    "ax.set_ylabel(\"Number of zipcode areas\")\n",
    "\n",
    "ax = fig.add_subplot(143)\n",
    "zipcode.bus.hist(ax=ax)\n",
    "ax.set_xlabel(\"Number of bus stations per zipcode area\")\n",
    "ax.set_ylabel(\"Number of zipcode areas\")\n",
    "\n",
    "ax = fig.add_subplot(144)\n",
    "zipcode.TrafficStation.hist(ax=ax)\n",
    "ax.set_xlabel(\"Number of all traffic stations per zipcode area\")\n",
    "ax.set_ylabel(\"Number of zipcode areas\")"
   ]
  },
  {
   "cell_type": "markdown",
   "metadata": {},
   "source": [
    "**Figure 3-1** Distribution of 4 features (POI points number, subway station number, bus station number, and all traffic station number) by zipcode in Manhattan, NY. The distribution is dominated by very low number of zipcode areas."
   ]
  },
  {
   "cell_type": "code",
   "execution_count": 38,
   "metadata": {},
   "outputs": [
    {
     "data": {
      "text/plain": [
       "(0, 18)"
      ]
     },
     "execution_count": 38,
     "metadata": {},
     "output_type": "execute_result"
    },
    {
     "data": {
      "image/png": "[encoded data removed]",
      "text/plain": [
       "<matplotlib.figure.Figure at 0x7faf26aa13c8>"
      ]
     },
     "metadata": {},
     "output_type": "display_data"
    }
   ],
   "source": [
    "fig = pl.figure(figsize=(20,5))\n",
    "ax = fig.add_subplot(141)\n",
    "plotdata = zipcode.POI\n",
    "plotdata.hist(ax=ax)\n",
    "ax.set_xlabel(\"Number of POI points per zipcode area\")\n",
    "ax.set_ylabel(\"Number of zipcode areas\")\n",
    "ax.set_xlim(plotdata.max()*0.1,plotdata.max())\n",
    "ax.set_ylim(0,18)\n",
    "\n",
    "ax = fig.add_subplot(142)\n",
    "plotdata = zipcode.subway\n",
    "plotdata.hist(ax=ax)\n",
    "ax.set_xlabel(\"Number of subway stations per zipcode area\")\n",
    "ax.set_ylabel(\"Number of zipcode areas\")\n",
    "ax.set_xlim(plotdata.max()*0.1,plotdata.max())\n",
    "ax.set_ylim(0,18)\n",
    "\n",
    "ax = fig.add_subplot(143)\n",
    "plotdata = zipcode.bus\n",
    "plotdata.hist(ax=ax)\n",
    "ax.set_xlabel(\"Number of bus stations per zipcode area\")\n",
    "ax.set_ylabel(\"Number of zipcode areas\")\n",
    "ax.set_xlim(plotdata.max()*0.1,plotdata.max())\n",
    "ax.set_ylim(0,18)\n",
    "\n",
    "ax = fig.add_subplot(144)\n",
    "plotdata = zipcode.TrafficStation\n",
    "plotdata.hist(ax=ax)\n",
    "ax.set_xlabel(\"Number of all traffic stations per zipcode area\")\n",
    "ax.set_ylabel(\"Number of zipcode areas\")\n",
    "ax.set_xlim(plotdata.max()*0.1,plotdata.max())\n",
    "ax.set_ylim(0,18)"
   ]
  },
  {
   "cell_type": "markdown",
   "metadata": {},
   "source": [
    "**Figure 3-2** Distribution of 4 features (POI points number, subway station number, bus station number, and all traffic station number) by zipcode in Manhattan, NY, **extremely low values excluded**. They shows statistically consistent with Gaussians."
   ]
  },
  {
   "cell_type": "markdown",
   "metadata": {},
   "source": [
    "# 6. Measure correlation between Number of POI points and other 3 features (subway station number, bus station number, and all traffic station number)"
   ]
  },
  {
   "cell_type": "markdown",
   "metadata": {},
   "source": [
    "Returns of pearsonr:(Pearson’s correlation coefficient, 2-tailed p-value)<br>\n",
    "Do not use the p-value from the pearson's or Spearman's R unless under significant assumptins.<br>\n",
    "refer to https://docs.scipy.org/doc/scipy-0.14.0/reference/generated/scipy.stats.pearsonr.html"
   ]
  },
  {
   "cell_type": "code",
   "execution_count": 39,
   "metadata": {},
   "outputs": [
    {
     "data": {
      "text/plain": [
       "(0.64666902703955509, 1.3417641179601436e-14)"
      ]
     },
     "execution_count": 39,
     "metadata": {},
     "output_type": "execute_result"
    }
   ],
   "source": [
    "sp.stats.pearsonr(zipcode.POI, zipcode.subway)"
   ]
  },
  {
   "cell_type": "code",
   "execution_count": 40,
   "metadata": {},
   "outputs": [
    {
     "data": {
      "text/plain": [
       "(0.81737262302559033, 4.182858857344784e-28)"
      ]
     },
     "execution_count": 40,
     "metadata": {},
     "output_type": "execute_result"
    }
   ],
   "source": [
    "sp.stats.pearsonr(zipcode.POI, zipcode.bus)"
   ]
  },
  {
   "cell_type": "code",
   "execution_count": 41,
   "metadata": {},
   "outputs": [
    {
     "data": {
      "text/plain": [
       "(0.83970632932627975, 6.1106911723802141e-31)"
      ]
     },
     "execution_count": 41,
     "metadata": {},
     "output_type": "execute_result"
    }
   ],
   "source": [
    "sp.stats.pearsonr(zipcode.POI, zipcode.TrafficStation)"
   ]
  },
  {
   "cell_type": "markdown",
   "metadata": {},
   "source": [
    "**conclusions** there is a most statistical correlation between the number of POI points and all traffic station number: where the all traffic station number is higher the number of POI points are better, which is opposite to the null hypothesis."
   ]
  },
  {
   "cell_type": "markdown",
   "metadata": {},
   "source": [
    "# 7. Test if the average number of POI points is significantly different for zipcode areas with an all traffic station number grater than 25 and lower than 25."
   ]
  },
  {
   "cell_type": "markdown",
   "metadata": {},
   "source": [
    "## setting a significance threshold : alpha = 0.05"
   ]
  },
  {
   "cell_type": "code",
   "execution_count": 42,
   "metadata": {},
   "outputs": [],
   "source": [
    "alpha = 0.05"
   ]
  },
  {
   "cell_type": "markdown",
   "metadata": {},
   "source": [
    "## Null Hypothesis:\n",
    "the null hypothesis is that the average number of POI points is the same at high all traffic station number ( > 25) and low all traffic station number (<= 25)<br>\n",
    "all traffic station number come from the same parent distribution"
   ]
  },
  {
   "cell_type": "markdown",
   "metadata": {},
   "source": [
    "### KS \n",
    "No need to standardize the distributions as I want to notice differences in the mean as well here!"
   ]
  },
  {
   "cell_type": "code",
   "execution_count": 43,
   "metadata": {},
   "outputs": [
    {
     "name": "stdout",
     "output_type": "stream",
     "text": [
      "p=0\n",
      "we reject the Null hypothesis that the samples are drawn from a Gaussian distribution at a p-value of 0.05\n"
     ]
    }
   ],
   "source": [
    "p = sp.stats.ttest_ind(zipcode[zipcode.TrafficStation < 25]['POI'].values,\n",
    "                   zipcode[zipcode.TrafficStation >= 25]['POI'].values)[1]\n",
    "print(\"p=%d\"%p)\n",
    "if p > alpha:\n",
    "    print(\"the Null hypothesis that the samples are drawn from a Gaussian distribution cannot be rejected\")\n",
    "else: \n",
    "    print(\"we reject the Null hypothesis that the samples are drawn from a Gaussian distribution at a p-value of\", alpha)\n",
    "    "
   ]
  },
  {
   "cell_type": "markdown",
   "metadata": {},
   "source": [
    "**conclusion ** The KS test reveals disparities in the average number of POI points with the all traffic station number"
   ]
  },
  {
   "cell_type": "markdown",
   "metadata": {},
   "source": [
    "# 8. Colinearity of the average number of POI points and the all traffic station number"
   ]
  },
  {
   "cell_type": "code",
   "execution_count": 44,
   "metadata": {},
   "outputs": [],
   "source": [
    "import statsmodels.api as sm\n",
    "import statsmodels.formula.api as smf"
   ]
  },
  {
   "cell_type": "code",
   "execution_count": 45,
   "metadata": {},
   "outputs": [
    {
     "data": {
      "text/html": [
       "<table class=\"simpletable\">\n",
       "<caption>OLS Regression Results</caption>\n",
       "<tr>\n",
       "  <th>Dep. Variable:</th>            <td>y</td>        <th>  R-squared:         </th> <td>   0.705</td>\n",
       "</tr>\n",
       "<tr>\n",
       "  <th>Model:</th>                   <td>OLS</td>       <th>  Adj. R-squared:    </th> <td>   0.702</td>\n",
       "</tr>\n",
       "<tr>\n",
       "  <th>Method:</th>             <td>Least Squares</td>  <th>  F-statistic:       </th> <td>   263.0</td>\n",
       "</tr>\n",
       "<tr>\n",
       "  <th>Date:</th>             <td>Wed, 12 Dec 2018</td> <th>  Prob (F-statistic):</th> <td>6.11e-31</td>\n",
       "</tr>\n",
       "<tr>\n",
       "  <th>Time:</th>                 <td>18:14:35</td>     <th>  Log-Likelihood:    </th> <td> -586.83</td>\n",
       "</tr>\n",
       "<tr>\n",
       "  <th>No. Observations:</th>      <td>   112</td>      <th>  AIC:               </th> <td>   1178.</td>\n",
       "</tr>\n",
       "<tr>\n",
       "  <th>Df Residuals:</th>          <td>   110</td>      <th>  BIC:               </th> <td>   1183.</td>\n",
       "</tr>\n",
       "<tr>\n",
       "  <th>Df Model:</th>              <td>     1</td>      <th>                     </th>     <td> </td>   \n",
       "</tr>\n",
       "<tr>\n",
       "  <th>Covariance Type:</th>      <td>nonrobust</td>    <th>                     </th>     <td> </td>   \n",
       "</tr>\n",
       "</table>\n",
       "<table class=\"simpletable\">\n",
       "<tr>\n",
       "      <td></td>         <th>coef</th>     <th>std err</th>      <th>t</th>      <th>P>|t|</th> <th>[95.0% Conf. Int.]</th> \n",
       "</tr>\n",
       "<tr>\n",
       "  <th>Intercept</th> <td>    4.0145</td> <td>    2.622</td> <td>    1.531</td> <td> 0.129</td> <td>   -1.182     9.211</td>\n",
       "</tr>\n",
       "<tr>\n",
       "  <th>x[0]</th>      <td>    4.0145</td> <td>    2.622</td> <td>    1.531</td> <td> 0.129</td> <td>   -1.182     9.211</td>\n",
       "</tr>\n",
       "<tr>\n",
       "  <th>x[1]</th>      <td>    5.5869</td> <td>    0.344</td> <td>   16.218</td> <td> 0.000</td> <td>    4.904     6.270</td>\n",
       "</tr>\n",
       "</table>\n",
       "<table class=\"simpletable\">\n",
       "<tr>\n",
       "  <th>Omnibus:</th>       <td>94.560</td> <th>  Durbin-Watson:     </th> <td>   1.553</td> \n",
       "</tr>\n",
       "<tr>\n",
       "  <th>Prob(Omnibus):</th> <td> 0.000</td> <th>  Jarque-Bera (JB):  </th> <td> 783.548</td> \n",
       "</tr>\n",
       "<tr>\n",
       "  <th>Skew:</th>          <td> 2.880</td> <th>  Prob(JB):          </th> <td>7.16e-171</td>\n",
       "</tr>\n",
       "<tr>\n",
       "  <th>Kurtosis:</th>      <td>14.607</td> <th>  Cond. No.          </th> <td>4.94e+16</td> \n",
       "</tr>\n",
       "</table>"
      ],
      "text/plain": [
       "<class 'statsmodels.iolib.summary.Summary'>\n",
       "\"\"\"\n",
       "                            OLS Regression Results                            \n",
       "==============================================================================\n",
       "Dep. Variable:                      y   R-squared:                       0.705\n",
       "Model:                            OLS   Adj. R-squared:                  0.702\n",
       "Method:                 Least Squares   F-statistic:                     263.0\n",
       "Date:                Wed, 12 Dec 2018   Prob (F-statistic):           6.11e-31\n",
       "Time:                        18:14:35   Log-Likelihood:                -586.83\n",
       "No. Observations:                 112   AIC:                             1178.\n",
       "Df Residuals:                     110   BIC:                             1183.\n",
       "Df Model:                           1                                         \n",
       "Covariance Type:            nonrobust                                         \n",
       "==============================================================================\n",
       "                 coef    std err          t      P>|t|      [95.0% Conf. Int.]\n",
       "------------------------------------------------------------------------------\n",
       "Intercept      4.0145      2.622      1.531      0.129        -1.182     9.211\n",
       "x[0]           4.0145      2.622      1.531      0.129        -1.182     9.211\n",
       "x[1]           5.5869      0.344     16.218      0.000         4.904     6.270\n",
       "==============================================================================\n",
       "Omnibus:                       94.560   Durbin-Watson:                   1.553\n",
       "Prob(Omnibus):                  0.000   Jarque-Bera (JB):              783.548\n",
       "Skew:                           2.880   Prob(JB):                    7.16e-171\n",
       "Kurtosis:                      14.607   Cond. No.                     4.94e+16\n",
       "==============================================================================\n",
       "\n",
       "Warnings:\n",
       "[1] Standard Errors assume that the covariance matrix of the errors is correctly specified.\n",
       "[2] The smallest eigenvalue is 1.07e-29. This might indicate that there are\n",
       "strong multicollinearity problems or that the design matrix is singular.\n",
       "\"\"\""
      ]
     },
     "execution_count": 45,
     "metadata": {},
     "output_type": "execute_result"
    }
   ],
   "source": [
    "# modeling\n",
    "y = zipcode.POI\n",
    "x = zipcode.TrafficStation\n",
    "x = sm.add_constant(x)\n",
    "mod = smf.ols(formula='y ~ x', data=zipcode).fit()\n",
    "mod.summary()"
   ]
  },
  {
   "cell_type": "code",
   "execution_count": 46,
   "metadata": {},
   "outputs": [
    {
     "data": {
      "image/png": "[encoded data removed]",
      "text/plain": [
       "<matplotlib.figure.Figure at 0x7faf240abf28>"
      ]
     },
     "metadata": {},
     "output_type": "display_data"
    }
   ],
   "source": [
    "fig = pl.figure(figsize=(5, 5))\n",
    "ax = fig.add_subplot(111)\n",
    "ax.set_ylabel(\"the all traffic station number\", fontsize =16)\n",
    "ax.set_xlabel(\"the average number of POI points)\", fontsize =16)\n",
    "\n",
    "ax = plt.scatter(y=zipcode[\"POI\"], x=zipcode[\"TrafficStation\"], alpha=0.5)\n",
    "ax = plt.plot(zipcode.TrafficStation, mod.fittedvalues, 'r')"
   ]
  },
  {
   "cell_type": "markdown",
   "metadata": {},
   "source": [
    "**Figure 4** Scatter plot of the average number of POI points against the all traffic station number by zipcode area. Also plotted (red line) is a linear fit. "
   ]
  },
  {
   "cell_type": "markdown",
   "metadata": {},
   "source": [
    "# 9. Multivariate models"
   ]
  },
  {
   "cell_type": "markdown",
   "metadata": {},
   "source": [
    "**Create a multivariate linear model with variables subway station number, bus station number, population, and area to study the most related factors to the number of POI points.** <br> \n",
    "Because all traffic stations include subway stations and bus stations, I don't use the number of all traffic station as one of the variables."
   ]
  },
  {
   "cell_type": "code",
   "execution_count": 47,
   "metadata": {},
   "outputs": [
    {
     "data": {
      "text/html": [
       "<table class=\"simpletable\">\n",
       "<caption>OLS Regression Results</caption>\n",
       "<tr>\n",
       "  <th>Dep. Variable:</th>           <td>POI</td>       <th>  R-squared:         </th> <td>   0.799</td>\n",
       "</tr>\n",
       "<tr>\n",
       "  <th>Model:</th>                   <td>OLS</td>       <th>  Adj. R-squared:    </th> <td>   0.792</td>\n",
       "</tr>\n",
       "<tr>\n",
       "  <th>Method:</th>             <td>Least Squares</td>  <th>  F-statistic:       </th> <td>   106.4</td>\n",
       "</tr>\n",
       "<tr>\n",
       "  <th>Date:</th>             <td>Wed, 12 Dec 2018</td> <th>  Prob (F-statistic):</th> <td>2.27e-36</td>\n",
       "</tr>\n",
       "<tr>\n",
       "  <th>Time:</th>                 <td>18:14:36</td>     <th>  Log-Likelihood:    </th> <td> -565.35</td>\n",
       "</tr>\n",
       "<tr>\n",
       "  <th>No. Observations:</th>      <td>   112</td>      <th>  AIC:               </th> <td>   1141.</td>\n",
       "</tr>\n",
       "<tr>\n",
       "  <th>Df Residuals:</th>          <td>   107</td>      <th>  BIC:               </th> <td>   1154.</td>\n",
       "</tr>\n",
       "<tr>\n",
       "  <th>Df Model:</th>              <td>     4</td>      <th>                     </th>     <td> </td>   \n",
       "</tr>\n",
       "<tr>\n",
       "  <th>Covariance Type:</th>      <td>nonrobust</td>    <th>                     </th>     <td> </td>   \n",
       "</tr>\n",
       "</table>\n",
       "<table class=\"simpletable\">\n",
       "<tr>\n",
       "       <td></td>         <th>coef</th>     <th>std err</th>      <th>t</th>      <th>P>|t|</th> <th>[95.0% Conf. Int.]</th> \n",
       "</tr>\n",
       "<tr>\n",
       "  <th>Intercept</th>  <td>    3.2784</td> <td>    4.574</td> <td>    0.717</td> <td> 0.475</td> <td>   -5.790    12.347</td>\n",
       "</tr>\n",
       "<tr>\n",
       "  <th>subway</th>     <td>    0.9125</td> <td>    2.627</td> <td>    0.347</td> <td> 0.729</td> <td>   -4.295     6.120</td>\n",
       "</tr>\n",
       "<tr>\n",
       "  <th>bus</th>        <td>    3.2159</td> <td>    0.762</td> <td>    4.219</td> <td> 0.000</td> <td>    1.705     4.727</td>\n",
       "</tr>\n",
       "<tr>\n",
       "  <th>POPULATION</th> <td>   -0.0005</td> <td>    0.000</td> <td>   -1.336</td> <td> 0.184</td> <td>   -0.001     0.000</td>\n",
       "</tr>\n",
       "<tr>\n",
       "  <th>AREA</th>       <td> 6.287e-06</td> <td> 9.47e-07</td> <td>    6.636</td> <td> 0.000</td> <td> 4.41e-06  8.16e-06</td>\n",
       "</tr>\n",
       "</table>\n",
       "<table class=\"simpletable\">\n",
       "<tr>\n",
       "  <th>Omnibus:</th>       <td>91.795</td> <th>  Durbin-Watson:     </th> <td>   1.581</td> \n",
       "</tr>\n",
       "<tr>\n",
       "  <th>Prob(Omnibus):</th> <td> 0.000</td> <th>  Jarque-Bera (JB):  </th> <td> 816.177</td> \n",
       "</tr>\n",
       "<tr>\n",
       "  <th>Skew:</th>          <td> 2.716</td> <th>  Prob(JB):          </th> <td>5.88e-178</td>\n",
       "</tr>\n",
       "<tr>\n",
       "  <th>Kurtosis:</th>      <td>15.057</td> <th>  Cond. No.          </th> <td>1.26e+07</td> \n",
       "</tr>\n",
       "</table>"
      ],
      "text/plain": [
       "<class 'statsmodels.iolib.summary.Summary'>\n",
       "\"\"\"\n",
       "                            OLS Regression Results                            \n",
       "==============================================================================\n",
       "Dep. Variable:                    POI   R-squared:                       0.799\n",
       "Model:                            OLS   Adj. R-squared:                  0.792\n",
       "Method:                 Least Squares   F-statistic:                     106.4\n",
       "Date:                Wed, 12 Dec 2018   Prob (F-statistic):           2.27e-36\n",
       "Time:                        18:14:36   Log-Likelihood:                -565.35\n",
       "No. Observations:                 112   AIC:                             1141.\n",
       "Df Residuals:                     107   BIC:                             1154.\n",
       "Df Model:                           4                                         \n",
       "Covariance Type:            nonrobust                                         \n",
       "==============================================================================\n",
       "                 coef    std err          t      P>|t|      [95.0% Conf. Int.]\n",
       "------------------------------------------------------------------------------\n",
       "Intercept      3.2784      4.574      0.717      0.475        -5.790    12.347\n",
       "subway         0.9125      2.627      0.347      0.729        -4.295     6.120\n",
       "bus            3.2159      0.762      4.219      0.000         1.705     4.727\n",
       "POPULATION    -0.0005      0.000     -1.336      0.184        -0.001     0.000\n",
       "AREA        6.287e-06   9.47e-07      6.636      0.000      4.41e-06  8.16e-06\n",
       "==============================================================================\n",
       "Omnibus:                       91.795   Durbin-Watson:                   1.581\n",
       "Prob(Omnibus):                  0.000   Jarque-Bera (JB):              816.177\n",
       "Skew:                           2.716   Prob(JB):                    5.88e-178\n",
       "Kurtosis:                      15.057   Cond. No.                     1.26e+07\n",
       "==============================================================================\n",
       "\n",
       "Warnings:\n",
       "[1] Standard Errors assume that the covariance matrix of the errors is correctly specified.\n",
       "[2] The condition number is large, 1.26e+07. This might indicate that there are\n",
       "strong multicollinearity or other numerical problems.\n",
       "\"\"\""
      ]
     },
     "execution_count": 47,
     "metadata": {},
     "output_type": "execute_result"
    }
   ],
   "source": [
    "multimod = smf.ols(formula='POI ~ subway + bus + POPULATION + AREA',data=zipcode).fit()\n",
    "multimod.summary()"
   ]
  },
  {
   "cell_type": "markdown",
   "metadata": {},
   "source": [
    "***\n",
    "**Create a multivariate linear model with variables the number of all traffic station, population, and area to study the most related factors to the number of POI points.** <br> "
   ]
  },
  {
   "cell_type": "code",
   "execution_count": 48,
   "metadata": {},
   "outputs": [
    {
     "data": {
      "text/html": [
       "<table class=\"simpletable\">\n",
       "<caption>OLS Regression Results</caption>\n",
       "<tr>\n",
       "  <th>Dep. Variable:</th>           <td>POI</td>       <th>  R-squared:         </th> <td>   0.798</td>\n",
       "</tr>\n",
       "<tr>\n",
       "  <th>Model:</th>                   <td>OLS</td>       <th>  Adj. R-squared:    </th> <td>   0.792</td>\n",
       "</tr>\n",
       "<tr>\n",
       "  <th>Method:</th>             <td>Least Squares</td>  <th>  F-statistic:       </th> <td>   141.9</td>\n",
       "</tr>\n",
       "<tr>\n",
       "  <th>Date:</th>             <td>Wed, 12 Dec 2018</td> <th>  Prob (F-statistic):</th> <td>2.54e-37</td>\n",
       "</tr>\n",
       "<tr>\n",
       "  <th>Time:</th>                 <td>18:14:36</td>     <th>  Log-Likelihood:    </th> <td> -565.74</td>\n",
       "</tr>\n",
       "<tr>\n",
       "  <th>No. Observations:</th>      <td>   112</td>      <th>  AIC:               </th> <td>   1139.</td>\n",
       "</tr>\n",
       "<tr>\n",
       "  <th>Df Residuals:</th>          <td>   108</td>      <th>  BIC:               </th> <td>   1150.</td>\n",
       "</tr>\n",
       "<tr>\n",
       "  <th>Df Model:</th>              <td>     3</td>      <th>                     </th>     <td> </td>   \n",
       "</tr>\n",
       "<tr>\n",
       "  <th>Covariance Type:</th>      <td>nonrobust</td>    <th>                     </th>     <td> </td>   \n",
       "</tr>\n",
       "</table>\n",
       "<table class=\"simpletable\">\n",
       "<tr>\n",
       "         <td></td>           <th>coef</th>     <th>std err</th>      <th>t</th>      <th>P>|t|</th> <th>[95.0% Conf. Int.]</th> \n",
       "</tr>\n",
       "<tr>\n",
       "  <th>Intercept</th>      <td>    2.4729</td> <td>    4.474</td> <td>    0.553</td> <td> 0.582</td> <td>   -6.396    11.341</td>\n",
       "</tr>\n",
       "<tr>\n",
       "  <th>TrafficStation</th> <td>    3.0977</td> <td>    0.749</td> <td>    4.135</td> <td> 0.000</td> <td>    1.613     4.583</td>\n",
       "</tr>\n",
       "<tr>\n",
       "  <th>POPULATION</th>     <td>   -0.0004</td> <td>    0.000</td> <td>   -1.240</td> <td> 0.218</td> <td>   -0.001     0.000</td>\n",
       "</tr>\n",
       "<tr>\n",
       "  <th>AREA</th>           <td>  5.91e-06</td> <td> 8.41e-07</td> <td>    7.025</td> <td> 0.000</td> <td> 4.24e-06  7.58e-06</td>\n",
       "</tr>\n",
       "</table>\n",
       "<table class=\"simpletable\">\n",
       "<tr>\n",
       "  <th>Omnibus:</th>       <td>94.667</td> <th>  Durbin-Watson:     </th> <td>   1.577</td> \n",
       "</tr>\n",
       "<tr>\n",
       "  <th>Prob(Omnibus):</th> <td> 0.000</td> <th>  Jarque-Bera (JB):  </th> <td> 903.418</td> \n",
       "</tr>\n",
       "<tr>\n",
       "  <th>Skew:</th>          <td> 2.802</td> <th>  Prob(JB):          </th> <td>6.69e-197</td>\n",
       "</tr>\n",
       "<tr>\n",
       "  <th>Kurtosis:</th>      <td>15.735</td> <th>  Cond. No.          </th> <td>1.22e+07</td> \n",
       "</tr>\n",
       "</table>"
      ],
      "text/plain": [
       "<class 'statsmodels.iolib.summary.Summary'>\n",
       "\"\"\"\n",
       "                            OLS Regression Results                            \n",
       "==============================================================================\n",
       "Dep. Variable:                    POI   R-squared:                       0.798\n",
       "Model:                            OLS   Adj. R-squared:                  0.792\n",
       "Method:                 Least Squares   F-statistic:                     141.9\n",
       "Date:                Wed, 12 Dec 2018   Prob (F-statistic):           2.54e-37\n",
       "Time:                        18:14:36   Log-Likelihood:                -565.74\n",
       "No. Observations:                 112   AIC:                             1139.\n",
       "Df Residuals:                     108   BIC:                             1150.\n",
       "Df Model:                           3                                         \n",
       "Covariance Type:            nonrobust                                         \n",
       "==================================================================================\n",
       "                     coef    std err          t      P>|t|      [95.0% Conf. Int.]\n",
       "----------------------------------------------------------------------------------\n",
       "Intercept          2.4729      4.474      0.553      0.582        -6.396    11.341\n",
       "TrafficStation     3.0977      0.749      4.135      0.000         1.613     4.583\n",
       "POPULATION        -0.0004      0.000     -1.240      0.218        -0.001     0.000\n",
       "AREA             5.91e-06   8.41e-07      7.025      0.000      4.24e-06  7.58e-06\n",
       "==============================================================================\n",
       "Omnibus:                       94.667   Durbin-Watson:                   1.577\n",
       "Prob(Omnibus):                  0.000   Jarque-Bera (JB):              903.418\n",
       "Skew:                           2.802   Prob(JB):                    6.69e-197\n",
       "Kurtosis:                      15.735   Cond. No.                     1.22e+07\n",
       "==============================================================================\n",
       "\n",
       "Warnings:\n",
       "[1] Standard Errors assume that the covariance matrix of the errors is correctly specified.\n",
       "[2] The condition number is large, 1.22e+07. This might indicate that there are\n",
       "strong multicollinearity or other numerical problems.\n",
       "\"\"\""
      ]
     },
     "execution_count": 48,
     "metadata": {},
     "output_type": "execute_result"
    }
   ],
   "source": [
    "multimod = smf.ols(formula='POI ~ TrafficStation + POPULATION + AREA',data=zipcode).fit()\n",
    "multimod.summary()"
   ]
  },
  {
   "cell_type": "markdown",
   "metadata": {},
   "source": [
    "**In conclusion, the number of bus stations is the most correlated factor with the number of POI points.** <br>\n",
    "Since area has an infinitesimally small correlation coefficient, there is no necessity to do further analysis the POI density (the number of POI points divide area) in Manhattan."
   ]
  },
  {
   "cell_type": "markdown",
   "metadata": {},
   "source": [
    "***"
   ]
  },
  {
   "cell_type": "markdown",
   "metadata": {},
   "source": [
    "# 10. Overall Conclusions"
   ]
  },
  {
   "cell_type": "markdown",
   "metadata": {},
   "source": [
    "** In conclusion, strong consistency and spatial correlation are shown between the traffic layout mode and the public service layout mode of Manhattan. The city central districts are common centre for the public service facilities and traffic stations. And they essentially have strong connection.**"
   ]
  }
 ],
 "metadata": {
  "kernelspec": {
   "display_name": "PUI2016_Python3",
   "language": "python",
   "name": "pui2016_python3"
  },
  "language_info": {
   "codemirror_mode": {
    "name": "ipython",
    "version": 3
   },
   "file_extension": ".py",
   "mimetype": "text/x-python",
   "name": "python",
   "nbconvert_exporter": "python",
   "pygments_lexer": "ipython3",
   "version": "3.5.4"
  }
 },
 "nbformat": 4,
 "nbformat_minor": 2
}
