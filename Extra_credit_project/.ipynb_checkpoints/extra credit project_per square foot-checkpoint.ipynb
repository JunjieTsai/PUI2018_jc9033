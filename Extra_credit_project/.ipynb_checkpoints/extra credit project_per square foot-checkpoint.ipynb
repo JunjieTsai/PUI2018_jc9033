{
 "cells": [
  {
   "cell_type": "code",
   "execution_count": 1,
   "metadata": {},
   "outputs": [
    {
     "name": "stdout",
     "output_type": "stream",
     "text": [
      "Populating the interactive namespace from numpy and matplotlib\n"
     ]
    },
    {
     "name": "stderr",
     "output_type": "stream",
     "text": [
      "/usr/local/Anaconda3-5.0.0-Linux-x86_64/envs/PUI2016_Python3/lib/python3.5/site-packages/IPython/core/magics/pylab.py:161: UserWarning: pylab import has clobbered these variables: ['plt']\n",
      "`%matplotlib` prevents importing * from pylab and numpy\n",
      "  \"\\n`%matplotlib` prevents importing * from pylab and numpy\"\n"
     ]
    }
   ],
   "source": [
    "from __future__ import print_function, division\n",
    "import pandas as pd\n",
    "import numpy as np\n",
    "\n",
    "import io\n",
    "import os\n",
    "import requests\n",
    "import shapely\n",
    "import json\n",
    "import urllib\n",
    "\n",
    "import geopandas as gpd\n",
    "from fiona.crs import from_epsg\n",
    "\n",
    "import scipy as sp\n",
    "from scipy import stats\n",
    "from scipy import ndimage\n",
    "\n",
    "import pylab as pl\n",
    "import matplotlib.pylab as plt\n",
    "\n",
    "%pylab inline\n",
    "%matplotlib inline"
   ]
  },
  {
   "cell_type": "markdown",
   "metadata": {},
   "source": [
    "# 1. process datasets"
   ]
  },
  {
   "cell_type": "markdown",
   "metadata": {},
   "source": [
    "## 1.1 zipcode shpfie"
   ]
  },
  {
   "cell_type": "code",
   "execution_count": 2,
   "metadata": {
    "scrolled": true
   },
   "outputs": [
    {
     "name": "stdout",
     "output_type": "stream",
     "text": [
      "mkdir: cannot create directory ‘/nfshome/jc9033/PUIdata/zipcode’: File exists\n",
      "Archive:  zipcode_file.gz\n",
      "  inflating: /nfshome/jc9033/PUIdata/zipcode/ZIP_CODE_040114.shx  \n",
      "  inflating: /nfshome/jc9033/PUIdata/zipcode/ZIP_CODE_040114.dbf  \n",
      "  inflating: /nfshome/jc9033/PUIdata/zipcode/ZIP_CODE_040114.prj  \n",
      "  inflating: /nfshome/jc9033/PUIdata/zipcode/ZIP_CODE_040114.sbn  \n",
      "  inflating: /nfshome/jc9033/PUIdata/zipcode/ZIP_CODE_040114.sbx  \n",
      "  inflating: /nfshome/jc9033/PUIdata/zipcode/ZIP_CODE_040114.shp  \n",
      "  inflating: /nfshome/jc9033/PUIdata/zipcode/ZIP_CODE_040114.shp.xml  \n"
     ]
    }
   ],
   "source": [
    "url = \"https://data.cityofnewyork.us/api/views/i8iw-xf4u/files/YObIR0MbpUVA0EpQzZSq5x55FzKGM2ejSeahdvjqR20?filename=ZIP_CODE_040114.zip\"\n",
    "urllib.request.urlretrieve(url, \"zipcode_file.gz\")\n",
    "!mkdir $PUIDATA/zipcode\n",
    "!unzip -o zipcode_file.gz -d $PUIDATA/zipcode"
   ]
  },
  {
   "cell_type": "code",
   "execution_count": 3,
   "metadata": {},
   "outputs": [
    {
     "name": "stdout",
     "output_type": "stream",
     "text": [
      "(112, 4)\n"
     ]
    },
    {
     "data": {
      "text/html": [
       "<div>\n",
       "<table border=\"1\" class=\"dataframe\">\n",
       "  <thead>\n",
       "    <tr style=\"text-align: right;\">\n",
       "      <th></th>\n",
       "      <th>ZIPCODE</th>\n",
       "      <th>POPULATION</th>\n",
       "      <th>AREA</th>\n",
       "      <th>geometry</th>\n",
       "    </tr>\n",
       "  </thead>\n",
       "  <tbody>\n",
       "    <tr>\n",
       "      <th>19</th>\n",
       "      <td>10463</td>\n",
       "      <td>70641.0</td>\n",
       "      <td>3.119702e+06</td>\n",
       "      <td>POLYGON ((1007634.817063555 258290.334846884, ...</td>\n",
       "    </tr>\n",
       "    <tr>\n",
       "      <th>21</th>\n",
       "      <td>10034</td>\n",
       "      <td>39149.0</td>\n",
       "      <td>2.450389e+07</td>\n",
       "      <td>POLYGON ((1006203.169008225 257345.6566181332,...</td>\n",
       "    </tr>\n",
       "    <tr>\n",
       "      <th>22</th>\n",
       "      <td>10033</td>\n",
       "      <td>54284.0</td>\n",
       "      <td>1.615605e+07</td>\n",
       "      <td>POLYGON ((1003020.86467731 256049.1618358046, ...</td>\n",
       "    </tr>\n",
       "  </tbody>\n",
       "</table>\n",
       "</div>"
      ],
      "text/plain": [
       "   ZIPCODE  POPULATION          AREA  \\\n",
       "19   10463     70641.0  3.119702e+06   \n",
       "21   10034     39149.0  2.450389e+07   \n",
       "22   10033     54284.0  1.615605e+07   \n",
       "\n",
       "                                             geometry  \n",
       "19  POLYGON ((1007634.817063555 258290.334846884, ...  \n",
       "21  POLYGON ((1006203.169008225 257345.6566181332,...  \n",
       "22  POLYGON ((1003020.86467731 256049.1618358046, ...  "
      ]
     },
     "execution_count": 3,
     "metadata": {},
     "output_type": "execute_result"
    }
   ],
   "source": [
    "zipcode = gpd.GeoDataFrame.from_file(os.getenv(\"PUIDATA\") + \"/zipcode/ZIP_CODE_040114.shp\")\n",
    "zipcode = zipcode[zipcode['COUNTY'] == 'New York']\n",
    "zipcode = zipcode[['ZIPCODE', 'POPULATION', 'AREA', 'geometry']]\n",
    "zipcode.crs = from_epsg(2263)\n",
    "#zipcode.crs = from_epsg(4326)\n",
    "#zipcode.crs = zipcode.to_crs(epsg=2263) \n",
    "print(zipcode.shape)\n",
    "zipcode.head(3)"
   ]
  },
  {
   "cell_type": "code",
   "execution_count": 4,
   "metadata": {},
   "outputs": [
    {
     "data": {
      "text/plain": [
       "<matplotlib.axes._subplots.AxesSubplot at 0x7f9fbfb108d0>"
      ]
     },
     "execution_count": 4,
     "metadata": {},
     "output_type": "execute_result"
    },
    {
     "data": {
      "image/png": "[encoded data removed]",
      "text/plain": [
       "<matplotlib.figure.Figure at 0x7f9fd2382860>"
      ]
     },
     "metadata": {},
     "output_type": "display_data"
    }
   ],
   "source": [
    "zipcode.plot()"
   ]
  },
  {
   "cell_type": "markdown",
   "metadata": {},
   "source": [
    "## 1.2 POI shpfile"
   ]
  },
  {
   "cell_type": "code",
   "execution_count": 5,
   "metadata": {},
   "outputs": [
    {
     "name": "stdout",
     "output_type": "stream",
     "text": [
      "mkdir: cannot create directory ‘/nfshome/jc9033/PUIdata/POI’: File exists\n",
      "Archive:  POI_file.gz\n",
      "  inflating: /nfshome/jc9033/PUIdata/POI/geo_export_1f790dcc-8917-44de-b428-9936e182e8a9.dbf  \n",
      "  inflating: /nfshome/jc9033/PUIdata/POI/geo_export_1f790dcc-8917-44de-b428-9936e182e8a9.shp  \n",
      "  inflating: /nfshome/jc9033/PUIdata/POI/geo_export_1f790dcc-8917-44de-b428-9936e182e8a9.shx  \n",
      "  inflating: /nfshome/jc9033/PUIdata/POI/geo_export_1f790dcc-8917-44de-b428-9936e182e8a9.prj  \n"
     ]
    }
   ],
   "source": [
    "url = \"https://data.cityofnewyork.us/api/geospatial/rxuy-2muj?method=export&format=Shapefile\"\n",
    "urllib.request.urlretrieve(url, \"POI_file.gz\")\n",
    "!mkdir $PUIDATA/POI\n",
    "!unzip -d $PUIDATA/POI POI_file.gz"
   ]
  },
  {
   "cell_type": "code",
   "execution_count": 6,
   "metadata": {},
   "outputs": [
    {
     "name": "stdout",
     "output_type": "stream",
     "text": [
      "(5777, 2)\n"
     ]
    },
    {
     "data": {
      "text/html": [
       "<div>\n",
       "<table border=\"1\" class=\"dataframe\">\n",
       "  <thead>\n",
       "    <tr style=\"text-align: right;\">\n",
       "      <th></th>\n",
       "      <th>POI_borough</th>\n",
       "      <th>geometry</th>\n",
       "    </tr>\n",
       "  </thead>\n",
       "  <tbody>\n",
       "    <tr>\n",
       "      <th>22</th>\n",
       "      <td>1</td>\n",
       "      <td>POINT (989104.3522338871 226715.9110106869)</td>\n",
       "    </tr>\n",
       "    <tr>\n",
       "      <th>24</th>\n",
       "      <td>1</td>\n",
       "      <td>POINT (1002439.031799316 240947.530395451)</td>\n",
       "    </tr>\n",
       "    <tr>\n",
       "      <th>25</th>\n",
       "      <td>1</td>\n",
       "      <td>POINT (991170.0405883786 201159.453613225)</td>\n",
       "    </tr>\n",
       "  </tbody>\n",
       "</table>\n",
       "</div>"
      ],
      "text/plain": [
       "    POI_borough                                     geometry\n",
       "22            1  POINT (989104.3522338871 226715.9110106869)\n",
       "24            1   POINT (1002439.031799316 240947.530395451)\n",
       "25            1   POINT (991170.0405883786 201159.453613225)"
      ]
     },
     "execution_count": 6,
     "metadata": {},
     "output_type": "execute_result"
    }
   ],
   "source": [
    "POI = gpd.GeoDataFrame.from_file(os.getenv(\"PUIDATA\") + \"/POI/geo_export_87f05754-f29b-4dc2-a82d-5c9479f324f2.shp\")\n",
    "POI.crs = from_epsg(4326)\n",
    "POI = POI.to_crs(epsg=2263)\n",
    "POI = POI[['borough','geometry']]\n",
    "POI.dropna(inplace=True)\n",
    "POI['borough'] = POI['borough'].astype(int)\n",
    "POI = POI[POI['borough'] == 1]\n",
    "POI.columns = ['POI_borough','geometry']\n",
    "print(POI.shape)\n",
    "POI.head(3)"
   ]
  },
  {
   "cell_type": "code",
   "execution_count": 7,
   "metadata": {},
   "outputs": [
    {
     "data": {
      "text/plain": [
       "<matplotlib.axes._subplots.AxesSubplot at 0x7f9fbfb205c0>"
      ]
     },
     "execution_count": 7,
     "metadata": {},
     "output_type": "execute_result"
    },
    {
     "data": {
      "image/png": "[encoded data removed]",
      "text/plain": [
       "<matplotlib.figure.Figure at 0x7f9fbfa217b8>"
      ]
     },
     "metadata": {},
     "output_type": "display_data"
    }
   ],
   "source": [
    "POI.plot()"
   ]
  },
  {
   "cell_type": "markdown",
   "metadata": {},
   "source": [
    "## 1.3 Subway station shpfile"
   ]
  },
  {
   "cell_type": "code",
   "execution_count": 8,
   "metadata": {},
   "outputs": [
    {
     "name": "stdout",
     "output_type": "stream",
     "text": [
      "mkdir: cannot create directory ‘/nfshome/jc9033/PUIdata/subway’: File exists\n",
      "Archive:  subway_file.gz\n",
      "  inflating: /nfshome/jc9033/PUIdata/subway/geo_export_1621b553-928c-49d1-956e-ddbb7c9cce69.dbf  \n",
      "  inflating: /nfshome/jc9033/PUIdata/subway/geo_export_1621b553-928c-49d1-956e-ddbb7c9cce69.shp  \n",
      "  inflating: /nfshome/jc9033/PUIdata/subway/geo_export_1621b553-928c-49d1-956e-ddbb7c9cce69.shx  \n",
      "  inflating: /nfshome/jc9033/PUIdata/subway/geo_export_1621b553-928c-49d1-956e-ddbb7c9cce69.prj  \n"
     ]
    }
   ],
   "source": [
    "url = \"https://data.cityofnewyork.us/api/geospatial/arq3-7z49?method=export&format=Shapefile\"\n",
    "urllib.request.urlretrieve(url, \"subway_file.gz\")\n",
    "!mkdir $PUIDATA/subway\n",
    "!unzip -d $PUIDATA/subway subway_file.gz"
   ]
  },
  {
   "cell_type": "code",
   "execution_count": 9,
   "metadata": {},
   "outputs": [
    {
     "name": "stdout",
     "output_type": "stream",
     "text": [
      "(473, 2)\n"
     ]
    },
    {
     "data": {
      "text/html": [
       "<div>\n",
       "<table border=\"1\" class=\"dataframe\">\n",
       "  <thead>\n",
       "    <tr style=\"text-align: right;\">\n",
       "      <th></th>\n",
       "      <th>geometry</th>\n",
       "      <th>subway_id</th>\n",
       "    </tr>\n",
       "  </thead>\n",
       "  <tbody>\n",
       "    <tr>\n",
       "      <th>0</th>\n",
       "      <td>POINT (986725.0019278985 205255.0527942391)</td>\n",
       "      <td>1.0</td>\n",
       "    </tr>\n",
       "    <tr>\n",
       "      <th>1</th>\n",
       "      <td>POINT (984196.5000951464 201155.8398640769)</td>\n",
       "      <td>2.0</td>\n",
       "    </tr>\n",
       "    <tr>\n",
       "      <th>2</th>\n",
       "      <td>POINT (988724.2161053148 216795.1908031626)</td>\n",
       "      <td>3.0</td>\n",
       "    </tr>\n",
       "  </tbody>\n",
       "</table>\n",
       "</div>"
      ],
      "text/plain": [
       "                                      geometry  subway_id\n",
       "0  POINT (986725.0019278985 205255.0527942391)        1.0\n",
       "1  POINT (984196.5000951464 201155.8398640769)        2.0\n",
       "2  POINT (988724.2161053148 216795.1908031626)        3.0"
      ]
     },
     "execution_count": 9,
     "metadata": {},
     "output_type": "execute_result"
    }
   ],
   "source": [
    "subway = gpd.GeoDataFrame.from_file(os.getenv(\"PUIDATA\") + \"/subway/geo_export_539576af-15f9-411d-9278-96f70d266f16.shp\")\n",
    "subway = subway[['geometry','objectid']]\n",
    "subway.columns = ['geometry','subway_id']\n",
    "subway.crs = from_epsg(4326)\n",
    "subway = subway.to_crs(epsg=2263)\n",
    "print(subway.shape)\n",
    "subway.head(3)"
   ]
  },
  {
   "cell_type": "code",
   "execution_count": 10,
   "metadata": {},
   "outputs": [
    {
     "data": {
      "text/plain": [
       "<matplotlib.axes._subplots.AxesSubplot at 0x7f9fbcc87cf8>"
      ]
     },
     "execution_count": 10,
     "metadata": {},
     "output_type": "execute_result"
    },
    {
     "data": {
      "image/png": "[encoded data removed]",
      "text/plain": [
       "<matplotlib.figure.Figure at 0x7f9fbcca8f60>"
      ]
     },
     "metadata": {},
     "output_type": "display_data"
    }
   ],
   "source": [
    "subway.plot()"
   ]
  },
  {
   "cell_type": "code",
   "execution_count": 11,
   "metadata": {},
   "outputs": [
    {
     "name": "stdout",
     "output_type": "stream",
     "text": [
      "(152, 2)\n"
     ]
    },
    {
     "data": {
      "text/html": [
       "<div>\n",
       "<table border=\"1\" class=\"dataframe\">\n",
       "  <thead>\n",
       "    <tr style=\"text-align: right;\">\n",
       "      <th></th>\n",
       "      <th>geometry</th>\n",
       "      <th>subway_id</th>\n",
       "    </tr>\n",
       "  </thead>\n",
       "  <tbody>\n",
       "    <tr>\n",
       "      <th>0</th>\n",
       "      <td>POINT (986725.0019278985 205255.0527942391)</td>\n",
       "      <td>1.0</td>\n",
       "    </tr>\n",
       "    <tr>\n",
       "      <th>104</th>\n",
       "      <td>POINT (987034.9461898913 206937.932958669)</td>\n",
       "      <td>105.0</td>\n",
       "    </tr>\n",
       "    <tr>\n",
       "      <th>370</th>\n",
       "      <td>POINT (987039.020328727 202831.4349380784)</td>\n",
       "      <td>371.0</td>\n",
       "    </tr>\n",
       "  </tbody>\n",
       "</table>\n",
       "</div>"
      ],
      "text/plain": [
       "                                        geometry  subway_id\n",
       "0    POINT (986725.0019278985 205255.0527942391)        1.0\n",
       "104   POINT (987034.9461898913 206937.932958669)      105.0\n",
       "370   POINT (987039.020328727 202831.4349380784)      371.0"
      ]
     },
     "execution_count": 11,
     "metadata": {},
     "output_type": "execute_result"
    }
   ],
   "source": [
    "subway = gpd.sjoin(subway, zipcode, how=\"inner\")[['geometry', 'subway_id']]\n",
    "print(subway.shape)\n",
    "subway.head(3)"
   ]
  },
  {
   "cell_type": "code",
   "execution_count": 12,
   "metadata": {},
   "outputs": [
    {
     "data": {
      "text/plain": [
       "<matplotlib.axes._subplots.AxesSubplot at 0x7f9fbcd2f518>"
      ]
     },
     "execution_count": 12,
     "metadata": {},
     "output_type": "execute_result"
    },
    {
     "data": {
      "image/png": "[encoded data removed]",
      "text/plain": [
       "<matplotlib.figure.Figure at 0x7f9fbcd44ac8>"
      ]
     },
     "metadata": {},
     "output_type": "display_data"
    }
   ],
   "source": [
    "subway.plot()"
   ]
  },
  {
   "cell_type": "markdown",
   "metadata": {},
   "source": [
    "## 1.4 Bus station shpfile"
   ]
  },
  {
   "cell_type": "code",
   "execution_count": 13,
   "metadata": {},
   "outputs": [
    {
     "name": "stdout",
     "output_type": "stream",
     "text": [
      "mkdir: cannot create directory ‘/nfshome/jc9033/PUIdata/bus’: File exists\n",
      "Archive:  bus_file.gz\n",
      "  inflating: /nfshome/jc9033/PUIdata/bus/geo_export_18f3d4ff-f72e-41e8-a047-9c6c36eaeb7a.dbf  \n",
      "  inflating: /nfshome/jc9033/PUIdata/bus/geo_export_18f3d4ff-f72e-41e8-a047-9c6c36eaeb7a.shp  \n",
      "  inflating: /nfshome/jc9033/PUIdata/bus/geo_export_18f3d4ff-f72e-41e8-a047-9c6c36eaeb7a.shx  \n",
      "  inflating: /nfshome/jc9033/PUIdata/bus/geo_export_18f3d4ff-f72e-41e8-a047-9c6c36eaeb7a.prj  \n"
     ]
    }
   ],
   "source": [
    "url = \"https://data.cityofnewyork.us/api/geospatial/qafz-7myz?method=export&format=Shapefile\"\n",
    "urllib.request.urlretrieve(url, \"bus_file.gz\")\n",
    "!mkdir $PUIDATA/bus\n",
    "!unzip -d $PUIDATA/bus bus_file.gz"
   ]
  },
  {
   "cell_type": "code",
   "execution_count": 14,
   "metadata": {},
   "outputs": [
    {
     "name": "stdout",
     "output_type": "stream",
     "text": [
      "(3428, 2)\n"
     ]
    },
    {
     "data": {
      "text/html": [
       "<div>\n",
       "<table border=\"1\" class=\"dataframe\">\n",
       "  <thead>\n",
       "    <tr style=\"text-align: right;\">\n",
       "      <th></th>\n",
       "      <th>bus_id</th>\n",
       "      <th>geometry</th>\n",
       "    </tr>\n",
       "  </thead>\n",
       "  <tbody>\n",
       "    <tr>\n",
       "      <th>0</th>\n",
       "      <td>1.0</td>\n",
       "      <td>POINT (998713.9845957432 196791.4612668745)</td>\n",
       "    </tr>\n",
       "    <tr>\n",
       "      <th>1</th>\n",
       "      <td>2.0</td>\n",
       "      <td>POINT (999451.1694101784 201267.7107736471)</td>\n",
       "    </tr>\n",
       "    <tr>\n",
       "      <th>2</th>\n",
       "      <td>3.0</td>\n",
       "      <td>POINT (999282.6626072562 195394.2365739072)</td>\n",
       "    </tr>\n",
       "  </tbody>\n",
       "</table>\n",
       "</div>"
      ],
      "text/plain": [
       "   bus_id                                     geometry\n",
       "0     1.0  POINT (998713.9845957432 196791.4612668745)\n",
       "1     2.0  POINT (999451.1694101784 201267.7107736471)\n",
       "2     3.0  POINT (999282.6626072562 195394.2365739072)"
      ]
     },
     "execution_count": 14,
     "metadata": {},
     "output_type": "execute_result"
    }
   ],
   "source": [
    "bus = gpd.GeoDataFrame.from_file(os.getenv(\"PUIDATA\") + \"/bus/geo_export_85792e91-7386-4102-9317-caa2249ff1eb.shp\")\n",
    "bus = bus[['asset_id', 'geometry']]\n",
    "bus.columns = ['bus_id', 'geometry']\n",
    "bus.crs = from_epsg(4326)\n",
    "bus = bus.to_crs(epsg=2263)\n",
    "print(bus.shape)\n",
    "bus.head(3)"
   ]
  },
  {
   "cell_type": "code",
   "execution_count": 15,
   "metadata": {},
   "outputs": [
    {
     "data": {
      "text/plain": [
       "<matplotlib.axes._subplots.AxesSubplot at 0x7f9fbccc8eb8>"
      ]
     },
     "execution_count": 15,
     "metadata": {},
     "output_type": "execute_result"
    },
    {
     "data": {
      "image/png": "[encoded data removed]",
      "text/plain": [
       "<matplotlib.figure.Figure at 0x7f9fbcd35ac8>"
      ]
     },
     "metadata": {},
     "output_type": "display_data"
    }
   ],
   "source": [
    "bus.plot()"
   ]
  },
  {
   "cell_type": "code",
   "execution_count": 16,
   "metadata": {},
   "outputs": [
    {
     "name": "stdout",
     "output_type": "stream",
     "text": [
      "(755, 2)\n"
     ]
    },
    {
     "data": {
      "text/html": [
       "<div>\n",
       "<table border=\"1\" class=\"dataframe\">\n",
       "  <thead>\n",
       "    <tr style=\"text-align: right;\">\n",
       "      <th></th>\n",
       "      <th>geometry</th>\n",
       "      <th>bus_id</th>\n",
       "    </tr>\n",
       "  </thead>\n",
       "  <tbody>\n",
       "    <tr>\n",
       "      <th>903</th>\n",
       "      <td>POINT (987048.9820783393 207785.7335819595)</td>\n",
       "      <td>904.0</td>\n",
       "    </tr>\n",
       "    <tr>\n",
       "      <th>1563</th>\n",
       "      <td>POINT (986159.9966711717 207305.0940948088)</td>\n",
       "      <td>1564.0</td>\n",
       "    </tr>\n",
       "    <tr>\n",
       "      <th>1564</th>\n",
       "      <td>POINT (987714.2675982895 206518.31025707)</td>\n",
       "      <td>1565.0</td>\n",
       "    </tr>\n",
       "  </tbody>\n",
       "</table>\n",
       "</div>"
      ],
      "text/plain": [
       "                                         geometry  bus_id\n",
       "903   POINT (987048.9820783393 207785.7335819595)   904.0\n",
       "1563  POINT (986159.9966711717 207305.0940948088)  1564.0\n",
       "1564    POINT (987714.2675982895 206518.31025707)  1565.0"
      ]
     },
     "execution_count": 16,
     "metadata": {},
     "output_type": "execute_result"
    }
   ],
   "source": [
    "bus = gpd.sjoin(bus, zipcode, how=\"inner\")[['geometry', 'bus_id']]\n",
    "print(bus.shape)\n",
    "bus.head(3)"
   ]
  },
  {
   "cell_type": "code",
   "execution_count": 17,
   "metadata": {},
   "outputs": [
    {
     "data": {
      "text/plain": [
       "<matplotlib.axes._subplots.AxesSubplot at 0x7f9fbcec1d68>"
      ]
     },
     "execution_count": 17,
     "metadata": {},
     "output_type": "execute_result"
    },
    {
     "data": {
      "image/png": "[encoded data removed]",
      "text/plain": [
       "<matplotlib.figure.Figure at 0x7f9fbce3cba8>"
      ]
     },
     "metadata": {},
     "output_type": "display_data"
    }
   ],
   "source": [
    "bus.plot()"
   ]
  },
  {
   "cell_type": "markdown",
   "metadata": {},
   "source": [
    "## 1.5 Generate all traffic station points"
   ]
  },
  {
   "cell_type": "code",
   "execution_count": 18,
   "metadata": {},
   "outputs": [
    {
     "name": "stdout",
     "output_type": "stream",
     "text": [
      "(907, 2)\n"
     ]
    },
    {
     "data": {
      "text/html": [
       "<div>\n",
       "<table border=\"1\" class=\"dataframe\">\n",
       "  <thead>\n",
       "    <tr style=\"text-align: right;\">\n",
       "      <th></th>\n",
       "      <th>TrafficStation</th>\n",
       "      <th>geometry</th>\n",
       "    </tr>\n",
       "  </thead>\n",
       "  <tbody>\n",
       "    <tr>\n",
       "      <th>0</th>\n",
       "      <td>903</td>\n",
       "      <td>POINT (987048.9820783393 207785.7335819595)</td>\n",
       "    </tr>\n",
       "    <tr>\n",
       "      <th>1</th>\n",
       "      <td>1563</td>\n",
       "      <td>POINT (986159.9966711717 207305.0940948088)</td>\n",
       "    </tr>\n",
       "    <tr>\n",
       "      <th>2</th>\n",
       "      <td>1564</td>\n",
       "      <td>POINT (987714.2675982895 206518.31025707)</td>\n",
       "    </tr>\n",
       "    <tr>\n",
       "      <th>3</th>\n",
       "      <td>1664</td>\n",
       "      <td>POINT (986602.7137353685 203035.5358111775)</td>\n",
       "    </tr>\n",
       "    <tr>\n",
       "      <th>4</th>\n",
       "      <td>1748</td>\n",
       "      <td>POINT (987327.1198019211 204183.6237035487)</td>\n",
       "    </tr>\n",
       "  </tbody>\n",
       "</table>\n",
       "</div>"
      ],
      "text/plain": [
       "   TrafficStation                                     geometry\n",
       "0             903  POINT (987048.9820783393 207785.7335819595)\n",
       "1            1563  POINT (986159.9966711717 207305.0940948088)\n",
       "2            1564    POINT (987714.2675982895 206518.31025707)\n",
       "3            1664  POINT (986602.7137353685 203035.5358111775)\n",
       "4            1748  POINT (987327.1198019211 204183.6237035487)"
      ]
     },
     "execution_count": 18,
     "metadata": {},
     "output_type": "execute_result"
    }
   ],
   "source": [
    "TrafficStation = bus.drop('bus_id',axis=1).append(subway.drop('subway_id',axis=1)).reset_index().rename(columns={'index':'TrafficStation'})\n",
    "print(TrafficStation.shape)\n",
    "TrafficStation.head()"
   ]
  },
  {
   "cell_type": "code",
   "execution_count": 19,
   "metadata": {},
   "outputs": [
    {
     "data": {
      "text/plain": [
       "<matplotlib.axes._subplots.AxesSubplot at 0x7f9fbcf044e0>"
      ]
     },
     "execution_count": 19,
     "metadata": {},
     "output_type": "execute_result"
    },
    {
     "data": {
      "image/png": "[encoded data removed]",
      "text/plain": [
       "<matplotlib.figure.Figure at 0x7f9fbce51470>"
      ]
     },
     "metadata": {},
     "output_type": "display_data"
    }
   ],
   "source": [
    "TrafficStation.plot()"
   ]
  },
  {
   "cell_type": "markdown",
   "metadata": {},
   "source": [
    "# 2. Sjoin"
   ]
  },
  {
   "cell_type": "code",
   "execution_count": 20,
   "metadata": {},
   "outputs": [
    {
     "name": "stdout",
     "output_type": "stream",
     "text": [
      "(5777, 2)\n",
      "(152, 2)\n",
      "(755, 2)\n",
      "(112, 4)\n"
     ]
    }
   ],
   "source": [
    "print(POI.shape)\n",
    "print(subway.shape)\n",
    "print(bus.shape)\n",
    "print(zipcode.shape)"
   ]
  },
  {
   "cell_type": "code",
   "execution_count": 21,
   "metadata": {},
   "outputs": [
    {
     "name": "stdout",
     "output_type": "stream",
     "text": [
      "5645\n",
      "(106, 2)\n"
     ]
    },
    {
     "data": {
      "text/html": [
       "<div>\n",
       "<table border=\"1\" class=\"dataframe\">\n",
       "  <thead>\n",
       "    <tr style=\"text-align: right;\">\n",
       "      <th></th>\n",
       "      <th>ZIPCODE</th>\n",
       "      <th>POI_borough</th>\n",
       "    </tr>\n",
       "  </thead>\n",
       "  <tbody>\n",
       "    <tr>\n",
       "      <th>0</th>\n",
       "      <td>00083</td>\n",
       "      <td>213</td>\n",
       "    </tr>\n",
       "    <tr>\n",
       "      <th>1</th>\n",
       "      <td>10001</td>\n",
       "      <td>118</td>\n",
       "    </tr>\n",
       "    <tr>\n",
       "      <th>2</th>\n",
       "      <td>10002</td>\n",
       "      <td>297</td>\n",
       "    </tr>\n",
       "    <tr>\n",
       "      <th>3</th>\n",
       "      <td>10003</td>\n",
       "      <td>205</td>\n",
       "    </tr>\n",
       "    <tr>\n",
       "      <th>4</th>\n",
       "      <td>10004</td>\n",
       "      <td>70</td>\n",
       "    </tr>\n",
       "  </tbody>\n",
       "</table>\n",
       "</div>"
      ],
      "text/plain": [
       "  ZIPCODE  POI_borough\n",
       "0   00083          213\n",
       "1   10001          118\n",
       "2   10002          297\n",
       "3   10003          205\n",
       "4   10004           70"
      ]
     },
     "execution_count": 21,
     "metadata": {},
     "output_type": "execute_result"
    }
   ],
   "source": [
    "sjoin_POI = gpd.sjoin(zipcode, POI, how=\"left\")[['ZIPCODE','POI_borough']].groupby(\"ZIPCODE\").count()\n",
    "sjoin_POI = sjoin_POI.reset_index()\n",
    "print(sjoin_POI.POI_borough.sum())\n",
    "print(sjoin_POI.shape)\n",
    "sjoin_POI.head()"
   ]
  },
  {
   "cell_type": "code",
   "execution_count": 22,
   "metadata": {},
   "outputs": [
    {
     "name": "stdout",
     "output_type": "stream",
     "text": [
      "152\n",
      "(106, 2)\n"
     ]
    },
    {
     "data": {
      "text/html": [
       "<div>\n",
       "<table border=\"1\" class=\"dataframe\">\n",
       "  <thead>\n",
       "    <tr style=\"text-align: right;\">\n",
       "      <th></th>\n",
       "      <th>ZIPCODE</th>\n",
       "      <th>subway_id</th>\n",
       "    </tr>\n",
       "  </thead>\n",
       "  <tbody>\n",
       "    <tr>\n",
       "      <th>0</th>\n",
       "      <td>00083</td>\n",
       "      <td>6</td>\n",
       "    </tr>\n",
       "    <tr>\n",
       "      <th>1</th>\n",
       "      <td>10001</td>\n",
       "      <td>7</td>\n",
       "    </tr>\n",
       "    <tr>\n",
       "      <th>2</th>\n",
       "      <td>10002</td>\n",
       "      <td>5</td>\n",
       "    </tr>\n",
       "    <tr>\n",
       "      <th>3</th>\n",
       "      <td>10003</td>\n",
       "      <td>7</td>\n",
       "    </tr>\n",
       "    <tr>\n",
       "      <th>4</th>\n",
       "      <td>10004</td>\n",
       "      <td>3</td>\n",
       "    </tr>\n",
       "  </tbody>\n",
       "</table>\n",
       "</div>"
      ],
      "text/plain": [
       "  ZIPCODE  subway_id\n",
       "0   00083          6\n",
       "1   10001          7\n",
       "2   10002          5\n",
       "3   10003          7\n",
       "4   10004          3"
      ]
     },
     "execution_count": 22,
     "metadata": {},
     "output_type": "execute_result"
    }
   ],
   "source": [
    "sjoin_subway = gpd.sjoin(zipcode, subway, how=\"left\")[['ZIPCODE','subway_id']].groupby(\"ZIPCODE\").count()\n",
    "sjoin_subway = sjoin_subway.reset_index()\n",
    "print(sjoin_subway.subway_id.sum())\n",
    "print(sjoin_subway.shape)\n",
    "sjoin_subway.head()"
   ]
  },
  {
   "cell_type": "code",
   "execution_count": 23,
   "metadata": {},
   "outputs": [
    {
     "name": "stdout",
     "output_type": "stream",
     "text": [
      "759\n",
      "(106, 2)\n"
     ]
    },
    {
     "data": {
      "text/html": [
       "<div>\n",
       "<table border=\"1\" class=\"dataframe\">\n",
       "  <thead>\n",
       "    <tr style=\"text-align: right;\">\n",
       "      <th></th>\n",
       "      <th>ZIPCODE</th>\n",
       "      <th>bus_id</th>\n",
       "    </tr>\n",
       "  </thead>\n",
       "  <tbody>\n",
       "    <tr>\n",
       "      <th>0</th>\n",
       "      <td>00083</td>\n",
       "      <td>0</td>\n",
       "    </tr>\n",
       "    <tr>\n",
       "      <th>1</th>\n",
       "      <td>10001</td>\n",
       "      <td>19</td>\n",
       "    </tr>\n",
       "    <tr>\n",
       "      <th>2</th>\n",
       "      <td>10002</td>\n",
       "      <td>33</td>\n",
       "    </tr>\n",
       "    <tr>\n",
       "      <th>3</th>\n",
       "      <td>10003</td>\n",
       "      <td>15</td>\n",
       "    </tr>\n",
       "    <tr>\n",
       "      <th>4</th>\n",
       "      <td>10004</td>\n",
       "      <td>3</td>\n",
       "    </tr>\n",
       "  </tbody>\n",
       "</table>\n",
       "</div>"
      ],
      "text/plain": [
       "  ZIPCODE  bus_id\n",
       "0   00083       0\n",
       "1   10001      19\n",
       "2   10002      33\n",
       "3   10003      15\n",
       "4   10004       3"
      ]
     },
     "execution_count": 23,
     "metadata": {},
     "output_type": "execute_result"
    }
   ],
   "source": [
    "sjoin_bus = gpd.sjoin(zipcode, bus, how=\"left\")[['ZIPCODE','bus_id']].groupby(\"ZIPCODE\").count()\n",
    "sjoin_bus = sjoin_bus.reset_index()\n",
    "print(sjoin_bus.bus_id.sum())\n",
    "print(sjoin_bus.shape)\n",
    "sjoin_bus.head()"
   ]
  },
  {
   "cell_type": "code",
   "execution_count": 24,
   "metadata": {
    "scrolled": true
   },
   "outputs": [
    {
     "data": {
      "text/html": [
       "<div>\n",
       "<table border=\"1\" class=\"dataframe\">\n",
       "  <thead>\n",
       "    <tr style=\"text-align: right;\">\n",
       "      <th></th>\n",
       "      <th>ZIPCODE</th>\n",
       "      <th>POPULATION</th>\n",
       "      <th>AREA</th>\n",
       "      <th>geometry</th>\n",
       "      <th>POI</th>\n",
       "      <th>subway</th>\n",
       "      <th>bus</th>\n",
       "      <th>TrafficStation</th>\n",
       "    </tr>\n",
       "  </thead>\n",
       "  <tbody>\n",
       "    <tr>\n",
       "      <th>0</th>\n",
       "      <td>10463</td>\n",
       "      <td>70641.0</td>\n",
       "      <td>3.119702e+06</td>\n",
       "      <td>POLYGON ((1007634.817063555 258290.334846884, ...</td>\n",
       "      <td>15</td>\n",
       "      <td>1</td>\n",
       "      <td>3</td>\n",
       "      <td>4</td>\n",
       "    </tr>\n",
       "    <tr>\n",
       "      <th>1</th>\n",
       "      <td>10034</td>\n",
       "      <td>39149.0</td>\n",
       "      <td>2.450389e+07</td>\n",
       "      <td>POLYGON ((1006203.169008225 257345.6566181332,...</td>\n",
       "      <td>117</td>\n",
       "      <td>3</td>\n",
       "      <td>15</td>\n",
       "      <td>18</td>\n",
       "    </tr>\n",
       "    <tr>\n",
       "      <th>2</th>\n",
       "      <td>10033</td>\n",
       "      <td>54284.0</td>\n",
       "      <td>1.615605e+07</td>\n",
       "      <td>POLYGON ((1003020.86467731 256049.1618358046, ...</td>\n",
       "      <td>88</td>\n",
       "      <td>3</td>\n",
       "      <td>15</td>\n",
       "      <td>18</td>\n",
       "    </tr>\n",
       "    <tr>\n",
       "      <th>3</th>\n",
       "      <td>10040</td>\n",
       "      <td>41033.0</td>\n",
       "      <td>1.634074e+07</td>\n",
       "      <td>POLYGON ((1002564.135275811 253724.7731118798,...</td>\n",
       "      <td>100</td>\n",
       "      <td>4</td>\n",
       "      <td>16</td>\n",
       "      <td>20</td>\n",
       "    </tr>\n",
       "    <tr>\n",
       "      <th>4</th>\n",
       "      <td>10032</td>\n",
       "      <td>57606.0</td>\n",
       "      <td>2.315957e+07</td>\n",
       "      <td>POLYGON ((998935.8528342247 249154.259943217, ...</td>\n",
       "      <td>149</td>\n",
       "      <td>5</td>\n",
       "      <td>35</td>\n",
       "      <td>40</td>\n",
       "    </tr>\n",
       "  </tbody>\n",
       "</table>\n",
       "</div>"
      ],
      "text/plain": [
       "  ZIPCODE  POPULATION          AREA  \\\n",
       "0   10463     70641.0  3.119702e+06   \n",
       "1   10034     39149.0  2.450389e+07   \n",
       "2   10033     54284.0  1.615605e+07   \n",
       "3   10040     41033.0  1.634074e+07   \n",
       "4   10032     57606.0  2.315957e+07   \n",
       "\n",
       "                                            geometry  POI  subway  bus  \\\n",
       "0  POLYGON ((1007634.817063555 258290.334846884, ...   15       1    3   \n",
       "1  POLYGON ((1006203.169008225 257345.6566181332,...  117       3   15   \n",
       "2  POLYGON ((1003020.86467731 256049.1618358046, ...   88       3   15   \n",
       "3  POLYGON ((1002564.135275811 253724.7731118798,...  100       4   16   \n",
       "4  POLYGON ((998935.8528342247 249154.259943217, ...  149       5   35   \n",
       "\n",
       "   TrafficStation  \n",
       "0               4  \n",
       "1              18  \n",
       "2              18  \n",
       "3              20  \n",
       "4              40  "
      ]
     },
     "execution_count": 24,
     "metadata": {},
     "output_type": "execute_result"
    }
   ],
   "source": [
    "zipcode = pd.merge(zipcode, sjoin_POI, on='ZIPCODE')\n",
    "zipcode = pd.merge(zipcode, sjoin_subway, on='ZIPCODE')\n",
    "zipcode = pd.merge(zipcode, sjoin_bus, on='ZIPCODE')\n",
    "\n",
    "zipcode.rename(columns={'POI_borough':'POI', 'subway_id': 'subway', 'bus_id':'bus'}, inplace=True)\n",
    "\n",
    "zipcode['TrafficStation'] = zipcode['subway'] + zipcode['bus']\n",
    "zipcode.head()"
   ]
  },
  {
   "cell_type": "markdown",
   "metadata": {},
   "source": [
    "## Density Calculation"
   ]
  },
  {
   "cell_type": "code",
   "execution_count": 25,
   "metadata": {},
   "outputs": [
    {
     "data": {
      "text/html": [
       "<div>\n",
       "<table border=\"1\" class=\"dataframe\">\n",
       "  <thead>\n",
       "    <tr style=\"text-align: right;\">\n",
       "      <th></th>\n",
       "      <th>ZIPCODE</th>\n",
       "      <th>POPULATION</th>\n",
       "      <th>AREA</th>\n",
       "      <th>geometry</th>\n",
       "      <th>POI</th>\n",
       "      <th>subway</th>\n",
       "      <th>bus</th>\n",
       "      <th>TrafficStation</th>\n",
       "    </tr>\n",
       "  </thead>\n",
       "  <tbody>\n",
       "    <tr>\n",
       "      <th>0</th>\n",
       "      <td>10463</td>\n",
       "      <td>70641.0</td>\n",
       "      <td>3.119702e+06</td>\n",
       "      <td>POLYGON ((1007634.817063555 258290.334846884, ...</td>\n",
       "      <td>4.808152</td>\n",
       "      <td>0.320543</td>\n",
       "      <td>0.961630</td>\n",
       "      <td>1.282174</td>\n",
       "    </tr>\n",
       "    <tr>\n",
       "      <th>1</th>\n",
       "      <td>10034</td>\n",
       "      <td>39149.0</td>\n",
       "      <td>2.450389e+07</td>\n",
       "      <td>POLYGON ((1006203.169008225 257345.6566181332,...</td>\n",
       "      <td>4.774752</td>\n",
       "      <td>0.122430</td>\n",
       "      <td>0.612148</td>\n",
       "      <td>0.734577</td>\n",
       "    </tr>\n",
       "    <tr>\n",
       "      <th>2</th>\n",
       "      <td>10033</td>\n",
       "      <td>54284.0</td>\n",
       "      <td>1.615605e+07</td>\n",
       "      <td>POLYGON ((1003020.86467731 256049.1618358046, ...</td>\n",
       "      <td>5.446875</td>\n",
       "      <td>0.185689</td>\n",
       "      <td>0.928445</td>\n",
       "      <td>1.114133</td>\n",
       "    </tr>\n",
       "    <tr>\n",
       "      <th>3</th>\n",
       "      <td>10040</td>\n",
       "      <td>41033.0</td>\n",
       "      <td>1.634074e+07</td>\n",
       "      <td>POLYGON ((1002564.135275811 253724.7731118798,...</td>\n",
       "      <td>6.119673</td>\n",
       "      <td>0.244787</td>\n",
       "      <td>0.979148</td>\n",
       "      <td>1.223935</td>\n",
       "    </tr>\n",
       "    <tr>\n",
       "      <th>4</th>\n",
       "      <td>10032</td>\n",
       "      <td>57606.0</td>\n",
       "      <td>2.315957e+07</td>\n",
       "      <td>POLYGON ((998935.8528342247 249154.259943217, ...</td>\n",
       "      <td>6.433627</td>\n",
       "      <td>0.215894</td>\n",
       "      <td>1.511255</td>\n",
       "      <td>1.727148</td>\n",
       "    </tr>\n",
       "  </tbody>\n",
       "</table>\n",
       "</div>"
      ],
      "text/plain": [
       "  ZIPCODE  POPULATION          AREA  \\\n",
       "0   10463     70641.0  3.119702e+06   \n",
       "1   10034     39149.0  2.450389e+07   \n",
       "2   10033     54284.0  1.615605e+07   \n",
       "3   10040     41033.0  1.634074e+07   \n",
       "4   10032     57606.0  2.315957e+07   \n",
       "\n",
       "                                            geometry       POI    subway  \\\n",
       "0  POLYGON ((1007634.817063555 258290.334846884, ...  4.808152  0.320543   \n",
       "1  POLYGON ((1006203.169008225 257345.6566181332,...  4.774752  0.122430   \n",
       "2  POLYGON ((1003020.86467731 256049.1618358046, ...  5.446875  0.185689   \n",
       "3  POLYGON ((1002564.135275811 253724.7731118798,...  6.119673  0.244787   \n",
       "4  POLYGON ((998935.8528342247 249154.259943217, ...  6.433627  0.215894   \n",
       "\n",
       "        bus  TrafficStation  \n",
       "0  0.961630        1.282174  \n",
       "1  0.612148        0.734577  \n",
       "2  0.928445        1.114133  \n",
       "3  0.979148        1.223935  \n",
       "4  1.511255        1.727148  "
      ]
     },
     "execution_count": 25,
     "metadata": {},
     "output_type": "execute_result"
    }
   ],
   "source": [
    "zipcode['POI'] = zipcode['POI']/zipcode['AREA'] * 1e6\n",
    "zipcode['subway'] = zipcode['subway']/zipcode['AREA'] * 1e6\n",
    "zipcode['bus'] = zipcode['bus']/zipcode['AREA'] * 1e6\n",
    "zipcode['TrafficStation'] = zipcode['TrafficStation']/zipcode['AREA'] * 1e6\n",
    "zipcode.head()"
   ]
  },
  {
   "cell_type": "markdown",
   "metadata": {},
   "source": [
    "# 3. Heatmap"
   ]
  },
  {
   "cell_type": "code",
   "execution_count": 26,
   "metadata": {},
   "outputs": [],
   "source": [
    "# refer to http://nbviewer.jupyter.org/gist/perrygeo/c426355e40037c452434\n",
    "\n",
    "def heatmap(d, bins=(100,100), smoothing=1.3, cmap='jet'):\n",
    "    def getx(pt):\n",
    "        return pt.coords[0][0]\n",
    "\n",
    "    def gety(pt):\n",
    "        return pt.coords[0][1]\n",
    "\n",
    "    x = list(d.geometry.apply(getx))\n",
    "    y = list(d.geometry.apply(gety))\n",
    "    heatmap, xedges, yedges = np.histogram2d(y, x, bins=bins)\n",
    "    extent = [yedges[0], yedges[-1], xedges[-1], xedges[0]]\n",
    "\n",
    "    logheatmap = np.log(heatmap)\n",
    "    logheatmap[np.isneginf(logheatmap)] = 0\n",
    "    logheatmap = ndimage.filters.gaussian_filter(logheatmap, smoothing, mode='nearest')\n",
    "        \n",
    "    plt.imshow(logheatmap, cmap=cmap, extent=extent)\n",
    "    plt.colorbar()\n",
    "    plt.gca().invert_yaxis()\n",
    "    plt.show()"
   ]
  },
  {
   "cell_type": "code",
   "execution_count": 27,
   "metadata": {},
   "outputs": [
    {
     "data": {
      "image/png": "[encoded data removed]",
      "text/plain": [
       "<matplotlib.figure.Figure at 0x7f9fbcea4438>"
      ]
     },
     "metadata": {},
     "output_type": "display_data"
    }
   ],
   "source": [
    "fig = pl.figure(figsize=(20,5))\n",
    "ax1 = fig.add_subplot(111)\n",
    "ax1.set_title(\"POI points number\")\n",
    "heatmap(POI, bins=50, smoothing=1)"
   ]
  },
  {
   "cell_type": "code",
   "execution_count": 28,
   "metadata": {},
   "outputs": [
    {
     "data": {
      "image/png": "[encoded data removed]",
      "text/plain": [
       "<matplotlib.figure.Figure at 0x7f9fbcdf0400>"
      ]
     },
     "metadata": {},
     "output_type": "display_data"
    }
   ],
   "source": [
    "fig = pl.figure(figsize=(20,5))\n",
    "ax1 = fig.add_subplot(111)\n",
    "ax1.set_title(\"subway station number\")\n",
    "heatmap(subway, bins=50, smoothing=1)"
   ]
  },
  {
   "cell_type": "code",
   "execution_count": 29,
   "metadata": {},
   "outputs": [
    {
     "data": {
      "image/png": "[encoded data removed]",
      "text/plain": [
       "<matplotlib.figure.Figure at 0x7f9fbcec6668>"
      ]
     },
     "metadata": {},
     "output_type": "display_data"
    }
   ],
   "source": [
    "fig = pl.figure(figsize=(20,5))\n",
    "ax1 = fig.add_subplot(111)\n",
    "ax1.set_title(\"bus station number\")\n",
    "heatmap(bus, bins=50, smoothing=1)"
   ]
  },
  {
   "cell_type": "code",
   "execution_count": 30,
   "metadata": {},
   "outputs": [
    {
     "data": {
      "image/png": "[encoded data removed]",
      "text/plain": [
       "<matplotlib.figure.Figure at 0x7f9fbcf1a6d8>"
      ]
     },
     "metadata": {},
     "output_type": "display_data"
    }
   ],
   "source": [
    "fig = pl.figure(figsize=(20,5))\n",
    "ax1 = fig.add_subplot(111)\n",
    "ax1.set_title(\"all traffic station number\")\n",
    "heatmap(TrafficStation, bins=50, smoothing=1)"
   ]
  },
  {
   "cell_type": "markdown",
   "metadata": {},
   "source": [
    "# 4. Choropleth maps"
   ]
  },
  {
   "cell_type": "code",
   "execution_count": 31,
   "metadata": {},
   "outputs": [
    {
     "data": {
      "text/plain": [
       "(969193.1559385045, 1011861.583035858, 184889.21821436362, 263166.540957316)"
      ]
     },
     "execution_count": 31,
     "metadata": {},
     "output_type": "execute_result"
    },
    {
     "data": {
      "image/png": "[encoded data removed]",
      "text/plain": [
       "<matplotlib.figure.Figure at 0x7f9fbcfc10f0>"
      ]
     },
     "metadata": {},
     "output_type": "display_data"
    }
   ],
   "source": [
    "fig = pl.figure(figsize=(20,5))\n",
    "\n",
    "ax1 = fig.add_subplot(141)\n",
    "zipcode.plot(column='POI', ax=ax1, label=True)\n",
    "ax1.set_title(\"POI points number\")\n",
    "ax1.axis('off')\n",
    "\n",
    "ax2 = fig.add_subplot(142)\n",
    "zipcode.plot(column='subway', ax=ax2, label=True)\n",
    "ax2.set_title(\"subway station number\")\n",
    "ax2.axis('off')\n",
    "\n",
    "ax3 = fig.add_subplot(143)\n",
    "zipcode.plot(column='bus', ax=ax3, label=True)\n",
    "ax3.set_title(\"bus station number\")\n",
    "ax3.axis('off')\n",
    "\n",
    "ax4 = fig.add_subplot(144)\n",
    "zipcode.plot(column='TrafficStation', ax=ax4, label=True)\n",
    "ax4.set_title(\"all traffic station number\")\n",
    "ax4.axis('off')"
   ]
  },
  {
   "cell_type": "markdown",
   "metadata": {},
   "source": [
    "# Assess if any of these distributions are consistent with a Gaussian."
   ]
  },
  {
   "cell_type": "markdown",
   "metadata": {},
   "source": [
    "## Significance threshold : alpha = 0.05"
   ]
  },
  {
   "cell_type": "code",
   "execution_count": 32,
   "metadata": {},
   "outputs": [],
   "source": [
    "alpha = 0.05"
   ]
  },
  {
   "cell_type": "markdown",
   "metadata": {},
   "source": [
    "## declaring the null hypothesis\n",
    "Null Hypothesis: the vairiable sample for all 4 features (POI points number, subway station number, bus station number, and all traffic station number) is drawn from a Gaussian distribution, p-value 0.05"
   ]
  },
  {
   "cell_type": "markdown",
   "metadata": {},
   "source": [
    "## testing"
   ]
  },
  {
   "cell_type": "markdown",
   "metadata": {},
   "source": [
    "### KS test (the data has to be standardized)"
   ]
  },
  {
   "cell_type": "code",
   "execution_count": 33,
   "metadata": {},
   "outputs": [],
   "source": [
    "def kstestprint(testdata, alpha):\n",
    "    p = sp.stats.kstest((testdata - testdata.mean())/testdata.std(), \"norm\")[1]\n",
    "    if p > alpha:\n",
    "        print(\"p=%d,\"%p, \" the Null hypothesis that the samples are drawn from a Gaussian distribution cannot be rejected by KS test\")\n",
    "    else: \n",
    "        print(\"p=%d,\"%p, \" we reject the Null hypothesis that the samples are drawn from a Gaussian distribution at a p-value of\", alpha, \"by KS test\")\n",
    "    print()"
   ]
  },
  {
   "cell_type": "code",
   "execution_count": 34,
   "metadata": {},
   "outputs": [
    {
     "name": "stdout",
     "output_type": "stream",
     "text": [
      "POI points number:\n",
      "p=0,  we reject the Null hypothesis that the samples are drawn from a Gaussian distribution at a p-value of 0.05 by KS test\n",
      "\n",
      "subway station number:\n",
      "p=0,  we reject the Null hypothesis that the samples are drawn from a Gaussian distribution at a p-value of 0.05 by KS test\n",
      "\n",
      "bus station number:\n",
      "p=0,  we reject the Null hypothesis that the samples are drawn from a Gaussian distribution at a p-value of 0.05 by KS test\n",
      "\n",
      "all traffic station number:\n",
      "p=0,  we reject the Null hypothesis that the samples are drawn from a Gaussian distribution at a p-value of 0.05 by KS test\n",
      "\n"
     ]
    }
   ],
   "source": [
    "print (\"POI points number:\")\n",
    "kstestprint(zipcode.POI ,alpha)\n",
    "\n",
    "print (\"subway station number:\")\n",
    "kstestprint(zipcode.subway ,alpha)\n",
    "\n",
    "print (\"bus station number:\")\n",
    "kstestprint(zipcode.bus ,alpha)\n",
    "\n",
    "print (\"all traffic station number:\")\n",
    "kstestprint(zipcode.TrafficStation ,alpha)"
   ]
  },
  {
   "cell_type": "markdown",
   "metadata": {},
   "source": [
    "**Conclusion:** We can see statistical significant differences between the distribution and Gaussian distributions based on a KS test."
   ]
  },
  {
   "cell_type": "markdown",
   "metadata": {},
   "source": [
    "### AD test"
   ]
  },
  {
   "cell_type": "code",
   "execution_count": 35,
   "metadata": {},
   "outputs": [],
   "source": [
    "def adtestprint(testdata, alpha):\n",
    "    ad = sp.stats.anderson(testdata, \"norm\")\n",
    "    if ad[0] < ad[1][ad[2] == int(alpha * 100)]:\n",
    "        print(\"the Null hypothesis that the samples are drawn from a Gaussian distribution cannot be rejected by AD test\")\n",
    "    else: \n",
    "        print(\"we reject the Null hypothesis that the samples are drawn from a Gaussian distribution at a p-value of\", alpha, \"by AD test\")\n",
    "    print()"
   ]
  },
  {
   "cell_type": "code",
   "execution_count": 36,
   "metadata": {},
   "outputs": [
    {
     "name": "stdout",
     "output_type": "stream",
     "text": [
      "POI points number\n",
      "we reject the Null hypothesis that the samples are drawn from a Gaussian distribution at a p-value of 0.05 by AD test\n",
      "\n",
      "subway station number\n",
      "we reject the Null hypothesis that the samples are drawn from a Gaussian distribution at a p-value of 0.05 by AD test\n",
      "\n",
      "bus station number\n",
      "we reject the Null hypothesis that the samples are drawn from a Gaussian distribution at a p-value of 0.05 by AD test\n",
      "\n",
      "all traffic station number\n",
      "we reject the Null hypothesis that the samples are drawn from a Gaussian distribution at a p-value of 0.05 by AD test\n",
      "\n"
     ]
    }
   ],
   "source": [
    "print (\"POI points number\")\n",
    "adtestprint(zipcode.POI, alpha)\n",
    "\n",
    "print (\"subway station number\")\n",
    "adtestprint(zipcode.subway, alpha)\n",
    "\n",
    "print (\"bus station number\")\n",
    "adtestprint(zipcode.bus, alpha)\n",
    "\n",
    "print (\"all traffic station number\")\n",
    "adtestprint(zipcode.TrafficStation, alpha)"
   ]
  },
  {
   "cell_type": "markdown",
   "metadata": {},
   "source": [
    "**Conclusion** We can see statistical significant differences between the distribution and Gaussian distributions based on a AD test. "
   ]
  },
  {
   "cell_type": "markdown",
   "metadata": {},
   "source": [
    "# Plot the distributions of each feature"
   ]
  },
  {
   "cell_type": "code",
   "execution_count": 37,
   "metadata": {},
   "outputs": [
    {
     "data": {
      "text/plain": [
       "Text(0,0.5,'Number of zipcode areas')"
      ]
     },
     "execution_count": 37,
     "metadata": {},
     "output_type": "execute_result"
    },
    {
     "data": {
      "image/png": "[encoded data removed]",
      "text/plain": [
       "<matplotlib.figure.Figure at 0x7f9fbce959b0>"
      ]
     },
     "metadata": {},
     "output_type": "display_data"
    }
   ],
   "source": [
    "fig = pl.figure(figsize=(20,5))\n",
    "ax = fig.add_subplot(141)\n",
    "zipcode.POI.hist(ax=ax)\n",
    "ax.set_xlabel(\"Number of POI points per zipcode area\")\n",
    "ax.set_ylabel(\"Number of zipcode areas\")\n",
    "\n",
    "ax = fig.add_subplot(142)\n",
    "zipcode.subway.hist(ax=ax)\n",
    "ax.set_xlabel(\"Number of subway stations per zipcode area\")\n",
    "ax.set_ylabel(\"Number of zipcode areas\")\n",
    "\n",
    "ax = fig.add_subplot(143)\n",
    "zipcode.bus.hist(ax=ax)\n",
    "ax.set_xlabel(\"Number of bus stations per zipcode area\")\n",
    "ax.set_ylabel(\"Number of zipcode areas\")\n",
    "\n",
    "ax = fig.add_subplot(144)\n",
    "zipcode.TrafficStation.hist(ax=ax)\n",
    "ax.set_xlabel(\"Number of all traffic stations per zipcode area\")\n",
    "ax.set_ylabel(\"Number of zipcode areas\")"
   ]
  },
  {
   "cell_type": "markdown",
   "metadata": {},
   "source": [
    "**Figure 5** Distribution of 4 features (POI points number, subway station number, bus station number, and all traffic station number) by zipcode in Manhattan, NY. The distribution is dominated by very low number of zipcode areas."
   ]
  },
  {
   "cell_type": "code",
   "execution_count": 45,
   "metadata": {},
   "outputs": [
    {
     "data": {
      "text/plain": [
       "(0, 10)"
      ]
     },
     "execution_count": 45,
     "metadata": {},
     "output_type": "execute_result"
    },
    {
     "data": {
      "image/png": "[encoded data removed]",
      "text/plain": [
       "<matplotlib.figure.Figure at 0x7f9fbcf68128>"
      ]
     },
     "metadata": {},
     "output_type": "display_data"
    }
   ],
   "source": [
    "fig = pl.figure(figsize=(20,5))\n",
    "ax = fig.add_subplot(141)\n",
    "plotdata = zipcode.POI\n",
    "plotdata.hist(ax=ax)\n",
    "ax.set_xlabel(\"Number of POI points per zipcode area\")\n",
    "ax.set_ylabel(\"Number of zipcode areas\")\n",
    "ax.set_xlim(plotdata.max()*0.1,plotdata.max())\n",
    "ax.set_ylim(0,10)\n",
    "\n",
    "ax = fig.add_subplot(142)\n",
    "plotdata = zipcode.subway\n",
    "plotdata.hist(ax=ax)\n",
    "ax.set_xlabel(\"Number of subway stations per zipcode area\")\n",
    "ax.set_ylabel(\"Number of zipcode areas\")\n",
    "ax.set_xlim(plotdata.max()*0.1,plotdata.max())\n",
    "ax.set_ylim(0,10)\n",
    "\n",
    "ax = fig.add_subplot(143)\n",
    "plotdata = zipcode.bus\n",
    "plotdata.hist(ax=ax)\n",
    "ax.set_xlabel(\"Number of bus stations per zipcode area\")\n",
    "ax.set_ylabel(\"Number of zipcode areas\")\n",
    "ax.set_xlim(plotdata.max()*0.1,plotdata.max())\n",
    "ax.set_ylim(0,10)\n",
    "\n",
    "ax = fig.add_subplot(144)\n",
    "plotdata = zipcode.TrafficStation\n",
    "plotdata.hist(ax=ax)\n",
    "ax.set_xlabel(\"Number of all traffic stations per zipcode area\")\n",
    "ax.set_ylabel(\"Number of zipcode areas\")\n",
    "ax.set_xlim(plotdata.max()*0.1,plotdata.max())\n",
    "ax.set_ylim(0,10)"
   ]
  },
  {
   "cell_type": "markdown",
   "metadata": {},
   "source": [
    "**Figure 5** Distribution of 4 features (POI points number, subway station number, bus station number, and all traffic station number) by zipcode in Manhattan, NY, low values excluded. They shows statistically consistent with Gaussians."
   ]
  },
  {
   "cell_type": "markdown",
   "metadata": {},
   "source": [
    "# Measure correlation between Number of POI points and other 3 features (subway station number, bus station number, and all traffic station number)"
   ]
  },
  {
   "cell_type": "markdown",
   "metadata": {},
   "source": [
    "Returns of pearsonr:(Pearson’s correlation coefficient, 2-tailed p-value)<br>\n",
    "Do not use the p-value from the pearson's or Spearman's R unless under significant assumptins."
   ]
  },
  {
   "cell_type": "code",
   "execution_count": 39,
   "metadata": {},
   "outputs": [
    {
     "data": {
      "text/plain": [
       "(0.31840595511384767, 0.00062302575279179876)"
      ]
     },
     "execution_count": 39,
     "metadata": {},
     "output_type": "execute_result"
    }
   ],
   "source": [
    "sp.stats.pearsonr(zipcode.POI, zipcode.subway)"
   ]
  },
  {
   "cell_type": "code",
   "execution_count": 40,
   "metadata": {},
   "outputs": [
    {
     "data": {
      "text/plain": [
       "(0.042932978688420068, 0.6530925940999821)"
      ]
     },
     "execution_count": 40,
     "metadata": {},
     "output_type": "execute_result"
    }
   ],
   "source": [
    "sp.stats.pearsonr(zipcode.POI, zipcode.bus)"
   ]
  },
  {
   "cell_type": "code",
   "execution_count": 41,
   "metadata": {},
   "outputs": [
    {
     "data": {
      "text/plain": [
       "(0.11675353750487785, 0.2202214941893596)"
      ]
     },
     "execution_count": 41,
     "metadata": {},
     "output_type": "execute_result"
    }
   ],
   "source": [
    "sp.stats.pearsonr(zipcode.POI, zipcode.TrafficStation)"
   ]
  },
  {
   "cell_type": "markdown",
   "metadata": {},
   "source": [
    "**conclusions** there is a weak statistical correlation between park condition and unemployment: where unemployment is higher park conditions are better, which is opposite to our original thesis, while there is no correlation with park number so that our analysis does not identifies disparities in the parks access measured as number of parks with center in a specific PUMA. "
   ]
  },
  {
   "cell_type": "markdown",
   "metadata": {},
   "source": [
    "# Test if the average number of POI points is significantly different for zipcode areas with an all traffic station number grater than  and lower then 0.05"
   ]
  },
  {
   "cell_type": "markdown",
   "metadata": {},
   "source": [
    "## setting a significance threshold : alpha = 0.05"
   ]
  },
  {
   "cell_type": "code",
   "execution_count": 43,
   "metadata": {},
   "outputs": [],
   "source": [
    "alpha = 0.05"
   ]
  },
  {
   "cell_type": "markdown",
   "metadata": {},
   "source": [
    "## Null Hypothesis:\n",
    "the null hypothesis is that the distributions of park conditions is the same at high (unemployment fraction > 0/05) and low (unemployment fraction <= 0/05)\n",
    "unemployment rate come from the same parent distribution"
   ]
  },
  {
   "cell_type": "markdown",
   "metadata": {},
   "source": [
    "### KS \n",
    "I do not need to standardize the distributions as I want to notice differences in the mean as well here!"
   ]
  },
  {
   "cell_type": "code",
   "execution_count": 44,
   "metadata": {},
   "outputs": [
    {
     "ename": "NameError",
     "evalue": "name 'bkmerged' is not defined",
     "output_type": "error",
     "traceback": [
      "\u001b[0;31m---------------------------------------------------------------------------\u001b[0m",
      "\u001b[0;31mNameError\u001b[0m                                 Traceback (most recent call last)",
      "\u001b[0;32m<ipython-input-44-3092427e6de7>\u001b[0m in \u001b[0;36m<module>\u001b[0;34m()\u001b[0m\n\u001b[1;32m      1\u001b[0m \u001b[0;34m\u001b[0m\u001b[0m\n\u001b[0;32m----> 2\u001b[0;31m p = sp.stats.ttest_ind(bkmerged[bkmerged.unemployedF < 0.05]['condition'].values,\n\u001b[0m\u001b[1;32m      3\u001b[0m                    bkmerged[bkmerged.unemployedF >= 0.05]['condition'].values)[1]\n\u001b[1;32m      4\u001b[0m \u001b[0;32mif\u001b[0m \u001b[0mp\u001b[0m \u001b[0;34m>\u001b[0m \u001b[0malpha\u001b[0m\u001b[0;34m:\u001b[0m\u001b[0;34m\u001b[0m\u001b[0m\n\u001b[1;32m      5\u001b[0m     \u001b[0mprint\u001b[0m\u001b[0;34m(\u001b[0m\u001b[0;34m\"the Null hypothesis that the samples are drawn from a Gaussian distribution cannot be rejected\"\u001b[0m\u001b[0;34m)\u001b[0m\u001b[0;34m\u001b[0m\u001b[0m\n",
      "\u001b[0;31mNameError\u001b[0m: name 'bkmerged' is not defined"
     ]
    }
   ],
   "source": [
    "p = sp.stats.ttest_ind(bkmerged[bkmerged.unemployedF < 0.05]['condition'].values,\n",
    "                   bkmerged[bkmerged.unemployedF >= 0.05]['condition'].values)[1]\n",
    "if p > alpha:\n",
    "    print(\"the Null hypothesis that the samples are drawn from a Gaussian distribution cannot be rejected\")\n",
    "else: \n",
    "    print(\"we reject the Null hypothesis that the samples are drawn from a Gaussian distribution at a p-value of\", alpha)\n",
    "    "
   ]
  },
  {
   "cell_type": "markdown",
   "metadata": {},
   "source": [
    "**conclusion ** The KS test reveals no disparities in parks maintenance with socioeconomic features (measured by unemployment fraction)"
   ]
  },
  {
   "cell_type": "markdown",
   "metadata": {},
   "source": [
    "# Overall Conclusions\n",
    "This analysis is largely exploratory but it did not reveal any disparities in parks access or mantanence condition of parks with our chosen socioeconomic feature of unemployment rate"
   ]
  },
  {
   "cell_type": "code",
   "execution_count": null,
   "metadata": {},
   "outputs": [],
   "source": []
  },
  {
   "cell_type": "code",
   "execution_count": null,
   "metadata": {},
   "outputs": [],
   "source": []
  }
 ],
 "metadata": {
  "kernelspec": {
   "display_name": "PUI2016_Python3",
   "language": "python",
   "name": "pui2016_python3"
  },
  "language_info": {
   "codemirror_mode": {
    "name": "ipython",
    "version": 3
   },
   "file_extension": ".py",
   "mimetype": "text/x-python",
   "name": "python",
   "nbconvert_exporter": "python",
   "pygments_lexer": "ipython3",
   "version": "3.5.4"
  }
 },
 "nbformat": 4,
 "nbformat_minor": 2
}
