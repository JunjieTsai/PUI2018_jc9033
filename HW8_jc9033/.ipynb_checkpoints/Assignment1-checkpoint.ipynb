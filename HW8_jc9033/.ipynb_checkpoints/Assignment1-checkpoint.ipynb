{
 "cells": [
  {
   "cell_type": "markdown",
   "metadata": {},
   "source": [
    "# Data downloading"
   ]
  },
  {
   "cell_type": "code",
   "execution_count": 1,
   "metadata": {},
   "outputs": [
    {
     "name": "stdout",
     "output_type": "stream",
     "text": [
      "Populating the interactive namespace from numpy and matplotlib\n"
     ]
    }
   ],
   "source": [
    "import statsmodels.formula.api as smf\n",
    "from statsmodels.graphics.api import abline_plot\n",
    "import pandas as pd\n",
    "%pylab inline"
   ]
  },
  {
   "cell_type": "code",
   "execution_count": 2,
   "metadata": {},
   "outputs": [],
   "source": [
    "import os\n",
    "puidata = os.getenv(\"PUIDATA\")\n",
    "if puidata is None:\n",
    "    puidata=os.environ[\"PUIDATA\"] = \"%s/PUIdata\"%os.getenv(\"HOME\")"
   ]
  },
  {
   "cell_type": "code",
   "execution_count": 3,
   "metadata": {
    "scrolled": true
   },
   "outputs": [
    {
     "name": "stdout",
     "output_type": "stream",
     "text": [
      "  % Total    % Received % Xferd  Average Speed   Time    Time     Time  Current\n",
      "                                 Dload  Upload   Total   Spent    Left  Speed\n",
      "100  204k    0  204k    0     0   611k      0 --:--:-- --:--:-- --:--:--  611k\n"
     ]
    },
    {
     "data": {
      "text/html": [
       "<div>\n",
       "<table border=\"1\" class=\"dataframe\">\n",
       "  <thead>\n",
       "    <tr style=\"text-align: right;\">\n",
       "      <th></th>\n",
       "      <th>INCIDENTCOUNT</th>\n",
       "      <th>AVERAGERESPONSETIME</th>\n",
       "    </tr>\n",
       "  </thead>\n",
       "  <tbody>\n",
       "    <tr>\n",
       "      <th>0</th>\n",
       "      <td>40850</td>\n",
       "      <td>04:27</td>\n",
       "    </tr>\n",
       "    <tr>\n",
       "      <th>1</th>\n",
       "      <td>10709</td>\n",
       "      <td>04:32</td>\n",
       "    </tr>\n",
       "    <tr>\n",
       "      <th>2</th>\n",
       "      <td>8137</td>\n",
       "      <td>04:37</td>\n",
       "    </tr>\n",
       "  </tbody>\n",
       "</table>\n",
       "</div>"
      ],
      "text/plain": [
       "   INCIDENTCOUNT AVERAGERESPONSETIME\n",
       "0          40850               04:27\n",
       "1          10709               04:32\n",
       "2           8137               04:37"
      ]
     },
     "execution_count": 3,
     "metadata": {},
     "output_type": "execute_result"
    }
   ],
   "source": [
    "!curl https://data.cityofnewyork.us/api/views/j34j-vqvt/rows.csv?accessType=DOWNLOAD > FDNY.csv\n",
    "# move the data\n",
    "!mv FDNY.csv $PUIDATA\n",
    "# read in the data with pandas\n",
    "FDNY = pd.read_csv(\"%s/FDNY.csv\"%os.getenv(\"PUIDATA\"))\n",
    "# delete irrelevant columns:\n",
    "FDNY_1=FDNY.drop(['YEARMONTH','INCIDENTCLASSIFICATION', 'INCIDENTBOROUGH'],axis=1)\n",
    "FDNY_1.head(3)"
   ]
  },
  {
   "cell_type": "markdown",
   "metadata": {},
   "source": [
    "# Data cleaning"
   ]
  },
  {
   "cell_type": "code",
   "execution_count": 4,
   "metadata": {},
   "outputs": [],
   "source": [
    "#Delete last invalid 336 rows:\n",
    "for i in range(336):\n",
    "    FDNY_1=FDNY_1.drop(FDNY_1.index[[4032]])\n",
    "#delete other invalid rows:\n",
    "j=0\n",
    "for i in range(4032):\n",
    "    if i%42==0:\n",
    "        j=j+1\n",
    "    else:\n",
    "        FDNY_1=FDNY_1.drop(FDNY_1.index[[j]])"
   ]
  },
  {
   "cell_type": "code",
   "execution_count": 5,
   "metadata": {
    "scrolled": true
   },
   "outputs": [
    {
     "name": "stderr",
     "output_type": "stream",
     "text": [
      "/usr/local/Anaconda3-5.0.0-Linux-x86_64/envs/PUI2016_Python2/lib/python2.7/site-packages/ipykernel/__main__.py:9: SettingWithCopyWarning: \n",
      "A value is trying to be set on a copy of a slice from a DataFrame\n",
      "\n",
      "See the caveats in the documentation: http://pandas.pydata.org/pandas-docs/stable/indexing.html#indexing-view-versus-copy\n"
     ]
    }
   ],
   "source": [
    "#Conversion time format:\n",
    "def ts(t):\n",
    "    m,s = t.strip().split(\":\")\n",
    "    return int(m) * 60 + int(s)\n",
    "\n",
    "k=0\n",
    "for i in range (96):\n",
    "    k=(i)*42\n",
    "    FDNY_1.AVERAGERESPONSETIME[k]=ts(FDNY_1.AVERAGERESPONSETIME[k])"
   ]
  },
  {
   "cell_type": "code",
   "execution_count": 6,
   "metadata": {
    "scrolled": true
   },
   "outputs": [],
   "source": [
    "temp = pd.DataFrame()\n",
    "temp['y'] = FDNY_1.AVERAGERESPONSETIME\n",
    "temp['x'] = FDNY_1.INCIDENTCOUNT"
   ]
  },
  {
   "cell_type": "code",
   "execution_count": 7,
   "metadata": {
    "scrolled": true
   },
   "outputs": [],
   "source": [
    "temp.sort_values('x', inplace=True)\n",
    "temp = temp.astype(float)\n",
    "t2 = temp.groupby(['x']).mean()"
   ]
  },
  {
   "cell_type": "code",
   "execution_count": 8,
   "metadata": {
    "scrolled": true
   },
   "outputs": [
    {
     "data": {
      "text/html": [
       "<div>\n",
       "<table border=\"1\" class=\"dataframe\">\n",
       "  <thead>\n",
       "    <tr style=\"text-align: right;\">\n",
       "      <th></th>\n",
       "      <th>y</th>\n",
       "      <th>x</th>\n",
       "    </tr>\n",
       "    <tr>\n",
       "      <th>x</th>\n",
       "      <th></th>\n",
       "      <th></th>\n",
       "    </tr>\n",
       "  </thead>\n",
       "  <tbody>\n",
       "    <tr>\n",
       "      <th>34743.0</th>\n",
       "      <td>267.0</td>\n",
       "      <td>34743.0</td>\n",
       "    </tr>\n",
       "    <tr>\n",
       "      <th>35050.0</th>\n",
       "      <td>284.0</td>\n",
       "      <td>35050.0</td>\n",
       "    </tr>\n",
       "    <tr>\n",
       "      <th>36196.0</th>\n",
       "      <td>284.0</td>\n",
       "      <td>36196.0</td>\n",
       "    </tr>\n",
       "    <tr>\n",
       "      <th>36643.0</th>\n",
       "      <td>278.0</td>\n",
       "      <td>36643.0</td>\n",
       "    </tr>\n",
       "    <tr>\n",
       "      <th>36778.0</th>\n",
       "      <td>274.0</td>\n",
       "      <td>36778.0</td>\n",
       "    </tr>\n",
       "  </tbody>\n",
       "</table>\n",
       "</div>"
      ],
      "text/plain": [
       "             y        x\n",
       "x                      \n",
       "34743.0  267.0  34743.0\n",
       "35050.0  284.0  35050.0\n",
       "36196.0  284.0  36196.0\n",
       "36643.0  278.0  36643.0\n",
       "36778.0  274.0  36778.0"
      ]
     },
     "execution_count": 8,
     "metadata": {},
     "output_type": "execute_result"
    }
   ],
   "source": [
    "temp = pd.DataFrame()\n",
    "temp['y'] = t2['y']\n",
    "temp['x'] = t2.index\n",
    "temp.head()"
   ]
  },
  {
   "cell_type": "code",
   "execution_count": 9,
   "metadata": {},
   "outputs": [],
   "source": [
    "mod = smf.ols(formula='y ~ x', data = temp).fit()"
   ]
  },
  {
   "cell_type": "code",
   "execution_count": 10,
   "metadata": {
    "scrolled": true
   },
   "outputs": [
    {
     "data": {
      "text/html": [
       "<table class=\"simpletable\">\n",
       "<caption>OLS Regression Results</caption>\n",
       "<tr>\n",
       "  <th>Dep. Variable:</th>            <td>y</td>        <th>  R-squared:         </th> <td>   0.429</td>\n",
       "</tr>\n",
       "<tr>\n",
       "  <th>Model:</th>                   <td>OLS</td>       <th>  Adj. R-squared:    </th> <td>   0.423</td>\n",
       "</tr>\n",
       "<tr>\n",
       "  <th>Method:</th>             <td>Least Squares</td>  <th>  F-statistic:       </th> <td>   69.06</td>\n",
       "</tr>\n",
       "<tr>\n",
       "  <th>Date:</th>             <td>Tue, 06 Nov 2018</td> <th>  Prob (F-statistic):</th> <td>8.11e-13</td>\n",
       "</tr>\n",
       "<tr>\n",
       "  <th>Time:</th>                 <td>13:52:31</td>     <th>  Log-Likelihood:    </th> <td> -331.50</td>\n",
       "</tr>\n",
       "<tr>\n",
       "  <th>No. Observations:</th>      <td>    94</td>      <th>  AIC:               </th> <td>   667.0</td>\n",
       "</tr>\n",
       "<tr>\n",
       "  <th>Df Residuals:</th>          <td>    92</td>      <th>  BIC:               </th> <td>   672.1</td>\n",
       "</tr>\n",
       "<tr>\n",
       "  <th>Df Model:</th>              <td>     1</td>      <th>                     </th>     <td> </td>   \n",
       "</tr>\n",
       "<tr>\n",
       "  <th>Covariance Type:</th>      <td>nonrobust</td>    <th>                     </th>     <td> </td>   \n",
       "</tr>\n",
       "</table>\n",
       "<table class=\"simpletable\">\n",
       "<tr>\n",
       "      <td></td>         <th>coef</th>     <th>std err</th>      <th>t</th>      <th>P>|t|</th> <th>[95.0% Conf. Int.]</th> \n",
       "</tr>\n",
       "<tr>\n",
       "  <th>Intercept</th> <td>  212.4629</td> <td>    8.676</td> <td>   24.488</td> <td> 0.000</td> <td>  195.231   229.695</td>\n",
       "</tr>\n",
       "<tr>\n",
       "  <th>x</th>         <td>    0.0017</td> <td>    0.000</td> <td>    8.310</td> <td> 0.000</td> <td>    0.001     0.002</td>\n",
       "</tr>\n",
       "</table>\n",
       "<table class=\"simpletable\">\n",
       "<tr>\n",
       "  <th>Omnibus:</th>       <td>16.799</td> <th>  Durbin-Watson:     </th> <td>   1.795</td>\n",
       "</tr>\n",
       "<tr>\n",
       "  <th>Prob(Omnibus):</th> <td> 0.000</td> <th>  Jarque-Bera (JB):  </th> <td>  19.393</td>\n",
       "</tr>\n",
       "<tr>\n",
       "  <th>Skew:</th>          <td> 1.005</td> <th>  Prob(JB):          </th> <td>6.15e-05</td>\n",
       "</tr>\n",
       "<tr>\n",
       "  <th>Kurtosis:</th>      <td> 3.953</td> <th>  Cond. No.          </th> <td>4.42e+05</td>\n",
       "</tr>\n",
       "</table>"
      ],
      "text/plain": [
       "<class 'statsmodels.iolib.summary.Summary'>\n",
       "\"\"\"\n",
       "                            OLS Regression Results                            \n",
       "==============================================================================\n",
       "Dep. Variable:                      y   R-squared:                       0.429\n",
       "Model:                            OLS   Adj. R-squared:                  0.423\n",
       "Method:                 Least Squares   F-statistic:                     69.06\n",
       "Date:                Tue, 06 Nov 2018   Prob (F-statistic):           8.11e-13\n",
       "Time:                        13:52:31   Log-Likelihood:                -331.50\n",
       "No. Observations:                  94   AIC:                             667.0\n",
       "Df Residuals:                      92   BIC:                             672.1\n",
       "Df Model:                           1                                         \n",
       "Covariance Type:            nonrobust                                         \n",
       "==============================================================================\n",
       "                 coef    std err          t      P>|t|      [95.0% Conf. Int.]\n",
       "------------------------------------------------------------------------------\n",
       "Intercept    212.4629      8.676     24.488      0.000       195.231   229.695\n",
       "x              0.0017      0.000      8.310      0.000         0.001     0.002\n",
       "==============================================================================\n",
       "Omnibus:                       16.799   Durbin-Watson:                   1.795\n",
       "Prob(Omnibus):                  0.000   Jarque-Bera (JB):               19.393\n",
       "Skew:                           1.005   Prob(JB):                     6.15e-05\n",
       "Kurtosis:                       3.953   Cond. No.                     4.42e+05\n",
       "==============================================================================\n",
       "\n",
       "Warnings:\n",
       "[1] Standard Errors assume that the covariance matrix of the errors is correctly specified.\n",
       "[2] The condition number is large, 4.42e+05. This might indicate that there are\n",
       "strong multicollinearity or other numerical problems.\n",
       "\"\"\""
      ]
     },
     "execution_count": 10,
     "metadata": {},
     "output_type": "execute_result"
    }
   ],
   "source": [
    "mod.summary()"
   ]
  },
  {
   "cell_type": "markdown",
   "metadata": {},
   "source": [
    "# Plot"
   ]
  },
  {
   "cell_type": "code",
   "execution_count": 11,
   "metadata": {
    "scrolled": false
   },
   "outputs": [
    {
     "data": {
      "text/plain": [
       "<matplotlib.legend.Legend at 0x7f696539db90>"
      ]
     },
     "execution_count": 11,
     "metadata": {},
     "output_type": "execute_result"
    },
    {
     "data": {
      "image/png": "[encoded data removed]",
      "text/plain": [
       "<matplotlib.figure.Figure at 0x7f69652c05d0>"
      ]
     },
     "metadata": {},
     "output_type": "display_data"
    }
   ],
   "source": [
    "figure, ax = plt.subplots(figsize=(10,10))\n",
    "\n",
    "ax.scatter(temp['x'],temp['y'], c=\"b\", alpha=0.75)\n",
    "abline_plot(model_results=mod, ax=ax, color='red')\n",
    "\n",
    "ax.set_xlabel(\"Monthly number of Incidents\",fontsize=16)\n",
    "ax.set_ylabel(\"Average Response Time\",fontsize=16);\n",
    "ax.set_title(\"FDNY Avarage Response Time against the Number of Incidents in the last 8 years\",fontsize=16)\n",
    "ax.legend(['linear regression line','response time against incidents'],fontsize=16)"
   ]
  },
  {
   "cell_type": "markdown",
   "metadata": {},
   "source": [
    "## Figure 1: FDNY Avarage Response Time against the Monthly number of Incidents in the last 8 years"
   ]
  }
 ],
 "metadata": {
  "kernelspec": {
   "display_name": "PUI2016_Python2",
   "language": "python",
   "name": "pui2016_python2"
  },
  "language_info": {
   "codemirror_mode": {
    "name": "ipython",
    "version": 2
   },
   "file_extension": ".py",
   "mimetype": "text/x-python",
   "name": "python",
   "nbconvert_exporter": "python",
   "pygments_lexer": "ipython2",
   "version": "2.7.12"
  }
 },
 "nbformat": 4,
 "nbformat_minor": 2
}
