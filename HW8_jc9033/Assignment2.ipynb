{
 "cells": [
  {
   "cell_type": "markdown",
   "metadata": {},
   "source": [
    "# IDEA\n",
    "### People are more likely to ride bike for a shorter distance that takes less than 10 minutes on weekdays.\n",
    "\n",
    "# Significance threshold\n",
    "### Significance level  α=0.05, which means I want the probability of getting a result at least as significant as mine to be less then 5%.\n",
    "\n",
    "# Null hypothesis\n",
    "### The proportion of trips whose duration is less than 10 minutes on weekdays is the same or lower than the proportion of trips whose duration is more than 10 minutes on weekdays.\n",
    "\n",
    "# _$H_0$_ : $\\frac{Short_{\\mathrm{weekday}}}{Short_{\\mathrm{total}}} <= \\frac{Long_{\\mathrm{weekday}}}{Long_{\\mathrm{total}}}$\n",
    "\n",
    "# Alternate hypothesis\n",
    "### The proportion of trips whose duration is less than 10 minutes on weekdays is higher than the proportion of trips whose duration is more than 10 minutes on weekdays.\n",
    "# _$H_1$_ : $\\frac{Short_{\\mathrm{weekday}}}{Short_{\\mathrm{total}}} > \\frac{Long_{\\mathrm{weekday}}}{Long_{\\mathrm{total}}}$\n"
   ]
  },
  {
   "cell_type": "code",
   "execution_count": 1,
   "metadata": {
    "scrolled": true
   },
   "outputs": [
    {
     "name": "stdout",
     "output_type": "stream",
     "text": [
      "Populating the interactive namespace from numpy and matplotlib\n"
     ]
    },
    {
     "data": {
      "text/plain": [
       "'/nfshome/jc9033/PUIdata'"
      ]
     },
     "execution_count": 1,
     "metadata": {},
     "output_type": "execute_result"
    }
   ],
   "source": [
    "from __future__  import print_function, division\n",
    "import pylab as pl\n",
    "import pandas as pd\n",
    "import numpy as np\n",
    "import os\n",
    "%pylab inline\n",
    "os.getenv ('PUIDATA')"
   ]
  },
  {
   "cell_type": "code",
   "execution_count": 2,
   "metadata": {},
   "outputs": [],
   "source": [
    "# Revise the function to support the datasets after 201612\n",
    "\n",
    "def getCitiBikeCSV(datestring):\n",
    "    print (\"Downloading\", datestring)\n",
    "    ### First I will heck that it is not already there\n",
    "    if not os.path.isfile(os.getenv(\"PUIDATA\") + \"/\" + datestring + \"-citibike-tripdata.csv\"):\n",
    "        if os.path.isfile(datestring + \"-citibike-tripdata.csv\"):\n",
    "            # if in the current dir just move it\n",
    "            if os.system(\"mv \" + datestring + \"-citibike-tripdata.csv \" + os.getenv(\"PUIDATA\")):\n",
    "                print (\"Error moving file!, Please check!\")\n",
    "        #otherwise start looking for the zip file\n",
    "        else:\n",
    "            if not os.path.isfile(os.getenv(\"PUIDATA\") + \"/\" + datestring + \"-citibike-tripdata.csv.zip\"):\n",
    "                if not os.path.isfile(datestring + \"-citibike-tripdata.csv.zip\"):\n",
    "                    os.system(\"curl -O https://s3.amazonaws.com/tripdata/\" + datestring + \"-citibike-tripdata.csv.zip\")\n",
    "                ###  To move it I use the os.system() functions to run bash commands with arguments\n",
    "                os.system(\"mv \" + datestring + \"-citibike-tripdata.csv.zip \" + os.getenv(\"PUIDATA\"))\n",
    "            ### unzip the csv \n",
    "            os.system(\"unzip \" + os.getenv(\"PUIDATA\") + \"/\" + datestring + \"-citibike-tripdata.csv.zip\")\n",
    "            ## NOTE: old csv citibike data had a different name structure. \n",
    "            if '2014' in datestring:\n",
    "                os.system(\"mv \" + datestring[:4] + '-' +  datestring[4:] + \n",
    "                          \"\\ -\\ Citi\\ Bike\\ trip\\ data.csv \" + datestring + \"-citibike-tripdata.csv\")\n",
    "            os.system(\"mv \" + datestring + \"-citibike-tripdata.csv \" + os.getenv(\"PUIDATA\"))\n",
    "    ### One final check:\n",
    "    if not os.path.isfile(os.getenv(\"PUIDATA\") + \"/\" + datestring + \"-citibike-tripdata.csv\"):\n",
    "        print (\"WARNING!!! something is wrong: the file is not there!\")\n",
    "\n",
    "    else:\n",
    "        print (\"file in place, you can continue\")"
   ]
  },
  {
   "cell_type": "code",
   "execution_count": 3,
   "metadata": {},
   "outputs": [
    {
     "name": "stdout",
     "output_type": "stream",
     "text": [
      "Downloading 201801\n",
      "file in place, you can continue\n"
     ]
    }
   ],
   "source": [
    "datestring = '201801'\n",
    "getCitiBikeCSV(datestring)"
   ]
  },
  {
   "cell_type": "code",
   "execution_count": 4,
   "metadata": {},
   "outputs": [
    {
     "data": {
      "text/html": [
       "<div>\n",
       "<table border=\"1\" class=\"dataframe\">\n",
       "  <thead>\n",
       "    <tr style=\"text-align: right;\">\n",
       "      <th></th>\n",
       "      <th>tripduration</th>\n",
       "      <th>starttime</th>\n",
       "      <th>stoptime</th>\n",
       "      <th>start station id</th>\n",
       "      <th>start station name</th>\n",
       "      <th>start station latitude</th>\n",
       "      <th>start station longitude</th>\n",
       "      <th>end station id</th>\n",
       "      <th>end station name</th>\n",
       "      <th>end station latitude</th>\n",
       "      <th>end station longitude</th>\n",
       "      <th>bikeid</th>\n",
       "      <th>usertype</th>\n",
       "      <th>birth year</th>\n",
       "      <th>gender</th>\n",
       "      <th>date</th>\n",
       "    </tr>\n",
       "  </thead>\n",
       "  <tbody>\n",
       "    <tr>\n",
       "      <th>0</th>\n",
       "      <td>970</td>\n",
       "      <td>2018-01-01 13:50:57.4340</td>\n",
       "      <td>2018-01-01 14:07:08.1860</td>\n",
       "      <td>72</td>\n",
       "      <td>W 52 St &amp; 11 Ave</td>\n",
       "      <td>40.767272</td>\n",
       "      <td>-73.993929</td>\n",
       "      <td>505</td>\n",
       "      <td>6 Ave &amp; W 33 St</td>\n",
       "      <td>40.749013</td>\n",
       "      <td>-73.988484</td>\n",
       "      <td>31956</td>\n",
       "      <td>Subscriber</td>\n",
       "      <td>1992</td>\n",
       "      <td>1</td>\n",
       "      <td>2018-01-01 13:50:57.434</td>\n",
       "    </tr>\n",
       "    <tr>\n",
       "      <th>1</th>\n",
       "      <td>723</td>\n",
       "      <td>2018-01-01 15:33:30.1820</td>\n",
       "      <td>2018-01-01 15:45:33.3410</td>\n",
       "      <td>72</td>\n",
       "      <td>W 52 St &amp; 11 Ave</td>\n",
       "      <td>40.767272</td>\n",
       "      <td>-73.993929</td>\n",
       "      <td>3255</td>\n",
       "      <td>8 Ave &amp; W 31 St</td>\n",
       "      <td>40.750585</td>\n",
       "      <td>-73.994685</td>\n",
       "      <td>32536</td>\n",
       "      <td>Subscriber</td>\n",
       "      <td>1969</td>\n",
       "      <td>1</td>\n",
       "      <td>2018-01-01 15:33:30.182</td>\n",
       "    </tr>\n",
       "    <tr>\n",
       "      <th>2</th>\n",
       "      <td>496</td>\n",
       "      <td>2018-01-01 15:39:18.3370</td>\n",
       "      <td>2018-01-01 15:47:35.1720</td>\n",
       "      <td>72</td>\n",
       "      <td>W 52 St &amp; 11 Ave</td>\n",
       "      <td>40.767272</td>\n",
       "      <td>-73.993929</td>\n",
       "      <td>525</td>\n",
       "      <td>W 34 St &amp; 11 Ave</td>\n",
       "      <td>40.755942</td>\n",
       "      <td>-74.002116</td>\n",
       "      <td>16069</td>\n",
       "      <td>Subscriber</td>\n",
       "      <td>1956</td>\n",
       "      <td>1</td>\n",
       "      <td>2018-01-01 15:39:18.337</td>\n",
       "    </tr>\n",
       "    <tr>\n",
       "      <th>3</th>\n",
       "      <td>306</td>\n",
       "      <td>2018-01-01 15:40:13.3720</td>\n",
       "      <td>2018-01-01 15:45:20.1910</td>\n",
       "      <td>72</td>\n",
       "      <td>W 52 St &amp; 11 Ave</td>\n",
       "      <td>40.767272</td>\n",
       "      <td>-73.993929</td>\n",
       "      <td>447</td>\n",
       "      <td>8 Ave &amp; W 52 St</td>\n",
       "      <td>40.763707</td>\n",
       "      <td>-73.985162</td>\n",
       "      <td>31781</td>\n",
       "      <td>Subscriber</td>\n",
       "      <td>1974</td>\n",
       "      <td>1</td>\n",
       "      <td>2018-01-01 15:40:13.372</td>\n",
       "    </tr>\n",
       "    <tr>\n",
       "      <th>4</th>\n",
       "      <td>306</td>\n",
       "      <td>2018-01-01 18:14:51.5680</td>\n",
       "      <td>2018-01-01 18:19:57.6420</td>\n",
       "      <td>72</td>\n",
       "      <td>W 52 St &amp; 11 Ave</td>\n",
       "      <td>40.767272</td>\n",
       "      <td>-73.993929</td>\n",
       "      <td>3356</td>\n",
       "      <td>Amsterdam Ave &amp; W 66 St</td>\n",
       "      <td>40.774667</td>\n",
       "      <td>-73.984706</td>\n",
       "      <td>30319</td>\n",
       "      <td>Subscriber</td>\n",
       "      <td>1992</td>\n",
       "      <td>1</td>\n",
       "      <td>2018-01-01 18:14:51.568</td>\n",
       "    </tr>\n",
       "  </tbody>\n",
       "</table>\n",
       "</div>"
      ],
      "text/plain": [
       "   tripduration                 starttime                  stoptime  \\\n",
       "0           970  2018-01-01 13:50:57.4340  2018-01-01 14:07:08.1860   \n",
       "1           723  2018-01-01 15:33:30.1820  2018-01-01 15:45:33.3410   \n",
       "2           496  2018-01-01 15:39:18.3370  2018-01-01 15:47:35.1720   \n",
       "3           306  2018-01-01 15:40:13.3720  2018-01-01 15:45:20.1910   \n",
       "4           306  2018-01-01 18:14:51.5680  2018-01-01 18:19:57.6420   \n",
       "\n",
       "   start station id start station name  start station latitude  \\\n",
       "0                72   W 52 St & 11 Ave               40.767272   \n",
       "1                72   W 52 St & 11 Ave               40.767272   \n",
       "2                72   W 52 St & 11 Ave               40.767272   \n",
       "3                72   W 52 St & 11 Ave               40.767272   \n",
       "4                72   W 52 St & 11 Ave               40.767272   \n",
       "\n",
       "   start station longitude  end station id         end station name  \\\n",
       "0               -73.993929             505          6 Ave & W 33 St   \n",
       "1               -73.993929            3255          8 Ave & W 31 St   \n",
       "2               -73.993929             525         W 34 St & 11 Ave   \n",
       "3               -73.993929             447          8 Ave & W 52 St   \n",
       "4               -73.993929            3356  Amsterdam Ave & W 66 St   \n",
       "\n",
       "   end station latitude  end station longitude  bikeid    usertype  \\\n",
       "0             40.749013             -73.988484   31956  Subscriber   \n",
       "1             40.750585             -73.994685   32536  Subscriber   \n",
       "2             40.755942             -74.002116   16069  Subscriber   \n",
       "3             40.763707             -73.985162   31781  Subscriber   \n",
       "4             40.774667             -73.984706   30319  Subscriber   \n",
       "\n",
       "   birth year  gender                    date  \n",
       "0        1992       1 2018-01-01 13:50:57.434  \n",
       "1        1969       1 2018-01-01 15:33:30.182  \n",
       "2        1956       1 2018-01-01 15:39:18.337  \n",
       "3        1974       1 2018-01-01 15:40:13.372  \n",
       "4        1992       1 2018-01-01 18:14:51.568  "
      ]
     },
     "execution_count": 4,
     "metadata": {},
     "output_type": "execute_result"
    }
   ],
   "source": [
    "df = pd.read_csv(os.getenv(\"PUIDATA\") + \"/\" + datestring + '-citibike-tripdata.csv')\n",
    "df['date'] = pd.to_datetime(df['starttime'])\n",
    "df.head()"
   ]
  },
  {
   "cell_type": "code",
   "execution_count": 5,
   "metadata": {},
   "outputs": [
    {
     "data": {
      "text/plain": [
       "Index([u'tripduration', u'starttime', u'stoptime', u'start station id',\n",
       "       u'start station name', u'start station latitude',\n",
       "       u'start station longitude', u'end station id', u'end station name',\n",
       "       u'end station latitude', u'end station longitude', u'bikeid',\n",
       "       u'usertype', u'birth year', u'gender', u'date'],\n",
       "      dtype='object')"
      ]
     },
     "execution_count": 5,
     "metadata": {},
     "output_type": "execute_result"
    }
   ],
   "source": [
    "df.columns"
   ]
  },
  {
   "cell_type": "code",
   "execution_count": 6,
   "metadata": {},
   "outputs": [],
   "source": [
    "df.drop(['starttime', 'stoptime', 'start station id',\n",
    "       'start station name', 'start station latitude',\n",
    "       'start station longitude', 'end station id', 'end station name',\n",
    "       'end station latitude', 'end station longitude', 'bikeid', 'usertype',\n",
    "       'birth year', 'gender'], axis=1, inplace=True)"
   ]
  },
  {
   "cell_type": "code",
   "execution_count": 7,
   "metadata": {},
   "outputs": [
    {
     "data": {
      "text/html": [
       "<div>\n",
       "<table border=\"1\" class=\"dataframe\">\n",
       "  <thead>\n",
       "    <tr style=\"text-align: right;\">\n",
       "      <th></th>\n",
       "      <th>tripduration</th>\n",
       "      <th>date</th>\n",
       "    </tr>\n",
       "  </thead>\n",
       "  <tbody>\n",
       "    <tr>\n",
       "      <th>0</th>\n",
       "      <td>970</td>\n",
       "      <td>2018-01-01 13:50:57.434</td>\n",
       "    </tr>\n",
       "    <tr>\n",
       "      <th>1</th>\n",
       "      <td>723</td>\n",
       "      <td>2018-01-01 15:33:30.182</td>\n",
       "    </tr>\n",
       "    <tr>\n",
       "      <th>2</th>\n",
       "      <td>496</td>\n",
       "      <td>2018-01-01 15:39:18.337</td>\n",
       "    </tr>\n",
       "    <tr>\n",
       "      <th>3</th>\n",
       "      <td>306</td>\n",
       "      <td>2018-01-01 15:40:13.372</td>\n",
       "    </tr>\n",
       "    <tr>\n",
       "      <th>4</th>\n",
       "      <td>306</td>\n",
       "      <td>2018-01-01 18:14:51.568</td>\n",
       "    </tr>\n",
       "  </tbody>\n",
       "</table>\n",
       "</div>"
      ],
      "text/plain": [
       "   tripduration                    date\n",
       "0           970 2018-01-01 13:50:57.434\n",
       "1           723 2018-01-01 15:33:30.182\n",
       "2           496 2018-01-01 15:39:18.337\n",
       "3           306 2018-01-01 15:40:13.372\n",
       "4           306 2018-01-01 18:14:51.568"
      ]
     },
     "execution_count": 7,
     "metadata": {},
     "output_type": "execute_result"
    }
   ],
   "source": [
    "df.head()"
   ]
  },
  {
   "cell_type": "markdown",
   "metadata": {},
   "source": [
    "### data visualization "
   ]
  },
  {
   "cell_type": "code",
   "execution_count": 8,
   "metadata": {},
   "outputs": [
    {
     "data": {
      "text/plain": [
       "<matplotlib.text.Text at 0x7ff9c690a310>"
      ]
     },
     "execution_count": 8,
     "metadata": {},
     "output_type": "execute_result"
    },
    {
     "data": {
      "image/png": "[encoded data removed]",
      "text/plain": [
       "<matplotlib.figure.Figure at 0x7ff9bef03090>"
      ]
     },
     "metadata": {},
     "output_type": "display_data"
    }
   ],
   "source": [
    "bins = np.arange(10, 3600, 120)\n",
    "ax = df.groupby(pd.cut(df.tripduration, bins)).count().plot(figsize=(15,10), kind='bar',color='royalblue', legend=False)\n",
    "ax.set_ylabel('Trip number', fontsize=20)  \n",
    "ax.set_xlabel('Trip duration', fontsize=20)  "
   ]
  },
  {
   "cell_type": "markdown",
   "metadata": {},
   "source": [
    "## Figure 1_pre: histogram statistics of Citibike trip duration in January 2018.\n",
    "****"
   ]
  },
  {
   "cell_type": "markdown",
   "metadata": {},
   "source": [
    "### Lets separate short duration (_s) from long duration (_l) to test the hypotheses.\n",
    "### In this csv file duration >= 600 is long, duration < 600 is short\n",
    "### Lets plot the number of trips per week day"
   ]
  },
  {
   "cell_type": "code",
   "execution_count": 9,
   "metadata": {},
   "outputs": [
    {
     "data": {
      "text/plain": [
       "<matplotlib.legend.Legend at 0x7ff9c66046d0>"
      ]
     },
     "execution_count": 9,
     "metadata": {},
     "output_type": "execute_result"
    },
    {
     "data": {
      "image/png": "[encoded data removed]",
      "text/plain": [
       "<matplotlib.figure.Figure at 0x7ff9c672e910>"
      ]
     },
     "metadata": {},
     "output_type": "display_data"
    }
   ],
   "source": [
    "fig = pl.figure(figsize(15,10))\n",
    "\n",
    "#instad of plotting with matplotlib i.e. plot() i use the plot method in pandas\n",
    "norm_s = 1\n",
    "ax = ((df['date'][df['tripduration'] < 600].groupby([df['date'].dt.weekday]).count()) / norm_s).plot(kind=\"bar\", \n",
    "                                                                                              color='IndianRed',                                                                                               \n",
    "                                                                                              label='Short Trips')\n",
    "norm_l = 1\n",
    "((df['date'][df['tripduration'] >= 600].groupby([df['date'].dt.weekday]).count()) / norm_l).plot(kind=\"bar\", \n",
    "                                                                                         color='SteelBlue', \n",
    "                                                                                         alpha=0.5,\n",
    "                                                                                         label='Long Trips')\n",
    "\n",
    "tmp = ax.xaxis.set_ticklabels(['Mon', 'Tue', 'Wed', 'Thu', 'Fri', 'Sat', 'Sun'], fontsize=20)\n",
    "pl.title('Distribution of Citibike bikers by trip duration in January 2018, absolute counts', fontsize = 20)\n",
    "pl.xlabel('Day of the week', fontsize = 20)\n",
    "pl.ylabel('Number of rides', fontsize = 20)\n",
    "pl.legend()"
   ]
  },
  {
   "cell_type": "markdown",
   "metadata": {},
   "source": [
    "## Figure 1a: Distribution of Citibike bikers by trip duration in January 2018, absolute counts"
   ]
  },
  {
   "cell_type": "markdown",
   "metadata": {},
   "source": [
    "### Note: the counts have errors of course. what is the error on the count statistics? \n",
    "### for N counts the error is sqrt(N) - this is because counts follow a Poisson statistic"
   ]
  },
  {
   "cell_type": "code",
   "execution_count": 10,
   "metadata": {},
   "outputs": [
    {
     "data": {
      "text/plain": [
       "<matplotlib.legend.Legend at 0x7ff9c64067d0>"
      ]
     },
     "execution_count": 10,
     "metadata": {},
     "output_type": "execute_result"
    },
    {
     "data": {
      "image/png": "[encoded data removed]",
      "text/plain": [
       "<matplotlib.figure.Figure at 0x7ff9c65a3b50>"
      ]
     },
     "metadata": {},
     "output_type": "display_data"
    }
   ],
   "source": [
    "fig=pl.figure(figsize(15,10))\n",
    "\n",
    "counts_s = df.date[df.tripduration < 600].groupby([df.date.dt.weekday]).count()\n",
    "norm_s = 1\n",
    "error_s =np.sqrt(counts_s)\n",
    "((counts_s) / norm_s).plot(kind=\"bar\", yerr=[((error_s) / norm_s, (error_s) / norm_s)], \n",
    "                           color='IndianRed', label='Short Trips')\n",
    "\n",
    "counts_l = df.date[df.tripduration >= 600].groupby([df.date.dt.weekday]).count()\n",
    "norm_l = 1\n",
    "error_l = np.sqrt(counts_l)\n",
    "ax=((counts_l) / norm_l).plot(kind=\"bar\", alpha=0.5 ,color='SteelBlue',  yerr=[\n",
    "            ((error_l) / norm_l, (error_l) / norm_l)], label='Long Trips')\n",
    "\n",
    "ax.xaxis.set_ticklabels(['Mon','Tue','Wed','Thu','Fri','Sat','Sun'], fontsize=20)\n",
    "\n",
    "pl.title('Distribution of Citibike bikers by trip duration in January 2018, absolute counts, with statistical errors', fontsize = 20)\n",
    "pl.xlabel('Day of the week', fontsize = 20)\n",
    "pl.ylabel('Number of rides', fontsize = 20)\n",
    "pl.legend(['Short Trips','Long Trips'],fontsize=20)"
   ]
  },
  {
   "cell_type": "markdown",
   "metadata": {},
   "source": [
    "## Figure 1b: Distribution of Citibike bikers by trip duration in January 2018, absolute counts, with statistical errors"
   ]
  },
  {
   "cell_type": "markdown",
   "metadata": {},
   "source": [
    "Note: These are absolute numbers. It is very hard to compare absolute numbers. Ratios (or proportions) are more ameable to comparison, so let's _normalize_ the distribution of long trips, and that of short trips, i.e. devide them by the total number of rides for that trip duration. \n",
    "(normalize the errorbars too!)\n",
    "\n"
   ]
  },
  {
   "cell_type": "code",
   "execution_count": 11,
   "metadata": {},
   "outputs": [
    {
     "data": {
      "text/plain": [
       "<matplotlib.legend.Legend at 0x7ff9c66d6190>"
      ]
     },
     "execution_count": 11,
     "metadata": {},
     "output_type": "execute_result"
    },
    {
     "data": {
      "image/png": "[encoded data removed]",
      "text/plain": [
       "<matplotlib.figure.Figure at 0x7ff9c66d6950>"
      ]
     },
     "metadata": {},
     "output_type": "display_data"
    }
   ],
   "source": [
    "fig = pl.figure(figsize(15,10))\n",
    "\n",
    "norm_s = counts_s.sum()\n",
    "ax = ((counts_s) / norm_s).plot(kind=\"bar\", \n",
    "                                yerr=[((error_s) / norm_s, (error_s) / norm_s)], \n",
    "                                color='IndianRed', label='Short Trips')\n",
    "\n",
    "norm_l = counts_l.sum()\n",
    "error_l = np.sqrt(counts_l)\n",
    "((counts_l) / norm_l).plot(kind=\"bar\",alpha=0.5, color='SteelBlue',  \n",
    "                           yerr=[((error_l) / norm_l, (error_l) / norm_l)], \n",
    "                           label='Long Trips')\n",
    "\n",
    "ax.xaxis.set_ticklabels(['Mon', 'Tue', 'Wed', 'Thu', 'Fri', 'Sat', 'Sun'], fontsize=20)\n",
    "ax.set_ylabel (\"Fraction of rides\")\n",
    "ax.set_xlabel (\"Day of the week\")\n",
    "pl.title('Distribution of Citibike bikers by trip duration in January 2018, normalized', fontsize = 20)\n",
    "pl.xlabel('Day of the week', fontsize = 20)\n",
    "pl.ylabel('Number of rides', fontsize = 20)\n",
    "pl.legend(['Short Trips','Long Trips'],fontsize=20)"
   ]
  },
  {
   "cell_type": "markdown",
   "metadata": {},
   "source": [
    "## Figure 2: Distribution of Citibike bikers by trip duration in January 2018, normalized"
   ]
  },
  {
   "cell_type": "markdown",
   "metadata": {},
   "source": [
    "we can add up the weekday days and normalize by the totals, then this becomes a test of proportions, (like the one seen in the [employment notebook](https://github.com/fedhere/UInotebooks/blob/master/hypothesistesting/effectivenes%20of%20NYC%20Post-Prison%20Employment%20Programs.save.ipynb))"
   ]
  },
  {
   "cell_type": "markdown",
   "metadata": {},
   "source": [
    "## Set up the test of proportions\n",
    "### I need the fraction of short trip during the weekdays and the fraction during weekends, and the same for long trip"
   ]
  },
  {
   "cell_type": "code",
   "execution_count": 12,
   "metadata": {},
   "outputs": [
    {
     "name": "stdout",
     "output_type": "stream",
     "text": [
      "Long: week:0.775, weekend:0.225, weekend error:0.002, weekend error:0.001\n",
      "Short: week:0.800, weekend:0.200, weekend error:0.001, weekend error:0.001\n"
     ]
    },
    {
     "data": {
      "text/plain": [
       "<matplotlib.legend.Legend at 0x7ff9beeebdd0>"
      ]
     },
     "execution_count": 12,
     "metadata": {},
     "output_type": "execute_result"
    },
    {
     "data": {
      "image/png": "[encoded data removed]",
      "text/plain": [
       "<matplotlib.figure.Figure at 0x7ff9c63da790>"
      ]
     },
     "metadata": {},
     "output_type": "display_data"
    }
   ],
   "source": [
    "fig = pl.figure(figsize(15,6))\n",
    "ax1 = fig.add_subplot(121)\n",
    "ax2 = fig.add_subplot(122)\n",
    "ax1.set_xticks([])\n",
    "ax2.set_xticks([])\n",
    "\n",
    "week_s = sum(counts_s[:-2]) * 1.0 / norm_s  #fraction of short riding on week days\n",
    "weekend_s = sum(counts_s[-2:]) * 1.0 / norm_s  #fraction of short riding on weekends\n",
    "eweek_s = np.sqrt(sum(error_s[:-2]**2)) / norm_s  #error on fraction number of short riding on week days\n",
    "eweekend_s = np.sqrt(sum(error_s[-2:]**2)) / norm_s #error on fraction number of short riding on weekends\n",
    "\n",
    "#same nomenclature as above\n",
    "week_l = sum(counts_l[:-2]) * 1.0 / norm_l\n",
    "weekend_l = sum(counts_l[-2:]) * 1.0 / norm_l\n",
    "eweek_l = np.sqrt(sum(error_l[:-2]**2)) / norm_l\n",
    "eweekend_l = np.sqrt(sum(error_l[-2:]**2)) / norm_l\n",
    "\n",
    "print(\"Long: week:{0:.3f}, weekend:{1:.3f}, weekend error:{2:.3f}, weekend error:{3:.3f}\"\\\n",
    "      .format(week_l, weekend_l, eweek_l, eweekend_l))\n",
    "print(\"Short: week:{0:.3f}, weekend:{1:.3f}, weekend error:{2:.3f}, weekend error:{3:.3f}\"\\\n",
    "      .format(week_s, weekend_s, eweek_s, eweekend_s))\n",
    "\n",
    "ax1.errorbar([0.4], [week_l], yerr=[eweek_l], fmt='o', label='long')\n",
    "ax1.errorbar([0.2], [week_s], yerr=[eweek_s], fmt='o', label='short')\n",
    "ax1.set_xlim(0, 0.5)\n",
    "ax2.errorbar([0.4], [weekend_l], yerr=[eweekend_l], fmt='o', label='long')\n",
    "ax2.errorbar([0.2], [weekend_s], yerr=[eweekend_s], fmt='o', label='short')\n",
    "ax1.set_xlim(0, 0.5)\n",
    "ax1.set_title(\"week days\")\n",
    "ax2.set_title(\"weekends\")\n",
    "ax2.set_ylabel(\"Fraction of normalized rides by trip duration\")\n",
    "ax1.set_ylabel(\"Fraction of normalized rides by trip duration\")\n",
    "\n",
    "pl.xlim(-0.5, 1.5)\n",
    "pl.legend(fontsize = 20)"
   ]
  },
  {
   "cell_type": "markdown",
   "metadata": {},
   "source": [
    "## Figure 3: Fraction of Citibike bikers of short and long trips in January 2018 for week days (left) and weekends (right)"
   ]
  },
  {
   "cell_type": "markdown",
   "metadata": {},
   "source": [
    "### Is the percentage of long trips on weekdays lower or equal to that of short trips?\n",
    "## The statistics is: \n",
    "# $z = \\frac{(p_0 - p_1)}{SE} $\n",
    "# $p =\\frac{p_0  n_0 + p_1  n_1}{n_0+n_1}$\n",
    "# $SE = \\sqrt{ p  ( 1 - p )  (\\frac{1}{n_0} + \\frac{1}{n_1}) }$\n",
    "## and in this notation \n",
    "# $p_0 = \\frac{S_{\\mathrm{weekday}}}{S_{\\mathrm{total}}}$\n",
    "### and \n",
    "# $p_1 = \\frac{L_{\\mathrm{weekday}}}{L_{\\mathrm{total}}}$\n"
   ]
  },
  {
   "cell_type": "code",
   "execution_count": 13,
   "metadata": {},
   "outputs": [
    {
     "name": "stdout",
     "output_type": "stream",
     "text": [
      "difference between long trips and short trips on weekdays:  0.0249914111581\n",
      "We must check the significance before we reject the Null Hypothesis\n"
     ]
    }
   ],
   "source": [
    "P0mP1 = week_s - week_l\n",
    "print (\"difference between long trips and short trips on weekdays: \", P0mP1)\n",
    "if P0mP1 <= 0:\n",
    "    # we are done...\n",
    "    print(\"In accordance with Null Hypothesis\")\n",
    "else:\n",
    "    # morework to do\n",
    "    print (\"We must check the significance before we reject the Null Hypothesis\")"
   ]
  },
  {
   "cell_type": "markdown",
   "metadata": {},
   "source": [
    "### Is this difference statistically significant?"
   ]
  },
  {
   "cell_type": "code",
   "execution_count": 14,
   "metadata": {},
   "outputs": [
    {
     "name": "stdout",
     "output_type": "stream",
     "text": [
      "The z statistics is 25.60\n"
     ]
    }
   ],
   "source": [
    "# defining the functions that calculate the statistics\n",
    "# the lambda style definition is NOT APPROVED BY PEP8 and you should avoind it\n",
    "# but I am putting it here since you may encounter it in your coding life.\n",
    "# confront the equation in the markdown cell above with these function to understand as they work\n",
    "\n",
    "p = lambda p0, p1, n0, n1: (p0 * n0 + p1 * n1) / (n0 + n1)\n",
    "se = lambda p, n0, n1: np.sqrt(p * (1 - p) * (1.0 / n0 + 1.0 / n1)) #standard error\n",
    "zscore = lambda p0, p1, s : (p0 - p1) / s\n",
    "\n",
    "# calculations\n",
    "\n",
    "sp_stdev_ls = se(p(week_s, week_l, norm_s, norm_l), norm_s, norm_l)\n",
    "# print (sp_stdev_ls)\n",
    "z = zscore(week_s, week_l, sp_stdev_ls)\n",
    "print (\"The z statistics is %.2f\"%z) "
   ]
  },
  {
   "cell_type": "markdown",
   "metadata": {},
   "source": [
    "## The largest number reported in  z stats tables is (typically) 25.60, which gives  a p value\n",
    "## $p =0$, which is smaller then my chosen $\\alpha=0.05$ \n",
    "## so yes, it is statistically significant (by a lot!)"
   ]
  },
  {
   "cell_type": "markdown",
   "metadata": {},
   "source": [
    "# We reject the Null Hypothesis that the proportion of trips whose duration is less than 10 minutes on weekdays is the same or lower than the proportion of trips whose duration is more than 10 minutes on weekdays. $p< 0.05$\n"
   ]
  },
  {
   "cell_type": "markdown",
   "metadata": {},
   "source": [
    "__________________________________________________________________________________________________________________\n",
    "__________________________________________________________________________________________________________________\n",
    "__________________________________________________________________________________________________________________\n",
    "__________________________________________________________________________________________________________________\n",
    "__________________________________________________________________________________________________________________\n",
    "__________________________________________________________________________________________________________________\n",
    "__________________________________________________________________________________________________________________\n",
    "__________________________________________________________________________________________________________________\n",
    "\n",
    "# Check the robustness of your answer with another citibike dataset (unless you used all of the data at once!)\n",
    "\n",
    "## Lets see if our test holds in the summer, when people clothes may get less in the way to riding\n",
    "\n",
    "### notice that it is not very pythonic to just copy and paste code as I am doing here! Everything that needs to be done more than once should be done in a function. Why? Because that way if I make any changes I do not run the risk to forget to make the change in one of the spots! (Also it helps readability)"
   ]
  },
  {
   "cell_type": "code",
   "execution_count": 15,
   "metadata": {},
   "outputs": [
    {
     "name": "stdout",
     "output_type": "stream",
     "text": [
      "Downloading 201807\n",
      "file in place, you can continue\n"
     ]
    }
   ],
   "source": [
    "datestring = '201807'\n",
    "getCitiBikeCSV(datestring)"
   ]
  },
  {
   "cell_type": "code",
   "execution_count": 16,
   "metadata": {},
   "outputs": [
    {
     "data": {
      "text/html": [
       "<div>\n",
       "<table border=\"1\" class=\"dataframe\">\n",
       "  <thead>\n",
       "    <tr style=\"text-align: right;\">\n",
       "      <th></th>\n",
       "      <th>tripduration</th>\n",
       "      <th>starttime</th>\n",
       "      <th>stoptime</th>\n",
       "      <th>start station id</th>\n",
       "      <th>start station name</th>\n",
       "      <th>start station latitude</th>\n",
       "      <th>start station longitude</th>\n",
       "      <th>end station id</th>\n",
       "      <th>end station name</th>\n",
       "      <th>end station latitude</th>\n",
       "      <th>end station longitude</th>\n",
       "      <th>bikeid</th>\n",
       "      <th>usertype</th>\n",
       "      <th>birth year</th>\n",
       "      <th>gender</th>\n",
       "      <th>date</th>\n",
       "    </tr>\n",
       "  </thead>\n",
       "  <tbody>\n",
       "    <tr>\n",
       "      <th>0</th>\n",
       "      <td>500</td>\n",
       "      <td>2018-07-01 00:33:51.2640</td>\n",
       "      <td>2018-07-01 00:42:12.0280</td>\n",
       "      <td>72</td>\n",
       "      <td>W 52 St &amp; 11 Ave</td>\n",
       "      <td>40.767272</td>\n",
       "      <td>-73.993929</td>\n",
       "      <td>3236</td>\n",
       "      <td>W 42 St &amp; Dyer Ave</td>\n",
       "      <td>40.758985</td>\n",
       "      <td>-73.993800</td>\n",
       "      <td>16583</td>\n",
       "      <td>Subscriber</td>\n",
       "      <td>1981</td>\n",
       "      <td>1</td>\n",
       "      <td>2018-07-01 00:33:51.264</td>\n",
       "    </tr>\n",
       "    <tr>\n",
       "      <th>1</th>\n",
       "      <td>455</td>\n",
       "      <td>2018-07-01 02:06:54.0270</td>\n",
       "      <td>2018-07-01 02:14:29.0900</td>\n",
       "      <td>72</td>\n",
       "      <td>W 52 St &amp; 11 Ave</td>\n",
       "      <td>40.767272</td>\n",
       "      <td>-73.993929</td>\n",
       "      <td>529</td>\n",
       "      <td>W 42 St &amp; 8 Ave</td>\n",
       "      <td>40.757570</td>\n",
       "      <td>-73.990985</td>\n",
       "      <td>31481</td>\n",
       "      <td>Subscriber</td>\n",
       "      <td>1988</td>\n",
       "      <td>1</td>\n",
       "      <td>2018-07-01 02:06:54.027</td>\n",
       "    </tr>\n",
       "    <tr>\n",
       "      <th>2</th>\n",
       "      <td>1080</td>\n",
       "      <td>2018-07-01 02:09:16.4640</td>\n",
       "      <td>2018-07-01 02:27:17.0290</td>\n",
       "      <td>72</td>\n",
       "      <td>W 52 St &amp; 11 Ave</td>\n",
       "      <td>40.767272</td>\n",
       "      <td>-73.993929</td>\n",
       "      <td>453</td>\n",
       "      <td>W 22 St &amp; 8 Ave</td>\n",
       "      <td>40.744751</td>\n",
       "      <td>-73.999154</td>\n",
       "      <td>25004</td>\n",
       "      <td>Subscriber</td>\n",
       "      <td>1982</td>\n",
       "      <td>2</td>\n",
       "      <td>2018-07-01 02:09:16.464</td>\n",
       "    </tr>\n",
       "    <tr>\n",
       "      <th>3</th>\n",
       "      <td>632</td>\n",
       "      <td>2018-07-01 02:55:04.5870</td>\n",
       "      <td>2018-07-01 03:05:36.7910</td>\n",
       "      <td>72</td>\n",
       "      <td>W 52 St &amp; 11 Ave</td>\n",
       "      <td>40.767272</td>\n",
       "      <td>-73.993929</td>\n",
       "      <td>465</td>\n",
       "      <td>Broadway &amp; W 41 St</td>\n",
       "      <td>40.755136</td>\n",
       "      <td>-73.986580</td>\n",
       "      <td>25867</td>\n",
       "      <td>Subscriber</td>\n",
       "      <td>1986</td>\n",
       "      <td>1</td>\n",
       "      <td>2018-07-01 02:55:04.587</td>\n",
       "    </tr>\n",
       "    <tr>\n",
       "      <th>4</th>\n",
       "      <td>1676</td>\n",
       "      <td>2018-07-01 03:24:27.4350</td>\n",
       "      <td>2018-07-01 03:52:23.7760</td>\n",
       "      <td>72</td>\n",
       "      <td>W 52 St &amp; 11 Ave</td>\n",
       "      <td>40.767272</td>\n",
       "      <td>-73.993929</td>\n",
       "      <td>3425</td>\n",
       "      <td>2 Ave &amp; E 104 St</td>\n",
       "      <td>40.789210</td>\n",
       "      <td>-73.943708</td>\n",
       "      <td>31351</td>\n",
       "      <td>Subscriber</td>\n",
       "      <td>1992</td>\n",
       "      <td>1</td>\n",
       "      <td>2018-07-01 03:24:27.435</td>\n",
       "    </tr>\n",
       "  </tbody>\n",
       "</table>\n",
       "</div>"
      ],
      "text/plain": [
       "   tripduration                 starttime                  stoptime  \\\n",
       "0           500  2018-07-01 00:33:51.2640  2018-07-01 00:42:12.0280   \n",
       "1           455  2018-07-01 02:06:54.0270  2018-07-01 02:14:29.0900   \n",
       "2          1080  2018-07-01 02:09:16.4640  2018-07-01 02:27:17.0290   \n",
       "3           632  2018-07-01 02:55:04.5870  2018-07-01 03:05:36.7910   \n",
       "4          1676  2018-07-01 03:24:27.4350  2018-07-01 03:52:23.7760   \n",
       "\n",
       "   start station id start station name  start station latitude  \\\n",
       "0                72   W 52 St & 11 Ave               40.767272   \n",
       "1                72   W 52 St & 11 Ave               40.767272   \n",
       "2                72   W 52 St & 11 Ave               40.767272   \n",
       "3                72   W 52 St & 11 Ave               40.767272   \n",
       "4                72   W 52 St & 11 Ave               40.767272   \n",
       "\n",
       "   start station longitude  end station id    end station name  \\\n",
       "0               -73.993929            3236  W 42 St & Dyer Ave   \n",
       "1               -73.993929             529     W 42 St & 8 Ave   \n",
       "2               -73.993929             453     W 22 St & 8 Ave   \n",
       "3               -73.993929             465  Broadway & W 41 St   \n",
       "4               -73.993929            3425    2 Ave & E 104 St   \n",
       "\n",
       "   end station latitude  end station longitude  bikeid    usertype  \\\n",
       "0             40.758985             -73.993800   16583  Subscriber   \n",
       "1             40.757570             -73.990985   31481  Subscriber   \n",
       "2             40.744751             -73.999154   25004  Subscriber   \n",
       "3             40.755136             -73.986580   25867  Subscriber   \n",
       "4             40.789210             -73.943708   31351  Subscriber   \n",
       "\n",
       "   birth year  gender                    date  \n",
       "0        1981       1 2018-07-01 00:33:51.264  \n",
       "1        1988       1 2018-07-01 02:06:54.027  \n",
       "2        1982       2 2018-07-01 02:09:16.464  \n",
       "3        1986       1 2018-07-01 02:55:04.587  \n",
       "4        1992       1 2018-07-01 03:24:27.435  "
      ]
     },
     "execution_count": 16,
     "metadata": {},
     "output_type": "execute_result"
    }
   ],
   "source": [
    "df_07 = pd.read_csv(os.getenv(\"PUIDATA\") + \"/\" + datestring + '-citibike-tripdata.csv')\n",
    "df_07['date'] = pd.to_datetime(df_07.starttime)\n",
    "df_07.head()"
   ]
  },
  {
   "cell_type": "code",
   "execution_count": 17,
   "metadata": {},
   "outputs": [
    {
     "data": {
      "text/html": [
       "<div>\n",
       "<table border=\"1\" class=\"dataframe\">\n",
       "  <thead>\n",
       "    <tr style=\"text-align: right;\">\n",
       "      <th></th>\n",
       "      <th>tripduration</th>\n",
       "      <th>date</th>\n",
       "    </tr>\n",
       "  </thead>\n",
       "  <tbody>\n",
       "    <tr>\n",
       "      <th>0</th>\n",
       "      <td>500</td>\n",
       "      <td>2018-07-01 00:33:51.264</td>\n",
       "    </tr>\n",
       "    <tr>\n",
       "      <th>1</th>\n",
       "      <td>455</td>\n",
       "      <td>2018-07-01 02:06:54.027</td>\n",
       "    </tr>\n",
       "    <tr>\n",
       "      <th>2</th>\n",
       "      <td>1080</td>\n",
       "      <td>2018-07-01 02:09:16.464</td>\n",
       "    </tr>\n",
       "    <tr>\n",
       "      <th>3</th>\n",
       "      <td>632</td>\n",
       "      <td>2018-07-01 02:55:04.587</td>\n",
       "    </tr>\n",
       "    <tr>\n",
       "      <th>4</th>\n",
       "      <td>1676</td>\n",
       "      <td>2018-07-01 03:24:27.435</td>\n",
       "    </tr>\n",
       "  </tbody>\n",
       "</table>\n",
       "</div>"
      ],
      "text/plain": [
       "   tripduration                    date\n",
       "0           500 2018-07-01 00:33:51.264\n",
       "1           455 2018-07-01 02:06:54.027\n",
       "2          1080 2018-07-01 02:09:16.464\n",
       "3           632 2018-07-01 02:55:04.587\n",
       "4          1676 2018-07-01 03:24:27.435"
      ]
     },
     "execution_count": 17,
     "metadata": {},
     "output_type": "execute_result"
    }
   ],
   "source": [
    "df_07.drop(['starttime', 'stoptime', 'start station id',\n",
    "       'start station name', 'start station latitude',\n",
    "       'start station longitude', 'end station id', 'end station name',\n",
    "       'end station latitude', 'end station longitude', 'bikeid', 'usertype',\n",
    "       'birth year', 'gender'], axis=1, inplace=True)\n",
    "df_07.head()"
   ]
  },
  {
   "cell_type": "code",
   "execution_count": 18,
   "metadata": {},
   "outputs": [
    {
     "data": {
      "text/plain": [
       "<matplotlib.legend.Legend at 0x7ff9c68a1a10>"
      ]
     },
     "execution_count": 18,
     "metadata": {},
     "output_type": "execute_result"
    },
    {
     "data": {
      "image/png": "[encoded data removed]",
      "text/plain": [
       "<matplotlib.figure.Figure at 0x7ff9ad247a50>"
      ]
     },
     "metadata": {},
     "output_type": "display_data"
    }
   ],
   "source": [
    "fig=pl.figure(figsize(15,10))\n",
    "\n",
    "counts_s07 = df_07.date[df_07.tripduration < 600].groupby([df_07.date.dt.weekday]).count()\n",
    "norm_s07 = counts_s07.sum()\n",
    "error_s07 = np.sqrt(counts_s07)\n",
    "\n",
    "((counts_s07) / norm_s07).plot(kind=\"bar\",color='IndianRed',  yerr=[\n",
    "            ((error_s07) / norm_s07, (error_s07) / norm_s07)], label='Short trips, July')\n",
    "\n",
    "counts_l07 = df_07.date[df_07.tripduration >= 600].groupby([df_07.date.dt.weekday]).count()\n",
    "norm_l07 = counts_l07.sum()\n",
    "error_l07 = np.sqrt(counts_l07)\n",
    "ax=((counts_l07) / norm_l07).plot(kind=\"bar\", alpha=0.5, \n",
    "                                  yerr=[((error_l07) / norm_l07, (error_l07) / norm_l07)], \n",
    "                                  color=\"SteelBlue\", label='Long trips, July')\n",
    "\n",
    "ax.xaxis.set_ticklabels(['Mon','Tue','Wed','Thu','Fri','Sat','Sun'], fontsize=20)\n",
    "ax.set_ylabel (\"Fraction of rides\")\n",
    "ax.set_xlabel (\"Day of the week\")\n",
    "\n",
    "pl.legend(['Short trips','Long trips'],fontsize=20)"
   ]
  },
  {
   "cell_type": "markdown",
   "metadata": {},
   "source": [
    "## Figure 4: Distribution of Citibike bikers by trip duration in July 2018, normalized"
   ]
  },
  {
   "cell_type": "code",
   "execution_count": 19,
   "metadata": {},
   "outputs": [
    {
     "name": "stdout",
     "output_type": "stream",
     "text": [
      "Long: week:0.710, weekend:0.290, weekend error:0.001, weekend error:0.001\n",
      "Short: week:0.768, weekend:0.232, weekend error:0.001, weekend error:0.001\n"
     ]
    },
    {
     "data": {
      "text/plain": [
       "<matplotlib.legend.Legend at 0x7ff9c684b850>"
      ]
     },
     "execution_count": 19,
     "metadata": {},
     "output_type": "execute_result"
    },
    {
     "data": {
      "image/png": "[encoded data removed]",
      "text/plain": [
       "<matplotlib.figure.Figure at 0x7ff9c433a690>"
      ]
     },
     "metadata": {},
     "output_type": "display_data"
    }
   ],
   "source": [
    "fig=pl.figure(figsize(15,6))\n",
    "ax1=fig.add_subplot(121)\n",
    "ax2=fig.add_subplot(122)\n",
    "ax1.set_xticks([])\n",
    "ax2.set_xticks([])\n",
    "\n",
    "week_s07 = sum(counts_s07[:-2]) * 1.0 / norm_s07\n",
    "weekend_s07 = sum(counts_s07[-2:])*1.0 / norm_s07\n",
    "eweek_s07 = np.sqrt(sum(error_s07[:-2]**2)) / norm_s07\n",
    "eweekend_s07 = np.sqrt(sum(error_s07[-2:]**2)) / norm_s07\n",
    "\n",
    "week_l07 = sum(counts_l07[:-2]) * 1.0 / norm_l07\n",
    "weekend_l07 = sum(counts_l07[-2:]) * 1.0 / norm_l07\n",
    "eweek_l07 = np.sqrt(sum(error_l07[:-2]**2)) / norm_l07\n",
    "eweekend_l07 = np.sqrt(sum(error_l07[-2:]**2)) / norm_l07\n",
    "\n",
    "print(\"Long: week:{0:.3f}, weekend:{1:.3f}, weekend error:{2:.3f}, weekend error:{3:.3f}\"\\\n",
    "      .format(week_l07, weekend_l07, eweek_l07, eweekend_l07))\n",
    "print(\"Short: week:{0:.3f}, weekend:{1:.3f}, weekend error:{2:.3f}, weekend error:{3:.3f}\"\\\n",
    "      .format(week_s07, weekend_s07, eweek_s07, eweekend_s07))\n",
    "\n",
    "ax1.errorbar([0.2],[week_s07], yerr=[eweek_s07], fmt='o', label='Short')\n",
    "ax1.errorbar([0.4],[week_l07], yerr=[eweek_l07], fmt='o', label='Long')\n",
    "ax1.set_xlim(0,0.5)\n",
    "ax2.errorbar([0.2],[weekend_s07], yerr=[eweekend_s07], fmt='o', label='Short')\n",
    "ax2.errorbar([0.4],[weekend_l07], yerr=[eweekend_l07], fmt='o', label='Long')\n",
    "ax1.set_xlim(0,0.5)\n",
    "ax1.set_title(\"week days\")\n",
    "ax2.set_title(\"weekends\")\n",
    "ax2.set_ylabel(\"Fraction of normalized rides by trip duration\")\n",
    "ax1.set_ylabel(\"Fraction of normalized rides by trip duration\")\n",
    "\n",
    "pl.xlim(-0.5,1.5)\n",
    "pl.legend(fontsize=20)"
   ]
  },
  {
   "cell_type": "markdown",
   "metadata": {},
   "source": [
    "## Figure 5: Fraction of Citibike bikers of short and long trips in July 2018 for week days (left) and weekends (right)"
   ]
  },
  {
   "cell_type": "code",
   "execution_count": 20,
   "metadata": {},
   "outputs": [
    {
     "name": "stdout",
     "output_type": "stream",
     "text": [
      "The z statistics is 91.92\n"
     ]
    }
   ],
   "source": [
    "sp_stdev_ls07 = se(p(week_s07, week_l07, norm_s07, norm_l07), norm_s07, norm_l07)\n",
    "# print (sp_stdev_lw)\n",
    "z07 = zscore(week_s07, week_l07, sp_stdev_ls07)\n",
    "print (\"The z statistics is %.2f\"%z07)"
   ]
  },
  {
   "cell_type": "markdown",
   "metadata": {},
   "source": [
    "## The z statstic is much larger in the Summer! Larger z means farther into the significance reagion\n",
    "# We reject the Null Hypothesis that the proportion of trips whose duration is less than 10 minutes on weekdays is the same or lower than the proportion of trips whose duration is more than 10 minutes on weekdays. $p< 0.05$ And in the summer aswell, \n",
    "# and my hypothesis is robust to seasonality\n",
    "\n",
    "***"
   ]
  },
  {
   "cell_type": "markdown",
   "metadata": {},
   "source": [
    "# BUT inreality ... there are many more riders in the summer, \n",
    "# so the increase in statistical significance may not be due to a larger effect, but not to a larger effect.\n",
    "# Let's check the _effect size_: \n",
    "# there are 2 formulae I find in the literature\n",
    "# $r = \\frac{z}{\\sqrt{(n_0+n_1)}}$\n",
    "# and\n",
    "# $h =  2 (\\arcsin \\sqrt{p_0} -  \\arcsin \\sqrt{p_1} )$. https://en.wikipedia.org/wiki/Cohen%27s_h"
   ]
  },
  {
   "cell_type": "code",
   "execution_count": 21,
   "metadata": {},
   "outputs": [],
   "source": [
    "r = lambda z, n0, n1 : z / np.sqrt(n0+n0)\n",
    "h = lambda p0, p1: 2 * (np.arcsin(np.sqrt(p0)) - np.arcsin(np.sqrt(p1)))"
   ]
  },
  {
   "cell_type": "code",
   "execution_count": 22,
   "metadata": {},
   "outputs": [
    {
     "name": "stdout",
     "output_type": "stream",
     "text": [
      "0.027824024196 0.0695054468212\n"
     ]
    }
   ],
   "source": [
    "r01 = r(z, norm_s, norm_l)\n",
    "r07 = r(z07, norm_s07, norm_l07)\n",
    "print (r01, r07)"
   ]
  },
  {
   "cell_type": "code",
   "execution_count": 23,
   "metadata": {},
   "outputs": [
    {
     "name": "stdout",
     "output_type": "stream",
     "text": [
      "0.0611495582418 0.133995854166\n"
     ]
    }
   ],
   "source": [
    "h01 = h(week_s, week_l)\n",
    "h07 = h(week_s07, week_l07)\n",
    "print (h01, h07)"
   ]
  },
  {
   "cell_type": "markdown",
   "metadata": {},
   "source": [
    "# In all these cases we have SMALL EFFECT SIZE, and in both cases larger for the summer data, and the statistiocal significance is higher as well."
   ]
  }
 ],
 "metadata": {
  "anaconda-cloud": {},
  "kernelspec": {
   "display_name": "PUI2016_Python2",
   "language": "python",
   "name": "pui2016_python2"
  },
  "language_info": {
   "codemirror_mode": {
    "name": "ipython",
    "version": 2
   },
   "file_extension": ".py",
   "mimetype": "text/x-python",
   "name": "python",
   "nbconvert_exporter": "python",
   "pygments_lexer": "ipython2",
   "version": "2.7.12"
  }
 },
 "nbformat": 4,
 "nbformat_minor": 1
}
